{
 "cells": [
  {
   "cell_type": "code",
   "execution_count": 86,
   "id": "84c8b030",
   "metadata": {
    "ExecuteTime": {
     "end_time": "2024-03-22T10:48:29.614718Z",
     "start_time": "2024-03-22T10:48:29.603718Z"
    }
   },
   "outputs": [],
   "source": [
    "import matplotlib.pyplot as plt\n",
    "import pandas as pd\n",
    "import numpy as np\n",
    "import seaborn as sns\n",
    "import warnings\n",
    "import xgboost as xgb\n",
    "import copy\n",
    "from sklearn.model_selection import train_test_split,GridSearchCV\n",
    "from sklearn.feature_extraction import DictVectorizer\n",
    "from sklearn.ensemble import RandomForestRegressor,GradientBoostingRegressor\n",
    "from sklearn.metrics import mean_squared_error\n",
    "warnings.filterwarnings('ignore')#忽略一些警告"
   ]
  },
  {
   "cell_type": "code",
   "execution_count": 87,
   "id": "10bdcc20",
   "metadata": {
    "ExecuteTime": {
     "end_time": "2024-03-22T10:48:30.047246Z",
     "start_time": "2024-03-22T10:48:30.027246Z"
    }
   },
   "outputs": [],
   "source": [
    "#导入相关包\n",
    "import pandas as pd\n",
    "import numpy as np\n",
    "import matplotlib.pyplot as plt\n",
    "pd.set_option('mode.chained_assignment',None) \n",
    "#不再弹出settingwithcopywarining警告\n",
    "import seaborn as sns\n",
    "plt.rcParams['font.sans-serif']=['SimHei']\n",
    "plt.rcParams['axes.unicode_minus']=False"
   ]
  },
  {
   "cell_type": "code",
   "execution_count": 88,
   "id": "25894ec3",
   "metadata": {
    "ExecuteTime": {
     "end_time": "2024-03-22T10:48:30.436486Z",
     "start_time": "2024-03-22T10:48:30.427487Z"
    }
   },
   "outputs": [],
   "source": [
    "#模型构建\n",
    "from sklearn.model_selection import train_test_split #数据集划分\n",
    "from sklearn.ensemble import RandomForestClassifier # 随机森林\n",
    "from sklearn.metrics import confusion_matrix, classification_report #报告\n",
    "from sklearn.tree import DecisionTreeClassifier #决策树\n",
    "from sklearn.linear_model import LogisticRegression #逻辑回归\n",
    "from sklearn.metrics import accuracy_score #精确度\n",
    "from sklearn import metrics\n",
    "from sklearn.metrics import roc_curve, classification_report, confusion_matrix, accuracy_score, recall_score, auc"
   ]
  },
  {
   "cell_type": "code",
   "execution_count": 89,
   "id": "ecaf0250",
   "metadata": {
    "ExecuteTime": {
     "end_time": "2024-03-22T10:48:37.234759Z",
     "start_time": "2024-03-22T10:48:31.604051Z"
    }
   },
   "outputs": [],
   "source": [
    "data=pd.read_excel(\"E://IT//毕设//result/data_eleven.xlsx\")"
   ]
  },
  {
   "cell_type": "code",
   "execution_count": 90,
   "id": "5870661a",
   "metadata": {
    "ExecuteTime": {
     "end_time": "2024-03-22T10:48:37.250161Z",
     "start_time": "2024-03-22T10:48:37.236738Z"
    }
   },
   "outputs": [],
   "source": [
    "data_first=pd.DataFrame(data)"
   ]
  },
  {
   "cell_type": "code",
   "execution_count": 91,
   "id": "5034a02d",
   "metadata": {
    "ExecuteTime": {
     "end_time": "2024-03-22T10:48:37.266168Z",
     "start_time": "2024-03-22T10:48:37.252169Z"
    }
   },
   "outputs": [
    {
     "data": {
      "text/plain": [
       "Index(['租金', '面积(平方米)', '押金', '判断押金', '服务费', '中介费', 'A地铁线', 'B地铁线', 'C地铁线',\n",
       "       '大区标签', '品牌标签', '租赁方式标签', '户型标签', '装修标签', '朝向标签', '电梯_标签', '车位_标签',\n",
       "       '用水_标签', '用电_标签', '燃气_标签', '采暖_标签', 'A付款方式标签', 'B付款方式标签', 'C付款方式标签',\n",
       "       '楼层标签', '卧室', '客厅', '卫生间', '房+卫+厅', '房/总', '卫/总', '厅/总', '卧室面积', '户型',\n",
       "       '是否地铁', '平均值特征1', '大区+街道平均值特征', '朝向标签平均值特征', 'A地铁线平均值特征', '大区英文平均值特征',\n",
       "       '房屋配置聚类标签', '平均值特征2', '房屋装修聚类标签', '平均值特征3', '房屋费用聚类标签', '平均值特征4',\n",
       "       '房屋便利聚类标签', '平均值特征5', '小区_标签'],\n",
       "      dtype='object')"
      ]
     },
     "execution_count": 91,
     "metadata": {},
     "output_type": "execute_result"
    }
   ],
   "source": [
    "data_first.columns"
   ]
  },
  {
   "cell_type": "code",
   "execution_count": 92,
   "id": "bf6a55f5",
   "metadata": {
    "ExecuteTime": {
     "end_time": "2024-03-22T10:48:37.282176Z",
     "start_time": "2024-03-22T10:48:37.268181Z"
    }
   },
   "outputs": [
    {
     "data": {
      "text/plain": [
       "租金            0\n",
       "面积(平方米)       0\n",
       "押金            0\n",
       "判断押金          0\n",
       "服务费           0\n",
       "中介费           0\n",
       "A地铁线          0\n",
       "B地铁线          0\n",
       "C地铁线          0\n",
       "大区标签          0\n",
       "品牌标签          0\n",
       "租赁方式标签        0\n",
       "户型标签          0\n",
       "装修标签          0\n",
       "朝向标签          0\n",
       "电梯_标签         0\n",
       "车位_标签         0\n",
       "用水_标签         0\n",
       "用电_标签         0\n",
       "燃气_标签         0\n",
       "采暖_标签         0\n",
       "A付款方式标签       0\n",
       "B付款方式标签       0\n",
       "C付款方式标签       0\n",
       "楼层标签          0\n",
       "卧室            0\n",
       "客厅            0\n",
       "卫生间           0\n",
       "房+卫+厅         0\n",
       "房/总           0\n",
       "卫/总           0\n",
       "厅/总           0\n",
       "卧室面积          0\n",
       "户型            0\n",
       "是否地铁          0\n",
       "平均值特征1        0\n",
       "大区+街道平均值特征    0\n",
       "朝向标签平均值特征     0\n",
       "A地铁线平均值特征     0\n",
       "大区英文平均值特征     0\n",
       "房屋配置聚类标签      0\n",
       "平均值特征2        0\n",
       "房屋装修聚类标签      0\n",
       "平均值特征3        0\n",
       "房屋费用聚类标签      0\n",
       "平均值特征4        0\n",
       "房屋便利聚类标签      0\n",
       "平均值特征5        0\n",
       "小区_标签         0\n",
       "dtype: int64"
      ]
     },
     "execution_count": 92,
     "metadata": {},
     "output_type": "execute_result"
    }
   ],
   "source": [
    "nan_count = data_first.isnull().sum()\n",
    "nan_count"
   ]
  },
  {
   "cell_type": "code",
   "execution_count": 24,
   "id": "686c4f9e",
   "metadata": {
    "ExecuteTime": {
     "end_time": "2024-03-22T08:50:27.445813Z",
     "start_time": "2024-03-22T08:50:27.426602Z"
    }
   },
   "outputs": [
    {
     "name": "stdout",
     "output_type": "stream",
     "text": [
      "租金\n",
      "4500    400\n",
      "5000    377\n",
      "5500    376\n",
      "6000    369\n",
      "3500    348\n",
      "       ... \n",
      "1320      1\n",
      "5459      1\n",
      "3480      1\n",
      "4650      1\n",
      "7390      1\n",
      "Name: count, Length: 489, dtype: int64\n"
     ]
    }
   ],
   "source": [
    "feature_name=[ '面积(平方米)', '押金', '判断押金', '服务费', '中介费', 'A地铁线', 'B地铁线', 'C地铁线',\n",
    "       '大区标签', '品牌标签', '租赁方式标签', '户型标签', '装修标签', '朝向标签', '电梯_标签', '车位_标签',\n",
    "       '用水_标签', '用电_标签', '燃气_标签', '采暖_标签', 'A付款方式标签', 'B付款方式标签', 'C付款方式标签',\n",
    "       '楼层标签', '卧室', '客厅', '卫生间', '房+卫+厅', '房/总', '卫/总', '厅/总', '卧室面积', '户型',\n",
    "       '是否地铁', '平均值特征1', '大区+街道平均值特征', '朝向标签平均值特征', 'A地铁线平均值特征', '大区英文平均值特征',\n",
    "       '房屋配置聚类标签', '平均值特征2', '房屋装修聚类标签', '平均值特征3', '房屋费用聚类标签', '平均值特征4',\n",
    "       '房屋便利聚类标签', '平均值特征5', '小区_标签']\n",
    "X=data_first.loc[:,feature_name] #自变量\n",
    "y=data_first.loc[:,'租金'] #应变量\n",
    "print(y.value_counts())"
   ]
  },
  {
   "cell_type": "code",
   "execution_count": 93,
   "id": "c0096c9b",
   "metadata": {
    "ExecuteTime": {
     "end_time": "2024-03-22T10:50:43.452905Z",
     "start_time": "2024-03-22T10:50:43.429692Z"
    }
   },
   "outputs": [],
   "source": [
    "X_train, X_test, y_train, y_test = train_test_split(X,y,test_size=0.2)"
   ]
  },
  {
   "cell_type": "code",
   "execution_count": 94,
   "id": "66bf91e7",
   "metadata": {
    "ExecuteTime": {
     "end_time": "2024-03-22T10:50:44.538006Z",
     "start_time": "2024-03-22T10:50:44.499980Z"
    }
   },
   "outputs": [],
   "source": [
    "# Scaling the data\n",
    "y_train= y_train.values.reshape(-1,1)\n",
    "y_test= y_test.values.reshape(-1,1)\n",
    "\n",
    "from sklearn.preprocessing import StandardScaler\n",
    "sc_X = StandardScaler()\n",
    "sc_y = StandardScaler()\n",
    "X_train = sc_X.fit_transform(X_train)\n",
    "X_test = sc_X.fit_transform(X_test)\n",
    "y_train = sc_X.fit_transform(y_train)\n",
    "y_test = sc_y.fit_transform(y_test)"
   ]
  },
  {
   "cell_type": "code",
   "execution_count": 95,
   "id": "6a0e3dfa",
   "metadata": {
    "ExecuteTime": {
     "end_time": "2024-03-22T10:50:45.842927Z",
     "start_time": "2024-03-22T10:50:45.831926Z"
    }
   },
   "outputs": [
    {
     "name": "stdout",
     "output_type": "stream",
     "text": [
      "[[ 0.03497438  0.15600843 -0.11119007 ...  1.80502454 -0.36143278\n",
      "   1.81157115]\n",
      " [ 0.79308086  0.39320006  1.83558157 ... -0.78165804  0.70823937\n",
      "   1.87772725]\n",
      " [ 0.19627363 -0.0811832  -0.11119007 ... -0.78165804  0.70823937\n",
      "   0.82887751]\n",
      " ...\n",
      " [-0.28762412 -0.0811832  -0.11119007 ... -0.78165804  0.70823937\n",
      "   0.38094563]\n",
      " [-0.810395   -0.45120214 -0.11119007 ...  1.80502454 -0.36143278\n",
      "   0.18109909]\n",
      " [-0.75248857 -0.29939949 -0.11119007 ... -0.78165804  0.70823937\n",
      "  -1.21920489]] [[ 1.99492782]\n",
      " [-1.42540922]\n",
      " [ 0.90564851]\n",
      " ...\n",
      " [ 0.90564851]\n",
      " [-0.79362722]\n",
      " [-0.09648846]]\n"
     ]
    }
   ],
   "source": [
    "print(X_train,y_train)"
   ]
  },
  {
   "cell_type": "code",
   "execution_count": 96,
   "id": "0bb85e18",
   "metadata": {
    "ExecuteTime": {
     "end_time": "2024-03-22T10:50:46.150513Z",
     "start_time": "2024-03-22T10:50:46.141515Z"
    }
   },
   "outputs": [
    {
     "data": {
      "text/plain": [
       "array([[ 0.03497438,  0.15600843, -0.11119007, ...,  1.80502454,\n",
       "        -0.36143278,  1.81157115],\n",
       "       [ 0.79308086,  0.39320006,  1.83558157, ..., -0.78165804,\n",
       "         0.70823937,  1.87772725],\n",
       "       [ 0.19627363, -0.0811832 , -0.11119007, ..., -0.78165804,\n",
       "         0.70823937,  0.82887751],\n",
       "       ...,\n",
       "       [-0.28762412, -0.0811832 , -0.11119007, ..., -0.78165804,\n",
       "         0.70823937,  0.38094563],\n",
       "       [-0.810395  , -0.45120214, -0.11119007, ...,  1.80502454,\n",
       "        -0.36143278,  0.18109909],\n",
       "       [-0.75248857, -0.29939949, -0.11119007, ..., -0.78165804,\n",
       "         0.70823937, -1.21920489]])"
      ]
     },
     "execution_count": 96,
     "metadata": {},
     "output_type": "execute_result"
    }
   ],
   "source": [
    "X_train"
   ]
  },
  {
   "cell_type": "code",
   "execution_count": 97,
   "id": "88c831ab",
   "metadata": {
    "ExecuteTime": {
     "end_time": "2024-03-22T10:50:47.292152Z",
     "start_time": "2024-03-22T10:50:47.274153Z"
    }
   },
   "outputs": [
    {
     "data": {
      "text/plain": [
       "array([[ 1.99492782],\n",
       "       [-1.42540922],\n",
       "       [ 0.90564851],\n",
       "       ...,\n",
       "       [ 0.90564851],\n",
       "       [-0.79362722],\n",
       "       [-0.09648846]])"
      ]
     },
     "execution_count": 97,
     "metadata": {},
     "output_type": "execute_result"
    }
   ],
   "source": [
    "y_train"
   ]
  },
  {
   "cell_type": "code",
   "execution_count": 98,
   "id": "bf8b37d5",
   "metadata": {
    "ExecuteTime": {
     "end_time": "2024-03-22T10:50:49.911756Z",
     "start_time": "2024-03-22T10:50:49.891756Z"
    }
   },
   "outputs": [],
   "source": [
    "import numpy as np \n",
    "import pandas as pd\n",
    "import matplotlib.pyplot as plt\n",
    "import seaborn as sns\n",
    "import plotly.express as px\n",
    "\n",
    "from wordcloud import WordCloud\n",
    "from sklearn import metrics\n",
    "from sklearn.model_selection import train_test_split, cross_val_score\n",
    "from sklearn.linear_model import LinearRegression\n",
    "from sklearn.tree import DecisionTreeRegressor\n",
    "from sklearn.ensemble import RandomForestRegressor\n",
    "from sklearn.svm import SVR\n",
    "from sklearn.metrics import r2_score, mean_absolute_error, mean_squared_error\n",
    "\n",
    "import warnings\n",
    "warnings.filterwarnings('ignore')"
   ]
  },
  {
   "cell_type": "markdown",
   "id": "a07ecf0c",
   "metadata": {},
   "source": [
    "## Linear Regression"
   ]
  },
  {
   "cell_type": "code",
   "execution_count": 36,
   "id": "e5bb1e9c",
   "metadata": {
    "ExecuteTime": {
     "end_time": "2024-03-22T09:02:38.276756Z",
     "start_time": "2024-03-22T09:02:38.236911Z"
    }
   },
   "outputs": [],
   "source": [
    "from sklearn.linear_model import LinearRegression\n",
    "\n",
    "lm = LinearRegression()\n",
    "lm.fit(X_train,y_train)\n",
    "lm_prediction = lm.predict(X_test)\n",
    "\n",
    "# Evaluation metrics\n",
    "mae_lm = metrics.mean_absolute_error(y_test, lm_prediction)\n",
    "mse_lm =  metrics.mean_squared_error(y_test, lm_prediction)\n",
    "rmse_lm =  np.sqrt(mse_lm)"
   ]
  },
  {
   "cell_type": "code",
   "execution_count": 37,
   "id": "42a64919",
   "metadata": {
    "ExecuteTime": {
     "end_time": "2024-03-22T09:02:51.791363Z",
     "start_time": "2024-03-22T09:02:51.778359Z"
    }
   },
   "outputs": [
    {
     "name": "stdout",
     "output_type": "stream",
     "text": [
      "MAE: 13.780839042057622\n",
      "MSE: 666.2055292088543\n",
      "RMSE: 25.810957541494936\n"
     ]
    }
   ],
   "source": [
    "print('MAE:', mae_lm)\n",
    "print('MSE:', mse_lm)\n",
    "print('RMSE:', rmse_lm)"
   ]
  },
  {
   "cell_type": "markdown",
   "id": "ae400c5c",
   "metadata": {},
   "source": [
    "## Decision Tree"
   ]
  },
  {
   "cell_type": "code",
   "execution_count": 42,
   "id": "3e456b3e",
   "metadata": {
    "ExecuteTime": {
     "end_time": "2024-03-22T09:04:31.234359Z",
     "start_time": "2024-03-22T09:04:31.159464Z"
    }
   },
   "outputs": [],
   "source": [
    "dt = DecisionTreeRegressor(random_state = 100)\n",
    "dt.fit(X_train, y_train)\n",
    "dt_prediction = dt.predict(X_test)\n",
    "\n",
    "# Evaluation metrics\n",
    "mae_dt = metrics.mean_absolute_error(y_test, dt_prediction)\n",
    "mse_dt =  metrics.mean_squared_error(y_test, dt_prediction)\n",
    "rmse_dt =  np.sqrt(mse_dt)"
   ]
  },
  {
   "cell_type": "code",
   "execution_count": 43,
   "id": "d7acc1da",
   "metadata": {
    "ExecuteTime": {
     "end_time": "2024-03-22T09:04:48.899661Z",
     "start_time": "2024-03-22T09:04:48.890661Z"
    }
   },
   "outputs": [
    {
     "name": "stdout",
     "output_type": "stream",
     "text": [
      "MAE: 0.2392061880837522\n",
      "MSE: 0.09994740448456947\n",
      "RMSE: 0.3161445942675115\n"
     ]
    }
   ],
   "source": [
    "print('MAE:', mae_dt)\n",
    "print('MSE:', mse_dt)\n",
    "print('RMSE:', rmse_dt)"
   ]
  },
  {
   "cell_type": "markdown",
   "id": "5e7fa323",
   "metadata": {},
   "source": [
    "## Support Vector Regressor"
   ]
  },
  {
   "cell_type": "code",
   "execution_count": 44,
   "id": "cf24d29b",
   "metadata": {
    "ExecuteTime": {
     "end_time": "2024-03-22T09:05:15.261675Z",
     "start_time": "2024-03-22T09:05:10.974251Z"
    }
   },
   "outputs": [],
   "source": [
    "svr = SVR()\n",
    "svr.fit(X_train, y_train) \n",
    "svr_prediction = svr.predict(X_test)\n",
    "\n",
    "# Evaluation metrics\n",
    "mae_svr = metrics.mean_absolute_error(y_test, svr_prediction)\n",
    "mse_svr =  metrics.mean_squared_error(y_test, svr_prediction)\n",
    "rmse_svr =  np.sqrt(mse_svr)"
   ]
  },
  {
   "cell_type": "code",
   "execution_count": 45,
   "id": "a8e47e45",
   "metadata": {
    "ExecuteTime": {
     "end_time": "2024-03-22T09:05:17.544666Z",
     "start_time": "2024-03-22T09:05:17.532662Z"
    }
   },
   "outputs": [
    {
     "name": "stdout",
     "output_type": "stream",
     "text": [
      "MAE: 0.20687241696600386\n",
      "MSE: 0.07938423764934087\n",
      "RMSE: 0.28175208543920466\n"
     ]
    }
   ],
   "source": [
    "print('MAE:', mae_svr)\n",
    "print('MSE:', mse_svr)\n",
    "print('RMSE:', rmse_svr)"
   ]
  },
  {
   "cell_type": "markdown",
   "id": "50877775",
   "metadata": {},
   "source": [
    "## Random Forest"
   ]
  },
  {
   "cell_type": "code",
   "execution_count": 46,
   "id": "28cd6e48",
   "metadata": {
    "ExecuteTime": {
     "end_time": "2024-03-22T09:05:41.971474Z",
     "start_time": "2024-03-22T09:05:37.550598Z"
    }
   },
   "outputs": [],
   "source": [
    "rf = RandomForestRegressor(n_estimators = 100)\n",
    "rf.fit(X_train, y_train)\n",
    "rf_prediction = rf.predict(X_test)\n",
    "\n",
    "# Evaluation metrics\n",
    "mae_rf = metrics.mean_absolute_error(y_test, rf_prediction)\n",
    "mse_rf =  metrics.mean_squared_error(y_test, rf_prediction)\n",
    "rmse_rf =  np.sqrt(mse_rf)"
   ]
  },
  {
   "cell_type": "code",
   "execution_count": 47,
   "id": "c319654e",
   "metadata": {
    "ExecuteTime": {
     "end_time": "2024-03-22T09:05:45.909355Z",
     "start_time": "2024-03-22T09:05:45.904356Z"
    }
   },
   "outputs": [
    {
     "name": "stdout",
     "output_type": "stream",
     "text": [
      "MAE: 0.24043011624465804\n",
      "MSE: 0.09485098597619304\n",
      "RMSE: 0.3079788726133548\n"
     ]
    }
   ],
   "source": [
    "print('MAE:', mae_rf)\n",
    "print('MSE:', mse_rf)\n",
    "print('RMSE:', rmse_rf)"
   ]
  },
  {
   "cell_type": "markdown",
   "id": "e3da7c3a",
   "metadata": {},
   "source": [
    "## linear_model"
   ]
  },
  {
   "cell_type": "code",
   "execution_count": 48,
   "id": "792dd749",
   "metadata": {
    "ExecuteTime": {
     "end_time": "2024-03-22T09:06:10.155109Z",
     "start_time": "2024-03-22T09:06:09.539554Z"
    }
   },
   "outputs": [],
   "source": [
    "from sklearn import linear_model\n",
    "clf = linear_model.Lasso(alpha=0.1)\n",
    "\n",
    "clf.fit(X_train, y_train)\n",
    "clf_prediction = clf.predict(X_test)\n",
    "\n",
    "# Evaluation metrics\n",
    "mae_clf = metrics.mean_absolute_error(y_test, clf_prediction)\n",
    "mse_clf =  metrics.mean_squared_error(y_test, clf_prediction)\n",
    "rmse_clf =  np.sqrt(mse_clf)"
   ]
  },
  {
   "cell_type": "code",
   "execution_count": 49,
   "id": "1a827934",
   "metadata": {
    "ExecuteTime": {
     "end_time": "2024-03-22T09:06:12.452387Z",
     "start_time": "2024-03-22T09:06:12.443283Z"
    }
   },
   "outputs": [
    {
     "name": "stdout",
     "output_type": "stream",
     "text": [
      "MAE: 0.5561327684081958\n",
      "MSE: 0.5126107661707279\n",
      "RMSE: 0.7159684114335827\n"
     ]
    }
   ],
   "source": [
    "print('MAE:', mae_clf)\n",
    "print('MSE:', mse_clf)\n",
    "print('RMSE:', rmse_clf)"
   ]
  },
  {
   "cell_type": "code",
   "execution_count": null,
   "id": "f11c883c",
   "metadata": {},
   "outputs": [],
   "source": []
  },
  {
   "cell_type": "code",
   "execution_count": 26,
   "id": "2f5db1fa",
   "metadata": {
    "ExecuteTime": {
     "end_time": "2024-03-22T08:50:42.246915Z",
     "start_time": "2024-03-22T08:50:32.482650Z"
    }
   },
   "outputs": [
    {
     "name": "stdout",
     "output_type": "stream",
     "text": [
      "logistic accuracy is: 5.4%\n"
     ]
    }
   ],
   "source": [
    "# # 创建逻辑回归模型\n",
    "# lr = LogisticRegression()\n",
    "\n",
    "# # 训练模型\n",
    "# lr.fit(X_train,y_train)\n",
    "\n",
    "# # 预测训练集和测试集结果\n",
    "# y_pre = lr.predict(X_test)\n",
    "\n",
    "# # 计算精确度\n",
    "# lr_acc = round(accuracy_score(y_pre,y_test)*100,2)\n",
    "# print(f\"logistic accuracy is: {lr_acc}%\")"
   ]
  },
  {
   "cell_type": "markdown",
   "id": "71f9cfa3",
   "metadata": {},
   "source": [
    "### 筛选特征"
   ]
  },
  {
   "cell_type": "code",
   "execution_count": 101,
   "id": "ab6d4bd0",
   "metadata": {
    "ExecuteTime": {
     "end_time": "2024-03-22T10:52:34.988053Z",
     "start_time": "2024-03-22T10:52:32.611381Z"
    }
   },
   "outputs": [
    {
     "name": "stdout",
     "output_type": "stream",
     "text": [
      "Selected Features: []\n"
     ]
    }
   ],
   "source": [
    "def select_features_mutual_info(X_train, y_train, X_test, threshold=0.05):\n",
    "    \"\"\"\n",
    "    使用互信息度量来筛选特征\n",
    "    \n",
    "    参数：\n",
    "    X_train：训练集特征数据\n",
    "    y_train：训练集标签数据\n",
    "    X_test：测试集特征数据\n",
    "    threshold：特征的互信息度阈值，小于该阈值的特征将被筛选掉，默认为0.05\n",
    "    \n",
    "    返回值：\n",
    "    selected_X_train：筛选后的训练集特征数据\n",
    "    selected_X_test：筛选后的测试集特征数据\n",
    "    selected_features：保留的特征名称列表\n",
    "    \"\"\"\n",
    "    # 如果输入数据是数组，则假设特征名称列表为空\n",
    "    feature_names = []\n",
    "    \n",
    "    # 如果输入数据是数据框，则使用数据框的列名作为特征名称列表\n",
    "    if isinstance(X_train, pd.DataFrame):\n",
    "        feature_names = X_train.columns.tolist()\n",
    "    \n",
    "    # 使用互信息度量获取特征重要性\n",
    "    feature_importances = mutual_info_regression(X_train, y_train)\n",
    "    \n",
    "    # 根据阈值筛选特征\n",
    "    selected_features = [feature for feature, importance in zip(feature_names, feature_importances) if importance >= threshold]\n",
    "    \n",
    "    # 筛选特征\n",
    "    selected_X_train = X_train[:, selected_features]\n",
    "    selected_X_test = X_test[:, selected_features]\n",
    "    \n",
    "    return selected_X_train, selected_X_test, selected_features\n",
    "\n",
    "# 使用互信息度量来筛选特征\n",
    "selected_X_train, selected_X_test, selected_features = select_features_mutual_info(X_train, y_train, X_test, threshold=0.05)\n",
    "\n",
    "# 输出保留的特征名称列表\n",
    "print(\"Selected Features:\", selected_features)\n"
   ]
  },
  {
   "cell_type": "code",
   "execution_count": 102,
   "id": "d5a62334",
   "metadata": {
    "ExecuteTime": {
     "end_time": "2024-03-22T10:52:37.115696Z",
     "start_time": "2024-03-22T10:52:37.107691Z"
    }
   },
   "outputs": [],
   "source": [
    "from sklearn.neighbors import KNeighborsRegressor\n",
    "from sklearn.linear_model import LinearRegression\n",
    "from sklearn.tree import DecisionTreeRegressor\n",
    "from sklearn.ensemble import RandomForestRegressor\n",
    "from xgboost import XGBRegressor\n",
    "from sklearn.ensemble import AdaBoostRegressor\n",
    "from sklearn.ensemble import GradientBoostingRegressor\n",
    "\n",
    "\n",
    "from sklearn.metrics import precision_score, recall_score, f1_score\n",
    "from sklearn.metrics import confusion_matrix\n",
    "from sklearn.model_selection import GridSearchCV  # 网格搜索"
   ]
  },
  {
   "cell_type": "code",
   "execution_count": 103,
   "id": "e631ca95",
   "metadata": {
    "ExecuteTime": {
     "end_time": "2024-03-22T10:52:38.358261Z",
     "start_time": "2024-03-22T10:52:38.339256Z"
    }
   },
   "outputs": [],
   "source": [
    "Classifiers=[\n",
    "    # [\"Random Forest\", RandomForestClassifier()],\n",
    "    [\"LogisticRegression\", LogisticRegression()],\n",
    "    [\"KNN\", KNeighborsRegressor(n_neighbors=5)],\n",
    "    [\"Naive Bayes\", GaussianNB()],\n",
    "    [\"Decision Tree\", DecisionTreeRegressor()],\n",
    "    [\"AdaBoostClassifier\", AdaBoostRegressor()],\n",
    "    [\"GradientBoostingClassifier\", GradientBoostingRegressor()],\n",
    "    [\"XGB\", XGBRegressor()]\n",
    "]\n"
   ]
  },
  {
   "cell_type": "code",
   "execution_count": 107,
   "id": "bbf7d2e3",
   "metadata": {
    "ExecuteTime": {
     "end_time": "2024-03-22T10:55:22.631272Z",
     "start_time": "2024-03-22T10:55:03.379353Z"
    }
   },
   "outputs": [],
   "source": [
    "from sklearn.linear_model import LinearRegression\n",
    "from sklearn.neighbors import KNeighborsRegressor\n",
    "from sklearn.tree import DecisionTreeRegressor\n",
    "from sklearn.ensemble import RandomForestRegressor, AdaBoostRegressor, GradientBoostingRegressor\n",
    "from xgboost import XGBRegressor\n",
    "from sklearn.feature_selection import SelectKBest\n",
    "from sklearn.metrics import mean_squared_error, mean_absolute_error, r2_score\n",
    "\n",
    "## 初始化结果列表\n",
    "Regression_result = []\n",
    "names = []\n",
    "prediction = []\n",
    "\n",
    "# 循环遍历回归算法\n",
    "for name, regressor in Regressors:\n",
    "    # 初始化特征选择器\n",
    "    selector = SelectKBest(score_func=mutual_info_regression, k=10)  # 选择互信息度排名前10的特征\n",
    "    \n",
    "    # 特征选择\n",
    "    X_train_selected = selector.fit_transform(X_train, y_train)\n",
    "    X_test_selected = selector.transform(X_test)\n",
    "    \n",
    "    # 拟合模型\n",
    "    regressor.fit(X_train_selected, y_train)\n",
    "    \n",
    "    # 进行预测\n",
    "    y_pred = regressor.predict(X_test_selected)\n",
    "    \n",
    "    # 计算评估指标\n",
    "    mse = mean_squared_error(y_test, y_pred)\n",
    "    mae = mean_absolute_error(y_test, y_pred)\n",
    "    r2 = r2_score(y_test, y_pred)\n",
    "    \n",
    "    # 将评估结果存储到DataFrame中\n",
    "    regressor_metrics = pd.DataFrame({\"Mean Squared Error\": [mse], \n",
    "                                       \"Mean Absolute Error\": [mae],\n",
    "                                       \"R-squared\": [r2]})\n",
    "    \n",
    "    # 将评估结果添加到结果列表中\n",
    "    Regression_result.append(regressor_metrics)\n",
    "    \n",
    "    # 将模型名称添加到名称列表中\n",
    "    names.append(name)\n",
    "    \n",
    "    # 将预测结果添加到预测列表中\n",
    "    prediction.append(y_pred)"
   ]
  },
  {
   "cell_type": "code",
   "execution_count": 75,
   "id": "046b19d9",
   "metadata": {
    "ExecuteTime": {
     "end_time": "2024-03-22T09:31:16.871510Z",
     "start_time": "2024-03-22T09:31:16.853511Z"
    },
    "collapsed": true
   },
   "outputs": [
    {
     "data": {
      "text/plain": [
       "[array([[10.87274579],\n",
       "        [ 3.05616339],\n",
       "        [23.42172966],\n",
       "        ...,\n",
       "        [-3.32550586],\n",
       "        [10.30286463],\n",
       "        [ 3.10490462]]),\n",
       " array([[-1.00395636],\n",
       "        [ 0.27084104],\n",
       "        [-0.97339615],\n",
       "        ...,\n",
       "        [ 1.1701844 ],\n",
       "        [-0.96029891],\n",
       "        [ 0.55024868]]),\n",
       " array([-0.94283594,  0.8558508 , -1.32702145, ...,  1.16145291,\n",
       "        -0.93410445,  1.68534225]),\n",
       " array([-0.78912244,  0.8558508 , -1.32702145, ...,  1.16145291,\n",
       "        -0.77375065,  1.68534225]),\n",
       " array([-0.70084817,  0.86522151, -1.18438148, ...,  0.94693617,\n",
       "        -0.70084817,  1.42922727]),\n",
       " array([-0.56189219,  0.90671662, -1.32228061, ...,  1.16812086,\n",
       "        -0.5613597 ,  1.67857799]),\n",
       " array([-0.8045942,  0.8411227,  2.3025546, ...,  1.1356257, -0.6886626,\n",
       "         1.6537399], dtype=float32)]"
      ]
     },
     "execution_count": 75,
     "metadata": {},
     "output_type": "execute_result"
    }
   ],
   "source": [
    "prediction"
   ]
  },
  {
   "cell_type": "code",
   "execution_count": 79,
   "id": "09fcd8f7",
   "metadata": {
    "ExecuteTime": {
     "end_time": "2024-03-22T09:34:56.314426Z",
     "start_time": "2024-03-22T09:34:56.299425Z"
    }
   },
   "outputs": [],
   "source": [
    "# 将预测结果从标准化的形式反转回原始数据的形式\n",
    "original_y_pred = sc_y.inverse_transform(y_pred.reshape(-1, 1))\n",
    "original_y_train = sc_y.inverse_transform(y_train.reshape(-1, 1))"
   ]
  },
  {
   "cell_type": "code",
   "execution_count": 108,
   "id": "9e646aa0",
   "metadata": {
    "ExecuteTime": {
     "end_time": "2024-03-22T10:55:28.208699Z",
     "start_time": "2024-03-22T10:55:28.187703Z"
    }
   },
   "outputs": [
    {
     "name": "stdout",
     "output_type": "stream",
     "text": [
      "                   Mean Squared Error  Mean Absolute Error  R-squared\n",
      "Linear Regression            0.562423             0.571046   0.437577\n",
      "KNN                          0.166251             0.267026   0.833749\n",
      "Decision Tree                0.018202             0.071544   0.981798\n",
      "Random Forest                0.016133             0.066425   0.983867\n",
      "AdaBoost                     0.190041             0.372386   0.809959\n",
      "Gradient Boosting            0.017766             0.077241   0.982234\n",
      "XGBoost                      1.121831             0.725506  -0.121831\n"
     ]
    }
   ],
   "source": [
    "# 将模型结果和评估指标合并成一个DataFrame\n",
    "result_df = pd.concat(Regression_result, axis=0)\n",
    "\n",
    "# 设置行索引为模型名称\n",
    "result_df.index = names\n",
    "\n",
    "# 打印结果\n",
    "print(result_df)\n"
   ]
  },
  {
   "cell_type": "code",
   "execution_count": null,
   "id": "1a6bdf9f",
   "metadata": {},
   "outputs": [],
   "source": []
  },
  {
   "cell_type": "code",
   "execution_count": null,
   "id": "b154c917",
   "metadata": {},
   "outputs": [],
   "source": [
    "# 均方误差（Mean Squared Error，MSE）： 它衡量了模型预测值与实际值之间的平均平方差。MSE的值越接近于0，表示模型的预测值与实际值之间的偏差越小，预测性能越好。\n",
    "\n",
    "# 平均绝对误差（Mean Absolute Error，MAE）： 它衡量了模型预测值与实际值之间的平均绝对差。与MSE类似，MAE的值越接近于0，表示模型的预测值与实际值之间的偏差越小，预测性能越好。\n",
    "\n",
    "# R平方（R-squared）： 也称为决定系数，它衡量了模型对观测值变异性的解释程度。R平方的取值范围在0到1之间，越接近1表示模型对数据的解释能力越强，预测性能越好。但需要注意的是，R平方也可能出现负值，表示模型的预测效果比直接用平均值预测的效果还要差。\n",
    "\n",
    "# 这些指标的好坏评判标准可以根据具体问题的要求和数据的特点来确定。通常来说：\n",
    "\n",
    "# MSE 和 MAE 越接近于 0，表示模型的预测性能越好。\n",
    "# R平方越接近于 1，表示模型对数据的解释能力越强，预测性能越好。"
   ]
  },
  {
   "cell_type": "code",
   "execution_count": 70,
   "id": "6b2d3e85",
   "metadata": {
    "ExecuteTime": {
     "end_time": "2024-03-22T09:24:53.672332Z",
     "start_time": "2024-03-22T09:24:53.635332Z"
    }
   },
   "outputs": [
    {
     "data": {
      "text/html": [
       "<div>\n",
       "<style scoped>\n",
       "    .dataframe tbody tr th:only-of-type {\n",
       "        vertical-align: middle;\n",
       "    }\n",
       "\n",
       "    .dataframe tbody tr th {\n",
       "        vertical-align: top;\n",
       "    }\n",
       "\n",
       "    .dataframe thead th {\n",
       "        text-align: right;\n",
       "    }\n",
       "</style>\n",
       "<table border=\"1\" class=\"dataframe\">\n",
       "  <thead>\n",
       "    <tr style=\"text-align: right;\">\n",
       "      <th></th>\n",
       "      <th>Mean Squared Error</th>\n",
       "      <th>Mean Absolute Error</th>\n",
       "      <th>R-squared</th>\n",
       "    </tr>\n",
       "  </thead>\n",
       "  <tbody>\n",
       "    <tr>\n",
       "      <th>0</th>\n",
       "      <td>2.024488</td>\n",
       "      <td>0.772483</td>\n",
       "      <td>-1.024488</td>\n",
       "    </tr>\n",
       "  </tbody>\n",
       "</table>\n",
       "</div>"
      ],
      "text/plain": [
       "   Mean Squared Error  Mean Absolute Error  R-squared\n",
       "0            2.024488             0.772483  -1.024488"
      ]
     },
     "execution_count": 70,
     "metadata": {},
     "output_type": "execute_result"
    }
   ],
   "source": []
  },
  {
   "cell_type": "code",
   "execution_count": 71,
   "id": "5a60d00a",
   "metadata": {
    "ExecuteTime": {
     "end_time": "2024-03-22T09:25:10.904954Z",
     "start_time": "2024-03-22T09:25:10.879955Z"
    }
   },
   "outputs": [
    {
     "data": {
      "text/plain": [
       "[   Mean Squared Error  Mean Absolute Error   R-squared\n",
       " 0          666.205529            13.780839 -665.205529,\n",
       "    Mean Squared Error  Mean Absolute Error  R-squared\n",
       " 0            0.318879             0.375644   0.681121,\n",
       "    Mean Squared Error  Mean Absolute Error  R-squared\n",
       " 0            0.103253             0.241463   0.896747,\n",
       "    Mean Squared Error  Mean Absolute Error  R-squared\n",
       " 0            0.095727             0.241817   0.904273,\n",
       "    Mean Squared Error  Mean Absolute Error  R-squared\n",
       " 0            0.247096             0.418235   0.752904,\n",
       "    Mean Squared Error  Mean Absolute Error  R-squared\n",
       " 0            0.114885             0.263339   0.885115,\n",
       "    Mean Squared Error  Mean Absolute Error  R-squared\n",
       " 0            2.024488             0.772483  -1.024488]"
      ]
     },
     "execution_count": 71,
     "metadata": {},
     "output_type": "execute_result"
    }
   ],
   "source": []
  },
  {
   "cell_type": "code",
   "execution_count": 72,
   "id": "9d14d005",
   "metadata": {
    "ExecuteTime": {
     "end_time": "2024-03-22T09:25:29.152925Z",
     "start_time": "2024-03-22T09:25:29.137920Z"
    }
   },
   "outputs": [
    {
     "data": {
      "text/plain": [
       "['Linear Regression',\n",
       " 'KNN',\n",
       " 'Decision Tree',\n",
       " 'Random Forest',\n",
       " 'AdaBoost',\n",
       " 'Gradient Boosting',\n",
       " 'XGBoost']"
      ]
     },
     "execution_count": 72,
     "metadata": {},
     "output_type": "execute_result"
    }
   ],
   "source": []
  },
  {
   "cell_type": "code",
   "execution_count": null,
   "id": "702cec45",
   "metadata": {
    "ExecuteTime": {
     "end_time": "2024-03-22T09:24:02.809026Z",
     "start_time": "2024-03-22T09:24:02.707600Z"
    }
   },
   "outputs": [],
   "source": []
  },
  {
   "cell_type": "markdown",
   "id": "b96dd0c2",
   "metadata": {},
   "source": [
    "### Model\n"
   ]
  },
  {
   "cell_type": "code",
   "execution_count": 100,
   "id": "341a67d1",
   "metadata": {
    "ExecuteTime": {
     "end_time": "2024-03-21T09:45:00.365626Z",
     "start_time": "2024-03-21T09:45:00.333626Z"
    }
   },
   "outputs": [
    {
     "name": "stdout",
     "output_type": "stream",
     "text": [
      "0    6700\n",
      "1    6400\n",
      "2    2580\n",
      "3    5000\n",
      "4    2300\n",
      "Name: 租金, dtype: int64\n"
     ]
    }
   ],
   "source": []
  },
  {
   "cell_type": "code",
   "execution_count": 101,
   "id": "aa08c934",
   "metadata": {
    "ExecuteTime": {
     "end_time": "2024-03-21T09:45:03.880001Z",
     "start_time": "2024-03-21T09:45:03.578293Z"
    },
    "collapsed": true
   },
   "outputs": [
    {
     "ename": "KeyError",
     "evalue": "'租金'",
     "output_type": "error",
     "traceback": [
      "\u001b[1;31m---------------------------------------------------------------------------\u001b[0m",
      "\u001b[1;31mKeyError\u001b[0m                                  Traceback (most recent call last)",
      "Cell \u001b[1;32mIn[101], line 1\u001b[0m\n\u001b[1;32m----> 1\u001b[0m \u001b[43my\u001b[49m\u001b[43m[\u001b[49m\u001b[38;5;124;43m\"\u001b[39;49m\u001b[38;5;124;43m租金\u001b[39;49m\u001b[38;5;124;43m\"\u001b[39;49m\u001b[43m]\u001b[49m\n",
      "File \u001b[1;32m~\\.conda\\envs\\tipdm\\lib\\site-packages\\pandas\\core\\series.py:1007\u001b[0m, in \u001b[0;36mSeries.__getitem__\u001b[1;34m(self, key)\u001b[0m\n\u001b[0;32m   1004\u001b[0m     \u001b[38;5;28;01mreturn\u001b[39;00m \u001b[38;5;28mself\u001b[39m\u001b[38;5;241m.\u001b[39m_values[key]\n\u001b[0;32m   1006\u001b[0m \u001b[38;5;28;01melif\u001b[39;00m key_is_scalar:\n\u001b[1;32m-> 1007\u001b[0m     \u001b[38;5;28;01mreturn\u001b[39;00m \u001b[38;5;28;43mself\u001b[39;49m\u001b[38;5;241;43m.\u001b[39;49m\u001b[43m_get_value\u001b[49m\u001b[43m(\u001b[49m\u001b[43mkey\u001b[49m\u001b[43m)\u001b[49m\n\u001b[0;32m   1009\u001b[0m \u001b[38;5;28;01mif\u001b[39;00m is_hashable(key):\n\u001b[0;32m   1010\u001b[0m     \u001b[38;5;66;03m# Otherwise index.get_value will raise InvalidIndexError\u001b[39;00m\n\u001b[0;32m   1011\u001b[0m     \u001b[38;5;28;01mtry\u001b[39;00m:\n\u001b[0;32m   1012\u001b[0m         \u001b[38;5;66;03m# For labels that don't resolve as scalars like tuples and frozensets\u001b[39;00m\n",
      "File \u001b[1;32m~\\.conda\\envs\\tipdm\\lib\\site-packages\\pandas\\core\\series.py:1116\u001b[0m, in \u001b[0;36mSeries._get_value\u001b[1;34m(self, label, takeable)\u001b[0m\n\u001b[0;32m   1113\u001b[0m     \u001b[38;5;28;01mreturn\u001b[39;00m \u001b[38;5;28mself\u001b[39m\u001b[38;5;241m.\u001b[39m_values[label]\n\u001b[0;32m   1115\u001b[0m \u001b[38;5;66;03m# Similar to Index.get_value, but we do not fall back to positional\u001b[39;00m\n\u001b[1;32m-> 1116\u001b[0m loc \u001b[38;5;241m=\u001b[39m \u001b[38;5;28;43mself\u001b[39;49m\u001b[38;5;241;43m.\u001b[39;49m\u001b[43mindex\u001b[49m\u001b[38;5;241;43m.\u001b[39;49m\u001b[43mget_loc\u001b[49m\u001b[43m(\u001b[49m\u001b[43mlabel\u001b[49m\u001b[43m)\u001b[49m\n\u001b[0;32m   1118\u001b[0m \u001b[38;5;28;01mif\u001b[39;00m is_integer(loc):\n\u001b[0;32m   1119\u001b[0m     \u001b[38;5;28;01mreturn\u001b[39;00m \u001b[38;5;28mself\u001b[39m\u001b[38;5;241m.\u001b[39m_values[loc]\n",
      "File \u001b[1;32m~\\.conda\\envs\\tipdm\\lib\\site-packages\\pandas\\core\\indexes\\range.py:349\u001b[0m, in \u001b[0;36mRangeIndex.get_loc\u001b[1;34m(self, key)\u001b[0m\n\u001b[0;32m    347\u001b[0m         \u001b[38;5;28;01mraise\u001b[39;00m \u001b[38;5;167;01mKeyError\u001b[39;00m(key) \u001b[38;5;28;01mfrom\u001b[39;00m \u001b[38;5;21;01merr\u001b[39;00m\n\u001b[0;32m    348\u001b[0m \u001b[38;5;28;01mif\u001b[39;00m \u001b[38;5;28misinstance\u001b[39m(key, Hashable):\n\u001b[1;32m--> 349\u001b[0m     \u001b[38;5;28;01mraise\u001b[39;00m \u001b[38;5;167;01mKeyError\u001b[39;00m(key)\n\u001b[0;32m    350\u001b[0m \u001b[38;5;28mself\u001b[39m\u001b[38;5;241m.\u001b[39m_check_indexing_error(key)\n\u001b[0;32m    351\u001b[0m \u001b[38;5;28;01mraise\u001b[39;00m \u001b[38;5;167;01mKeyError\u001b[39;00m(key)\n",
      "\u001b[1;31mKeyError\u001b[0m: '租金'"
     ]
    }
   ],
   "source": []
  },
  {
   "cell_type": "code",
   "execution_count": null,
   "id": "b65a78cb",
   "metadata": {
    "ExecuteTime": {
     "end_time": "2024-03-21T08:48:56.877118Z",
     "start_time": "2024-03-21T08:48:56.854959Z"
    }
   },
   "outputs": [],
   "source": []
  },
  {
   "cell_type": "code",
   "execution_count": 102,
   "id": "e68cb25c",
   "metadata": {
    "ExecuteTime": {
     "end_time": "2024-03-21T09:45:09.991822Z",
     "start_time": "2024-03-21T09:45:09.976816Z"
    }
   },
   "outputs": [],
   "source": [
    "#数据标准化\n",
    "# 标准差标准化，自己写的函数，也可以从sklearn调包\n",
    "def StandarScaler(data):\n",
    "    mean = data.mean()\n",
    "    std = data.std()\n",
    "    new_data = (data-mean) / (std+0.00000000001)  # 0.0001防止分母为0\n",
    "    return new_data, mean, std  # 返回mean和std方便测试集使用"
   ]
  },
  {
   "cell_type": "code",
   "execution_count": 103,
   "id": "e2cce3a2",
   "metadata": {
    "ExecuteTime": {
     "end_time": "2024-03-21T09:45:10.368917Z",
     "start_time": "2024-03-21T09:45:10.341895Z"
    }
   },
   "outputs": [
    {
     "data": {
      "text/plain": [
       "((9008, 48), (3861, 48))"
      ]
     },
     "execution_count": 103,
     "metadata": {},
     "output_type": "execute_result"
    }
   ],
   "source": [
    " #所有特征x进行标准化\n",
    "featrue_name = [ i for i in X_train.columns if i!='租金']\n",
    "bzh, mean, std = StandarScaler(X_train[featrue_name])  \n",
    "bzh_test = (X_test[featrue_name]-mean)/std\n",
    "bzh.shape, bzh_test.shape "
   ]
  },
  {
   "cell_type": "code",
   "execution_count": 104,
   "id": "0d872300",
   "metadata": {
    "ExecuteTime": {
     "end_time": "2024-03-21T09:45:10.994972Z",
     "start_time": "2024-03-21T09:45:10.972972Z"
    }
   },
   "outputs": [
    {
     "data": {
      "text/html": [
       "<div>\n",
       "<style scoped>\n",
       "    .dataframe tbody tr th:only-of-type {\n",
       "        vertical-align: middle;\n",
       "    }\n",
       "\n",
       "    .dataframe tbody tr th {\n",
       "        vertical-align: top;\n",
       "    }\n",
       "\n",
       "    .dataframe thead th {\n",
       "        text-align: right;\n",
       "    }\n",
       "</style>\n",
       "<table border=\"1\" class=\"dataframe\">\n",
       "  <thead>\n",
       "    <tr style=\"text-align: right;\">\n",
       "      <th></th>\n",
       "      <th>面积(平方米)</th>\n",
       "      <th>押金</th>\n",
       "      <th>判断押金</th>\n",
       "      <th>服务费</th>\n",
       "      <th>中介费</th>\n",
       "      <th>A地铁线</th>\n",
       "      <th>B地铁线</th>\n",
       "      <th>C地铁线</th>\n",
       "      <th>大区标签</th>\n",
       "      <th>品牌标签</th>\n",
       "      <th>...</th>\n",
       "      <th>大区英文平均值特征</th>\n",
       "      <th>房屋配置聚类标签</th>\n",
       "      <th>平均值特征2</th>\n",
       "      <th>房屋装修聚类标签</th>\n",
       "      <th>平均值特征3</th>\n",
       "      <th>房屋费用聚类标签</th>\n",
       "      <th>平均值特征4</th>\n",
       "      <th>房屋便利聚类标签</th>\n",
       "      <th>平均值特征5</th>\n",
       "      <th>小区_标签</th>\n",
       "    </tr>\n",
       "  </thead>\n",
       "  <tbody>\n",
       "    <tr>\n",
       "      <th>11177</th>\n",
       "      <td>-0.184674</td>\n",
       "      <td>0.138717</td>\n",
       "      <td>-0.124347</td>\n",
       "      <td>-0.237884</td>\n",
       "      <td>NaN</td>\n",
       "      <td>0.150955</td>\n",
       "      <td>0.895258</td>\n",
       "      <td>1.971264</td>\n",
       "      <td>1.018799</td>\n",
       "      <td>-0.559417</td>\n",
       "      <td>...</td>\n",
       "      <td>-0.245454</td>\n",
       "      <td>-0.230466</td>\n",
       "      <td>-0.037726</td>\n",
       "      <td>1.292128</td>\n",
       "      <td>0.882335</td>\n",
       "      <td>-0.416380</td>\n",
       "      <td>0.322877</td>\n",
       "      <td>-0.784402</td>\n",
       "      <td>0.707251</td>\n",
       "      <td>-0.857263</td>\n",
       "    </tr>\n",
       "    <tr>\n",
       "      <th>6081</th>\n",
       "      <td>1.438399</td>\n",
       "      <td>2.752603</td>\n",
       "      <td>1.816930</td>\n",
       "      <td>-0.237884</td>\n",
       "      <td>NaN</td>\n",
       "      <td>-1.079079</td>\n",
       "      <td>-0.749799</td>\n",
       "      <td>-0.481042</td>\n",
       "      <td>1.018799</td>\n",
       "      <td>-0.559417</td>\n",
       "      <td>...</td>\n",
       "      <td>-0.245454</td>\n",
       "      <td>0.508338</td>\n",
       "      <td>0.065221</td>\n",
       "      <td>-0.363678</td>\n",
       "      <td>-1.522870</td>\n",
       "      <td>-0.416380</td>\n",
       "      <td>0.322877</td>\n",
       "      <td>-0.136630</td>\n",
       "      <td>-0.806985</td>\n",
       "      <td>-0.378414</td>\n",
       "    </tr>\n",
       "    <tr>\n",
       "      <th>8</th>\n",
       "      <td>1.156173</td>\n",
       "      <td>0.238484</td>\n",
       "      <td>-0.124347</td>\n",
       "      <td>0.659290</td>\n",
       "      <td>NaN</td>\n",
       "      <td>-0.054051</td>\n",
       "      <td>0.278361</td>\n",
       "      <td>3.606135</td>\n",
       "      <td>-0.937406</td>\n",
       "      <td>-0.559417</td>\n",
       "      <td>...</td>\n",
       "      <td>1.266339</td>\n",
       "      <td>1.247142</td>\n",
       "      <td>1.124509</td>\n",
       "      <td>0.464225</td>\n",
       "      <td>-0.726944</td>\n",
       "      <td>-0.416380</td>\n",
       "      <td>0.322877</td>\n",
       "      <td>-0.784402</td>\n",
       "      <td>0.707251</td>\n",
       "      <td>-1.276944</td>\n",
       "    </tr>\n",
       "    <tr>\n",
       "      <th>839</th>\n",
       "      <td>-0.767719</td>\n",
       "      <td>-0.409999</td>\n",
       "      <td>-0.124347</td>\n",
       "      <td>1.995641</td>\n",
       "      <td>NaN</td>\n",
       "      <td>1.585995</td>\n",
       "      <td>-0.749799</td>\n",
       "      <td>-0.481042</td>\n",
       "      <td>1.018799</td>\n",
       "      <td>-0.559417</td>\n",
       "      <td>...</td>\n",
       "      <td>-0.245454</td>\n",
       "      <td>-0.230466</td>\n",
       "      <td>-0.037726</td>\n",
       "      <td>1.292128</td>\n",
       "      <td>0.882335</td>\n",
       "      <td>-0.416380</td>\n",
       "      <td>0.322877</td>\n",
       "      <td>0.511142</td>\n",
       "      <td>-1.119106</td>\n",
       "      <td>-0.438958</td>\n",
       "    </tr>\n",
       "    <tr>\n",
       "      <th>9292</th>\n",
       "      <td>-0.137400</td>\n",
       "      <td>-0.360116</td>\n",
       "      <td>-0.124347</td>\n",
       "      <td>-0.237884</td>\n",
       "      <td>NaN</td>\n",
       "      <td>1.996007</td>\n",
       "      <td>-0.749799</td>\n",
       "      <td>-0.481042</td>\n",
       "      <td>-0.154924</td>\n",
       "      <td>-0.559417</td>\n",
       "      <td>...</td>\n",
       "      <td>-1.134069</td>\n",
       "      <td>1.247142</td>\n",
       "      <td>1.124509</td>\n",
       "      <td>-1.191581</td>\n",
       "      <td>0.680363</td>\n",
       "      <td>-0.416380</td>\n",
       "      <td>0.322877</td>\n",
       "      <td>-0.784402</td>\n",
       "      <td>0.707251</td>\n",
       "      <td>0.005491</td>\n",
       "    </tr>\n",
       "    <tr>\n",
       "      <th>...</th>\n",
       "      <td>...</td>\n",
       "      <td>...</td>\n",
       "      <td>...</td>\n",
       "      <td>...</td>\n",
       "      <td>...</td>\n",
       "      <td>...</td>\n",
       "      <td>...</td>\n",
       "      <td>...</td>\n",
       "      <td>...</td>\n",
       "      <td>...</td>\n",
       "      <td>...</td>\n",
       "      <td>...</td>\n",
       "      <td>...</td>\n",
       "      <td>...</td>\n",
       "      <td>...</td>\n",
       "      <td>...</td>\n",
       "      <td>...</td>\n",
       "      <td>...</td>\n",
       "      <td>...</td>\n",
       "      <td>...</td>\n",
       "      <td>...</td>\n",
       "    </tr>\n",
       "    <tr>\n",
       "      <th>9742</th>\n",
       "      <td>0.729289</td>\n",
       "      <td>0.108787</td>\n",
       "      <td>-0.124347</td>\n",
       "      <td>-0.237884</td>\n",
       "      <td>NaN</td>\n",
       "      <td>-1.079079</td>\n",
       "      <td>-0.749799</td>\n",
       "      <td>-0.481042</td>\n",
       "      <td>-0.937406</td>\n",
       "      <td>1.510932</td>\n",
       "      <td>...</td>\n",
       "      <td>1.266339</td>\n",
       "      <td>0.508338</td>\n",
       "      <td>0.065221</td>\n",
       "      <td>-1.191581</td>\n",
       "      <td>0.680363</td>\n",
       "      <td>-0.416380</td>\n",
       "      <td>0.322877</td>\n",
       "      <td>1.806686</td>\n",
       "      <td>-0.352309</td>\n",
       "      <td>0.251795</td>\n",
       "    </tr>\n",
       "    <tr>\n",
       "      <th>3671</th>\n",
       "      <td>0.078485</td>\n",
       "      <td>-0.501784</td>\n",
       "      <td>-0.124347</td>\n",
       "      <td>-0.237884</td>\n",
       "      <td>NaN</td>\n",
       "      <td>1.585995</td>\n",
       "      <td>1.306522</td>\n",
       "      <td>3.606135</td>\n",
       "      <td>1.018799</td>\n",
       "      <td>1.510932</td>\n",
       "      <td>...</td>\n",
       "      <td>-0.245454</td>\n",
       "      <td>-1.708074</td>\n",
       "      <td>-2.469023</td>\n",
       "      <td>0.464225</td>\n",
       "      <td>-0.726944</td>\n",
       "      <td>1.428554</td>\n",
       "      <td>-2.863050</td>\n",
       "      <td>0.511142</td>\n",
       "      <td>-1.119106</td>\n",
       "      <td>1.027861</td>\n",
       "    </tr>\n",
       "    <tr>\n",
       "      <th>872</th>\n",
       "      <td>-0.247706</td>\n",
       "      <td>-0.070793</td>\n",
       "      <td>-0.124347</td>\n",
       "      <td>1.867652</td>\n",
       "      <td>NaN</td>\n",
       "      <td>-0.259056</td>\n",
       "      <td>0.278361</td>\n",
       "      <td>-0.481042</td>\n",
       "      <td>-0.937406</td>\n",
       "      <td>-0.559417</td>\n",
       "      <td>...</td>\n",
       "      <td>1.266339</td>\n",
       "      <td>1.247142</td>\n",
       "      <td>1.124509</td>\n",
       "      <td>-1.191581</td>\n",
       "      <td>0.680363</td>\n",
       "      <td>-0.416380</td>\n",
       "      <td>0.322877</td>\n",
       "      <td>-0.784402</td>\n",
       "      <td>0.707251</td>\n",
       "      <td>-0.976975</td>\n",
       "    </tr>\n",
       "    <tr>\n",
       "      <th>6378</th>\n",
       "      <td>-0.216190</td>\n",
       "      <td>0.138717</td>\n",
       "      <td>-0.124347</td>\n",
       "      <td>-0.237884</td>\n",
       "      <td>NaN</td>\n",
       "      <td>-0.669068</td>\n",
       "      <td>-0.749799</td>\n",
       "      <td>-0.481042</td>\n",
       "      <td>-0.937406</td>\n",
       "      <td>1.510932</td>\n",
       "      <td>...</td>\n",
       "      <td>1.266339</td>\n",
       "      <td>1.247142</td>\n",
       "      <td>1.124509</td>\n",
       "      <td>-1.191581</td>\n",
       "      <td>0.680363</td>\n",
       "      <td>-0.416380</td>\n",
       "      <td>0.322877</td>\n",
       "      <td>-0.784402</td>\n",
       "      <td>0.707251</td>\n",
       "      <td>-1.070544</td>\n",
       "    </tr>\n",
       "    <tr>\n",
       "      <th>11577</th>\n",
       "      <td>-0.944997</td>\n",
       "      <td>-0.558153</td>\n",
       "      <td>-2.065624</td>\n",
       "      <td>1.010631</td>\n",
       "      <td>NaN</td>\n",
       "      <td>1.380989</td>\n",
       "      <td>-0.338535</td>\n",
       "      <td>-0.481042</td>\n",
       "      <td>-1.719888</td>\n",
       "      <td>0.475758</td>\n",
       "      <td>...</td>\n",
       "      <td>0.167019</td>\n",
       "      <td>-1.708074</td>\n",
       "      <td>-2.469023</td>\n",
       "      <td>-1.191581</td>\n",
       "      <td>0.680363</td>\n",
       "      <td>1.428554</td>\n",
       "      <td>-2.863050</td>\n",
       "      <td>-0.784402</td>\n",
       "      <td>0.707251</td>\n",
       "      <td>-0.751311</td>\n",
       "    </tr>\n",
       "  </tbody>\n",
       "</table>\n",
       "<p>3861 rows × 48 columns</p>\n",
       "</div>"
      ],
      "text/plain": [
       "        面积(平方米)        押金      判断押金       服务费  中介费      A地铁线      B地铁线  \\\n",
       "11177 -0.184674  0.138717 -0.124347 -0.237884  NaN  0.150955  0.895258   \n",
       "6081   1.438399  2.752603  1.816930 -0.237884  NaN -1.079079 -0.749799   \n",
       "8      1.156173  0.238484 -0.124347  0.659290  NaN -0.054051  0.278361   \n",
       "839   -0.767719 -0.409999 -0.124347  1.995641  NaN  1.585995 -0.749799   \n",
       "9292  -0.137400 -0.360116 -0.124347 -0.237884  NaN  1.996007 -0.749799   \n",
       "...         ...       ...       ...       ...  ...       ...       ...   \n",
       "9742   0.729289  0.108787 -0.124347 -0.237884  NaN -1.079079 -0.749799   \n",
       "3671   0.078485 -0.501784 -0.124347 -0.237884  NaN  1.585995  1.306522   \n",
       "872   -0.247706 -0.070793 -0.124347  1.867652  NaN -0.259056  0.278361   \n",
       "6378  -0.216190  0.138717 -0.124347 -0.237884  NaN -0.669068 -0.749799   \n",
       "11577 -0.944997 -0.558153 -2.065624  1.010631  NaN  1.380989 -0.338535   \n",
       "\n",
       "           C地铁线      大区标签      品牌标签  ...  大区英文平均值特征  房屋配置聚类标签    平均值特征2  \\\n",
       "11177  1.971264  1.018799 -0.559417  ...  -0.245454 -0.230466 -0.037726   \n",
       "6081  -0.481042  1.018799 -0.559417  ...  -0.245454  0.508338  0.065221   \n",
       "8      3.606135 -0.937406 -0.559417  ...   1.266339  1.247142  1.124509   \n",
       "839   -0.481042  1.018799 -0.559417  ...  -0.245454 -0.230466 -0.037726   \n",
       "9292  -0.481042 -0.154924 -0.559417  ...  -1.134069  1.247142  1.124509   \n",
       "...         ...       ...       ...  ...        ...       ...       ...   \n",
       "9742  -0.481042 -0.937406  1.510932  ...   1.266339  0.508338  0.065221   \n",
       "3671   3.606135  1.018799  1.510932  ...  -0.245454 -1.708074 -2.469023   \n",
       "872   -0.481042 -0.937406 -0.559417  ...   1.266339  1.247142  1.124509   \n",
       "6378  -0.481042 -0.937406  1.510932  ...   1.266339  1.247142  1.124509   \n",
       "11577 -0.481042 -1.719888  0.475758  ...   0.167019 -1.708074 -2.469023   \n",
       "\n",
       "       房屋装修聚类标签    平均值特征3  房屋费用聚类标签    平均值特征4  房屋便利聚类标签    平均值特征5     小区_标签  \n",
       "11177  1.292128  0.882335 -0.416380  0.322877 -0.784402  0.707251 -0.857263  \n",
       "6081  -0.363678 -1.522870 -0.416380  0.322877 -0.136630 -0.806985 -0.378414  \n",
       "8      0.464225 -0.726944 -0.416380  0.322877 -0.784402  0.707251 -1.276944  \n",
       "839    1.292128  0.882335 -0.416380  0.322877  0.511142 -1.119106 -0.438958  \n",
       "9292  -1.191581  0.680363 -0.416380  0.322877 -0.784402  0.707251  0.005491  \n",
       "...         ...       ...       ...       ...       ...       ...       ...  \n",
       "9742  -1.191581  0.680363 -0.416380  0.322877  1.806686 -0.352309  0.251795  \n",
       "3671   0.464225 -0.726944  1.428554 -2.863050  0.511142 -1.119106  1.027861  \n",
       "872   -1.191581  0.680363 -0.416380  0.322877 -0.784402  0.707251 -0.976975  \n",
       "6378  -1.191581  0.680363 -0.416380  0.322877 -0.784402  0.707251 -1.070544  \n",
       "11577 -1.191581  0.680363  1.428554 -2.863050 -0.784402  0.707251 -0.751311  \n",
       "\n",
       "[3861 rows x 48 columns]"
      ]
     },
     "execution_count": 104,
     "metadata": {},
     "output_type": "execute_result"
    }
   ],
   "source": [
    "bzh_test"
   ]
  },
  {
   "cell_type": "code",
   "execution_count": 105,
   "id": "c915e11d",
   "metadata": {
    "ExecuteTime": {
     "end_time": "2024-03-21T09:45:11.474814Z",
     "start_time": "2024-03-21T09:45:11.447814Z"
    }
   },
   "outputs": [
    {
     "data": {
      "text/html": [
       "<div>\n",
       "<style scoped>\n",
       "    .dataframe tbody tr th:only-of-type {\n",
       "        vertical-align: middle;\n",
       "    }\n",
       "\n",
       "    .dataframe tbody tr th {\n",
       "        vertical-align: top;\n",
       "    }\n",
       "\n",
       "    .dataframe thead th {\n",
       "        text-align: right;\n",
       "    }\n",
       "</style>\n",
       "<table border=\"1\" class=\"dataframe\">\n",
       "  <thead>\n",
       "    <tr style=\"text-align: right;\">\n",
       "      <th></th>\n",
       "      <th>面积(平方米)</th>\n",
       "      <th>押金</th>\n",
       "      <th>判断押金</th>\n",
       "      <th>服务费</th>\n",
       "      <th>中介费</th>\n",
       "      <th>A地铁线</th>\n",
       "      <th>B地铁线</th>\n",
       "      <th>C地铁线</th>\n",
       "      <th>大区标签</th>\n",
       "      <th>品牌标签</th>\n",
       "      <th>...</th>\n",
       "      <th>大区英文平均值特征</th>\n",
       "      <th>房屋配置聚类标签</th>\n",
       "      <th>平均值特征2</th>\n",
       "      <th>房屋装修聚类标签</th>\n",
       "      <th>平均值特征3</th>\n",
       "      <th>房屋费用聚类标签</th>\n",
       "      <th>平均值特征4</th>\n",
       "      <th>房屋便利聚类标签</th>\n",
       "      <th>平均值特征5</th>\n",
       "      <th>小区_标签</th>\n",
       "    </tr>\n",
       "  </thead>\n",
       "  <tbody>\n",
       "    <tr>\n",
       "      <th>9638</th>\n",
       "      <td>-0.673171</td>\n",
       "      <td>-0.459882</td>\n",
       "      <td>-0.124347</td>\n",
       "      <td>-0.237884</td>\n",
       "      <td>0.0</td>\n",
       "      <td>1.585995</td>\n",
       "      <td>-0.749799</td>\n",
       "      <td>-0.481042</td>\n",
       "      <td>-1.719888</td>\n",
       "      <td>-0.559417</td>\n",
       "      <td>...</td>\n",
       "      <td>0.167019</td>\n",
       "      <td>-0.230466</td>\n",
       "      <td>-0.037726</td>\n",
       "      <td>-1.191581</td>\n",
       "      <td>0.680363</td>\n",
       "      <td>-0.416380</td>\n",
       "      <td>0.322877</td>\n",
       "      <td>-0.136630</td>\n",
       "      <td>-0.806985</td>\n",
       "      <td>0.959061</td>\n",
       "    </tr>\n",
       "    <tr>\n",
       "      <th>4419</th>\n",
       "      <td>-0.657413</td>\n",
       "      <td>-0.469859</td>\n",
       "      <td>-0.124347</td>\n",
       "      <td>-0.237884</td>\n",
       "      <td>0.0</td>\n",
       "      <td>-0.259056</td>\n",
       "      <td>-0.749799</td>\n",
       "      <td>-0.481042</td>\n",
       "      <td>-0.154924</td>\n",
       "      <td>-0.559417</td>\n",
       "      <td>...</td>\n",
       "      <td>-1.134069</td>\n",
       "      <td>-0.230466</td>\n",
       "      <td>-0.037726</td>\n",
       "      <td>-1.191581</td>\n",
       "      <td>0.680363</td>\n",
       "      <td>-0.416380</td>\n",
       "      <td>0.322877</td>\n",
       "      <td>-0.784402</td>\n",
       "      <td>0.707251</td>\n",
       "      <td>-0.631599</td>\n",
       "    </tr>\n",
       "    <tr>\n",
       "      <th>12116</th>\n",
       "      <td>-1.090758</td>\n",
       "      <td>-0.651434</td>\n",
       "      <td>-2.065624</td>\n",
       "      <td>-0.127463</td>\n",
       "      <td>0.0</td>\n",
       "      <td>0.560967</td>\n",
       "      <td>0.895258</td>\n",
       "      <td>-0.481042</td>\n",
       "      <td>-0.937406</td>\n",
       "      <td>0.475758</td>\n",
       "      <td>...</td>\n",
       "      <td>1.266339</td>\n",
       "      <td>-1.708074</td>\n",
       "      <td>-2.469023</td>\n",
       "      <td>-1.191581</td>\n",
       "      <td>0.680363</td>\n",
       "      <td>1.428554</td>\n",
       "      <td>-2.863050</td>\n",
       "      <td>-0.136630</td>\n",
       "      <td>-0.806985</td>\n",
       "      <td>1.930519</td>\n",
       "    </tr>\n",
       "    <tr>\n",
       "      <th>5040</th>\n",
       "      <td>0.256550</td>\n",
       "      <td>0.108787</td>\n",
       "      <td>-0.124347</td>\n",
       "      <td>-0.237884</td>\n",
       "      <td>0.0</td>\n",
       "      <td>-0.464062</td>\n",
       "      <td>-0.749799</td>\n",
       "      <td>-0.481042</td>\n",
       "      <td>1.018799</td>\n",
       "      <td>1.510932</td>\n",
       "      <td>...</td>\n",
       "      <td>-0.245454</td>\n",
       "      <td>-0.969270</td>\n",
       "      <td>0.414492</td>\n",
       "      <td>1.292128</td>\n",
       "      <td>0.882335</td>\n",
       "      <td>-0.416380</td>\n",
       "      <td>0.322877</td>\n",
       "      <td>-0.784402</td>\n",
       "      <td>0.707251</td>\n",
       "      <td>0.017875</td>\n",
       "    </tr>\n",
       "    <tr>\n",
       "      <th>8524</th>\n",
       "      <td>-0.415686</td>\n",
       "      <td>-0.307639</td>\n",
       "      <td>-0.124347</td>\n",
       "      <td>0.033527</td>\n",
       "      <td>0.0</td>\n",
       "      <td>0.150955</td>\n",
       "      <td>1.306522</td>\n",
       "      <td>1.153829</td>\n",
       "      <td>0.627558</td>\n",
       "      <td>-1.594592</td>\n",
       "      <td>...</td>\n",
       "      <td>0.111686</td>\n",
       "      <td>-0.230466</td>\n",
       "      <td>-0.037726</td>\n",
       "      <td>1.292128</td>\n",
       "      <td>0.882335</td>\n",
       "      <td>3.273487</td>\n",
       "      <td>0.688368</td>\n",
       "      <td>-0.784402</td>\n",
       "      <td>0.707251</td>\n",
       "      <td>-1.217776</td>\n",
       "    </tr>\n",
       "    <tr>\n",
       "      <th>...</th>\n",
       "      <td>...</td>\n",
       "      <td>...</td>\n",
       "      <td>...</td>\n",
       "      <td>...</td>\n",
       "      <td>...</td>\n",
       "      <td>...</td>\n",
       "      <td>...</td>\n",
       "      <td>...</td>\n",
       "      <td>...</td>\n",
       "      <td>...</td>\n",
       "      <td>...</td>\n",
       "      <td>...</td>\n",
       "      <td>...</td>\n",
       "      <td>...</td>\n",
       "      <td>...</td>\n",
       "      <td>...</td>\n",
       "      <td>...</td>\n",
       "      <td>...</td>\n",
       "      <td>...</td>\n",
       "      <td>...</td>\n",
       "      <td>...</td>\n",
       "    </tr>\n",
       "    <tr>\n",
       "      <th>11964</th>\n",
       "      <td>-1.142759</td>\n",
       "      <td>-0.647793</td>\n",
       "      <td>-2.065624</td>\n",
       "      <td>-0.123071</td>\n",
       "      <td>0.0</td>\n",
       "      <td>-0.464062</td>\n",
       "      <td>-0.132903</td>\n",
       "      <td>-0.481042</td>\n",
       "      <td>-0.937406</td>\n",
       "      <td>0.475758</td>\n",
       "      <td>...</td>\n",
       "      <td>1.266339</td>\n",
       "      <td>-1.708074</td>\n",
       "      <td>-2.469023</td>\n",
       "      <td>-1.191581</td>\n",
       "      <td>0.680363</td>\n",
       "      <td>1.428554</td>\n",
       "      <td>-2.863050</td>\n",
       "      <td>-0.784402</td>\n",
       "      <td>0.707251</td>\n",
       "      <td>0.654964</td>\n",
       "    </tr>\n",
       "    <tr>\n",
       "      <th>5191</th>\n",
       "      <td>-0.074368</td>\n",
       "      <td>-0.340162</td>\n",
       "      <td>-0.124347</td>\n",
       "      <td>-0.237884</td>\n",
       "      <td>0.0</td>\n",
       "      <td>-1.079079</td>\n",
       "      <td>-0.749799</td>\n",
       "      <td>-0.481042</td>\n",
       "      <td>-0.154924</td>\n",
       "      <td>-0.559417</td>\n",
       "      <td>...</td>\n",
       "      <td>-1.134069</td>\n",
       "      <td>0.508338</td>\n",
       "      <td>0.065221</td>\n",
       "      <td>-1.191581</td>\n",
       "      <td>0.680363</td>\n",
       "      <td>-0.416380</td>\n",
       "      <td>0.322877</td>\n",
       "      <td>1.806686</td>\n",
       "      <td>-0.352309</td>\n",
       "      <td>-0.906799</td>\n",
       "    </tr>\n",
       "    <tr>\n",
       "      <th>5390</th>\n",
       "      <td>-0.421044</td>\n",
       "      <td>-0.280302</td>\n",
       "      <td>-0.124347</td>\n",
       "      <td>-0.237884</td>\n",
       "      <td>0.0</td>\n",
       "      <td>-0.669068</td>\n",
       "      <td>-0.749799</td>\n",
       "      <td>-0.481042</td>\n",
       "      <td>0.627558</td>\n",
       "      <td>-0.559417</td>\n",
       "      <td>...</td>\n",
       "      <td>0.111686</td>\n",
       "      <td>-0.230466</td>\n",
       "      <td>-0.037726</td>\n",
       "      <td>1.292128</td>\n",
       "      <td>0.882335</td>\n",
       "      <td>-0.416380</td>\n",
       "      <td>0.322877</td>\n",
       "      <td>-0.784402</td>\n",
       "      <td>0.707251</td>\n",
       "      <td>1.466806</td>\n",
       "    </tr>\n",
       "    <tr>\n",
       "      <th>860</th>\n",
       "      <td>0.650499</td>\n",
       "      <td>0.158671</td>\n",
       "      <td>-0.124347</td>\n",
       "      <td>5.402394</td>\n",
       "      <td>0.0</td>\n",
       "      <td>-0.669068</td>\n",
       "      <td>-0.749799</td>\n",
       "      <td>-0.481042</td>\n",
       "      <td>0.627558</td>\n",
       "      <td>-0.559417</td>\n",
       "      <td>...</td>\n",
       "      <td>0.111686</td>\n",
       "      <td>-0.969270</td>\n",
       "      <td>0.414492</td>\n",
       "      <td>-0.363678</td>\n",
       "      <td>-1.522870</td>\n",
       "      <td>-0.416380</td>\n",
       "      <td>0.322877</td>\n",
       "      <td>-0.784402</td>\n",
       "      <td>0.707251</td>\n",
       "      <td>-1.182000</td>\n",
       "    </tr>\n",
       "    <tr>\n",
       "      <th>7270</th>\n",
       "      <td>0.602280</td>\n",
       "      <td>0.507854</td>\n",
       "      <td>1.816930</td>\n",
       "      <td>-0.237884</td>\n",
       "      <td>0.0</td>\n",
       "      <td>-0.669068</td>\n",
       "      <td>-0.749799</td>\n",
       "      <td>-0.481042</td>\n",
       "      <td>1.018799</td>\n",
       "      <td>-0.559417</td>\n",
       "      <td>...</td>\n",
       "      <td>-0.245454</td>\n",
       "      <td>-0.969270</td>\n",
       "      <td>0.414492</td>\n",
       "      <td>1.292128</td>\n",
       "      <td>0.882335</td>\n",
       "      <td>-0.416380</td>\n",
       "      <td>0.322877</td>\n",
       "      <td>-0.784402</td>\n",
       "      <td>0.707251</td>\n",
       "      <td>-0.510510</td>\n",
       "    </tr>\n",
       "  </tbody>\n",
       "</table>\n",
       "<p>9008 rows × 48 columns</p>\n",
       "</div>"
      ],
      "text/plain": [
       "        面积(平方米)        押金      判断押金       服务费  中介费      A地铁线      B地铁线  \\\n",
       "9638  -0.673171 -0.459882 -0.124347 -0.237884  0.0  1.585995 -0.749799   \n",
       "4419  -0.657413 -0.469859 -0.124347 -0.237884  0.0 -0.259056 -0.749799   \n",
       "12116 -1.090758 -0.651434 -2.065624 -0.127463  0.0  0.560967  0.895258   \n",
       "5040   0.256550  0.108787 -0.124347 -0.237884  0.0 -0.464062 -0.749799   \n",
       "8524  -0.415686 -0.307639 -0.124347  0.033527  0.0  0.150955  1.306522   \n",
       "...         ...       ...       ...       ...  ...       ...       ...   \n",
       "11964 -1.142759 -0.647793 -2.065624 -0.123071  0.0 -0.464062 -0.132903   \n",
       "5191  -0.074368 -0.340162 -0.124347 -0.237884  0.0 -1.079079 -0.749799   \n",
       "5390  -0.421044 -0.280302 -0.124347 -0.237884  0.0 -0.669068 -0.749799   \n",
       "860    0.650499  0.158671 -0.124347  5.402394  0.0 -0.669068 -0.749799   \n",
       "7270   0.602280  0.507854  1.816930 -0.237884  0.0 -0.669068 -0.749799   \n",
       "\n",
       "           C地铁线      大区标签      品牌标签  ...  大区英文平均值特征  房屋配置聚类标签    平均值特征2  \\\n",
       "9638  -0.481042 -1.719888 -0.559417  ...   0.167019 -0.230466 -0.037726   \n",
       "4419  -0.481042 -0.154924 -0.559417  ...  -1.134069 -0.230466 -0.037726   \n",
       "12116 -0.481042 -0.937406  0.475758  ...   1.266339 -1.708074 -2.469023   \n",
       "5040  -0.481042  1.018799  1.510932  ...  -0.245454 -0.969270  0.414492   \n",
       "8524   1.153829  0.627558 -1.594592  ...   0.111686 -0.230466 -0.037726   \n",
       "...         ...       ...       ...  ...        ...       ...       ...   \n",
       "11964 -0.481042 -0.937406  0.475758  ...   1.266339 -1.708074 -2.469023   \n",
       "5191  -0.481042 -0.154924 -0.559417  ...  -1.134069  0.508338  0.065221   \n",
       "5390  -0.481042  0.627558 -0.559417  ...   0.111686 -0.230466 -0.037726   \n",
       "860   -0.481042  0.627558 -0.559417  ...   0.111686 -0.969270  0.414492   \n",
       "7270  -0.481042  1.018799 -0.559417  ...  -0.245454 -0.969270  0.414492   \n",
       "\n",
       "       房屋装修聚类标签    平均值特征3  房屋费用聚类标签    平均值特征4  房屋便利聚类标签    平均值特征5     小区_标签  \n",
       "9638  -1.191581  0.680363 -0.416380  0.322877 -0.136630 -0.806985  0.959061  \n",
       "4419  -1.191581  0.680363 -0.416380  0.322877 -0.784402  0.707251 -0.631599  \n",
       "12116 -1.191581  0.680363  1.428554 -2.863050 -0.136630 -0.806985  1.930519  \n",
       "5040   1.292128  0.882335 -0.416380  0.322877 -0.784402  0.707251  0.017875  \n",
       "8524   1.292128  0.882335  3.273487  0.688368 -0.784402  0.707251 -1.217776  \n",
       "...         ...       ...       ...       ...       ...       ...       ...  \n",
       "11964 -1.191581  0.680363  1.428554 -2.863050 -0.784402  0.707251  0.654964  \n",
       "5191  -1.191581  0.680363 -0.416380  0.322877  1.806686 -0.352309 -0.906799  \n",
       "5390   1.292128  0.882335 -0.416380  0.322877 -0.784402  0.707251  1.466806  \n",
       "860   -0.363678 -1.522870 -0.416380  0.322877 -0.784402  0.707251 -1.182000  \n",
       "7270   1.292128  0.882335 -0.416380  0.322877 -0.784402  0.707251 -0.510510  \n",
       "\n",
       "[9008 rows x 48 columns]"
      ]
     },
     "execution_count": 105,
     "metadata": {},
     "output_type": "execute_result"
    }
   ],
   "source": [
    "bzh"
   ]
  },
  {
   "cell_type": "code",
   "execution_count": 106,
   "id": "c99d4ea4",
   "metadata": {
    "ExecuteTime": {
     "end_time": "2024-03-21T09:45:12.003048Z",
     "start_time": "2024-03-21T09:45:11.985525Z"
    }
   },
   "outputs": [
    {
     "data": {
      "text/plain": [
       "Index(['租金', '面积(平方米)', '押金', '判断押金', '服务费', '中介费', 'A地铁线', 'B地铁线', 'C地铁线',\n",
       "       '大区标签', '品牌标签', '租赁方式标签', '户型标签', '装修标签', '朝向标签', '电梯_标签', '车位_标签',\n",
       "       '用水_标签', '用电_标签', '燃气_标签', '采暖_标签', 'A付款方式标签', 'B付款方式标签', 'C付款方式标签',\n",
       "       '楼层标签', '卧室', '客厅', '卫生间', '房+卫+厅', '房/总', '卫/总', '厅/总', '卧室面积', '户型',\n",
       "       '是否地铁', '平均值特征1', '大区+街道平均值特征', '朝向标签平均值特征', 'A地铁线平均值特征', '大区英文平均值特征',\n",
       "       '房屋配置聚类标签', '平均值特征2', '房屋装修聚类标签', '平均值特征3', '房屋费用聚类标签', '平均值特征4',\n",
       "       '房屋便利聚类标签', '平均值特征5', '小区_标签'],\n",
       "      dtype='object')"
      ]
     },
     "execution_count": 106,
     "metadata": {},
     "output_type": "execute_result"
    }
   ],
   "source": [
    "data.columns"
   ]
  },
  {
   "cell_type": "code",
   "execution_count": null,
   "id": "f666a83b",
   "metadata": {
    "ExecuteTime": {
     "end_time": "2024-03-21T09:42:54.247741Z",
     "start_time": "2024-03-21T09:42:54.231737Z"
    }
   },
   "outputs": [],
   "source": []
  },
  {
   "cell_type": "code",
   "execution_count": null,
   "id": "f70b2fc7",
   "metadata": {
    "ExecuteTime": {
     "end_time": "2024-03-21T09:45:13.735007Z",
     "start_time": "2024-03-21T09:45:13.671236Z"
    },
    "scrolled": true
   },
   "outputs": [],
   "source": []
  },
  {
   "cell_type": "code",
   "execution_count": 22,
   "id": "94cb2711",
   "metadata": {
    "ExecuteTime": {
     "end_time": "2024-03-21T08:48:57.234076Z",
     "start_time": "2024-03-21T08:48:57.222129Z"
    }
   },
   "outputs": [],
   "source": [
    "#挑选特征 提取互信息数高的特征来对模型进行预测"
   ]
  },
  {
   "cell_type": "code",
   "execution_count": null,
   "id": "56563ed2",
   "metadata": {},
   "outputs": [],
   "source": []
  },
  {
   "cell_type": "code",
   "execution_count": 48,
   "id": "cb9e61df",
   "metadata": {
    "ExecuteTime": {
     "end_time": "2024-03-21T08:58:59.027154Z",
     "start_time": "2024-03-21T08:58:59.016156Z"
    }
   },
   "outputs": [],
   "source": [
    "# from sklearn.preprocessing import LabelEncoder\n",
    "\n",
    "# def train(data, num_round=500):\n",
    "#     \"\"\"\n",
    "#     负责完成一次xgboost训练，返回测试集 R^2 分数\n",
    "#     \"\"\"\n",
    "#     # 1.获取数据集\n",
    "#     X = data.drop('租金', axis=1)\n",
    "#     y = data['租金']\n",
    "    \n",
    "#     # 2.分割训练集和测试集\n",
    "#     X_train, X_test, y_train, y_test = train_test_split(X, y, test_size=0.3, random_state=42)\n",
    "    \n",
    "#     # 3.处理分类（object）列\n",
    "#     categorical_cols = X.select_dtypes(include=['object']).columns.tolist()\n",
    "#     label_encoders = {}\n",
    "#     for col in categorical_cols:\n",
    "#         le = LabelEncoder()\n",
    "#         le.fit(X[col])  # 在整个数据集上进行编码\n",
    "#         X_train[col] = le.transform(X_train[col])\n",
    "#         X_test[col] = le.transform(X_test[col])\n",
    "#         label_encoders[col] = le\n",
    "    \n",
    "#     # 4.构建数据格式\n",
    "#     dtrain = xgb.DMatrix(X_train, label=y_train)\n",
    "#     dtest = xgb.DMatrix(X_test, label=y_test)\n",
    "    \n",
    "#     # 5.设置训练参数\n",
    "    \n",
    "    \n",
    "#     # 6.模型训练\n",
    "#     bst = xgb.train( dtrain, 20)\n",
    "    \n",
    "#     # 7.模型预测\n",
    "#     preds = bst.predict(dtest)\n",
    "#     preds = np.exp(preds) - 1  # 转换成真实的租金\n",
    "#     y_true = np.exp(y_test) - 1\n",
    "    \n",
    "#     # 8.计算 R^2 分数\n",
    "    \n",
    "#     return np.sqrt(mean_squared_error(y_true,preds))\n"
   ]
  },
  {
   "cell_type": "code",
   "execution_count": 52,
   "id": "6ad302ca",
   "metadata": {
    "ExecuteTime": {
     "end_time": "2024-03-21T09:00:12.651433Z",
     "start_time": "2024-03-21T09:00:12.631511Z"
    }
   },
   "outputs": [],
   "source": [
    "# from sklearn.preprocessing import LabelEncoder\n",
    "\n",
    "# def train(data, num_round=500):\n",
    "#     \"\"\"\n",
    "#     负责完成一次xgboost训练，返回测试集 R^2 分数\n",
    "#     \"\"\"\n",
    "#     # 1.获取数据集\n",
    "#     X = data.drop('租金', axis=1)\n",
    "#     y = data['租金']\n",
    "    \n",
    "#     # 2.分割训练集和测试集\n",
    "#     X_train, X_test, y_train, y_test = train_test_split(X, y, test_size=0.3, random_state=42)\n",
    "    \n",
    "#     # 3.处理分类（object）列\n",
    "#     categorical_cols = X.select_dtypes(include=['object']).columns.tolist()\n",
    "#     label_encoders = {}\n",
    "#     for col in categorical_cols:\n",
    "#         le = LabelEncoder()\n",
    "#         le.fit(X[col])  # 在整个数据集上进行编码\n",
    "#         X_train[col] = le.transform(X_train[col])\n",
    "#         X_test[col] = le.transform(X_test[col])\n",
    "#         label_encoders[col] = le\n",
    "    \n",
    "#     # 4.构建数据格式\n",
    "#     dtrain = xgb.DMatrix(X_train, label=y_train)\n",
    "#     dtest = xgb.DMatrix(X_test, label=y_test)\n",
    "    \n",
    "#     # 5.设置训练参数\n",
    "#     param = {'max_depth': 2, \n",
    "#              'eta': 0.01, \n",
    "#              'min_child_weight': 1,\n",
    "#              'eval_metric': 'rmse'\n",
    "#             }\n",
    "    \n",
    "#     # 6.模型训练\n",
    "#     bst = xgb.train(param, dtrain, num_boost_round=num_round)\n",
    "    \n",
    "#     # 7.模型预测\n",
    "#     preds = bst.predict(dtest)\n",
    "#     preds = np.exp(preds) - 1  # 转换成真实的租金\n",
    "#     y_true = np.exp(y_test) - 1\n",
    "    \n",
    "#     # 8.计算 R^2 分数\n",
    "#     r2 = r2_score(y_true, preds)\n",
    "    \n",
    "#     return r2\n"
   ]
  },
  {
   "cell_type": "code",
   "execution_count": 53,
   "id": "23533617",
   "metadata": {
    "ExecuteTime": {
     "end_time": "2024-03-21T09:00:14.214314Z",
     "start_time": "2024-03-21T09:00:13.671313Z"
    },
    "collapsed": true
   },
   "outputs": [
    {
     "ename": "ValueError",
     "evalue": "Input contains infinity or a value too large for dtype('float64').",
     "output_type": "error",
     "traceback": [
      "\u001b[1;31m---------------------------------------------------------------------------\u001b[0m",
      "\u001b[1;31mValueError\u001b[0m                                Traceback (most recent call last)",
      "Cell \u001b[1;32mIn[53], line 1\u001b[0m\n\u001b[1;32m----> 1\u001b[0m min_score\u001b[38;5;241m=\u001b[39m\u001b[43mtrain\u001b[49m\u001b[43m(\u001b[49m\u001b[43mdata\u001b[49m\u001b[43m)\u001b[49m\n",
      "Cell \u001b[1;32mIn[52], line 44\u001b[0m, in \u001b[0;36mtrain\u001b[1;34m(data, num_round)\u001b[0m\n\u001b[0;32m     41\u001b[0m y_true \u001b[38;5;241m=\u001b[39m np\u001b[38;5;241m.\u001b[39mexp(y_test) \u001b[38;5;241m-\u001b[39m \u001b[38;5;241m1\u001b[39m\n\u001b[0;32m     43\u001b[0m \u001b[38;5;66;03m# 8.计算 R^2 分数\u001b[39;00m\n\u001b[1;32m---> 44\u001b[0m r2 \u001b[38;5;241m=\u001b[39m \u001b[43mr2_score\u001b[49m\u001b[43m(\u001b[49m\u001b[43my_true\u001b[49m\u001b[43m,\u001b[49m\u001b[43m \u001b[49m\u001b[43mpreds\u001b[49m\u001b[43m)\u001b[49m\n\u001b[0;32m     46\u001b[0m \u001b[38;5;28;01mreturn\u001b[39;00m r2\n",
      "File \u001b[1;32m~\\.conda\\envs\\tipdm\\lib\\site-packages\\sklearn\\metrics\\_regression.py:911\u001b[0m, in \u001b[0;36mr2_score\u001b[1;34m(y_true, y_pred, sample_weight, multioutput, force_finite)\u001b[0m\n\u001b[0;32m    784\u001b[0m \u001b[38;5;28;01mdef\u001b[39;00m \u001b[38;5;21mr2_score\u001b[39m(\n\u001b[0;32m    785\u001b[0m     y_true,\n\u001b[0;32m    786\u001b[0m     y_pred,\n\u001b[1;32m   (...)\u001b[0m\n\u001b[0;32m    790\u001b[0m     force_finite\u001b[38;5;241m=\u001b[39m\u001b[38;5;28;01mTrue\u001b[39;00m,\n\u001b[0;32m    791\u001b[0m ):\n\u001b[0;32m    792\u001b[0m \u001b[38;5;250m    \u001b[39m\u001b[38;5;124;03m\"\"\":math:`R^2` (coefficient of determination) regression score function.\u001b[39;00m\n\u001b[0;32m    793\u001b[0m \n\u001b[0;32m    794\u001b[0m \u001b[38;5;124;03m    Best possible score is 1.0 and it can be negative (because the\u001b[39;00m\n\u001b[1;32m   (...)\u001b[0m\n\u001b[0;32m    909\u001b[0m \u001b[38;5;124;03m    -inf\u001b[39;00m\n\u001b[0;32m    910\u001b[0m \u001b[38;5;124;03m    \"\"\"\u001b[39;00m\n\u001b[1;32m--> 911\u001b[0m     y_type, y_true, y_pred, multioutput \u001b[38;5;241m=\u001b[39m \u001b[43m_check_reg_targets\u001b[49m\u001b[43m(\u001b[49m\n\u001b[0;32m    912\u001b[0m \u001b[43m        \u001b[49m\u001b[43my_true\u001b[49m\u001b[43m,\u001b[49m\u001b[43m \u001b[49m\u001b[43my_pred\u001b[49m\u001b[43m,\u001b[49m\u001b[43m \u001b[49m\u001b[43mmultioutput\u001b[49m\n\u001b[0;32m    913\u001b[0m \u001b[43m    \u001b[49m\u001b[43m)\u001b[49m\n\u001b[0;32m    914\u001b[0m     check_consistent_length(y_true, y_pred, sample_weight)\n\u001b[0;32m    916\u001b[0m     \u001b[38;5;28;01mif\u001b[39;00m _num_samples(y_pred) \u001b[38;5;241m<\u001b[39m \u001b[38;5;241m2\u001b[39m:\n",
      "File \u001b[1;32m~\\.conda\\envs\\tipdm\\lib\\site-packages\\sklearn\\metrics\\_regression.py:101\u001b[0m, in \u001b[0;36m_check_reg_targets\u001b[1;34m(y_true, y_pred, multioutput, dtype)\u001b[0m\n\u001b[0;32m     67\u001b[0m \u001b[38;5;250m\u001b[39m\u001b[38;5;124;03m\"\"\"Check that y_true and y_pred belong to the same regression task.\u001b[39;00m\n\u001b[0;32m     68\u001b[0m \n\u001b[0;32m     69\u001b[0m \u001b[38;5;124;03mParameters\u001b[39;00m\n\u001b[1;32m   (...)\u001b[0m\n\u001b[0;32m     98\u001b[0m \u001b[38;5;124;03m    correct keyword.\u001b[39;00m\n\u001b[0;32m     99\u001b[0m \u001b[38;5;124;03m\"\"\"\u001b[39;00m\n\u001b[0;32m    100\u001b[0m check_consistent_length(y_true, y_pred)\n\u001b[1;32m--> 101\u001b[0m y_true \u001b[38;5;241m=\u001b[39m \u001b[43mcheck_array\u001b[49m\u001b[43m(\u001b[49m\u001b[43my_true\u001b[49m\u001b[43m,\u001b[49m\u001b[43m \u001b[49m\u001b[43mensure_2d\u001b[49m\u001b[38;5;241;43m=\u001b[39;49m\u001b[38;5;28;43;01mFalse\u001b[39;49;00m\u001b[43m,\u001b[49m\u001b[43m \u001b[49m\u001b[43mdtype\u001b[49m\u001b[38;5;241;43m=\u001b[39;49m\u001b[43mdtype\u001b[49m\u001b[43m)\u001b[49m\n\u001b[0;32m    102\u001b[0m y_pred \u001b[38;5;241m=\u001b[39m check_array(y_pred, ensure_2d\u001b[38;5;241m=\u001b[39m\u001b[38;5;28;01mFalse\u001b[39;00m, dtype\u001b[38;5;241m=\u001b[39mdtype)\n\u001b[0;32m    104\u001b[0m \u001b[38;5;28;01mif\u001b[39;00m y_true\u001b[38;5;241m.\u001b[39mndim \u001b[38;5;241m==\u001b[39m \u001b[38;5;241m1\u001b[39m:\n",
      "File \u001b[1;32m~\\.conda\\envs\\tipdm\\lib\\site-packages\\sklearn\\utils\\validation.py:899\u001b[0m, in \u001b[0;36mcheck_array\u001b[1;34m(array, accept_sparse, accept_large_sparse, dtype, order, copy, force_all_finite, ensure_2d, allow_nd, ensure_min_samples, ensure_min_features, estimator, input_name)\u001b[0m\n\u001b[0;32m    893\u001b[0m         \u001b[38;5;28;01mraise\u001b[39;00m \u001b[38;5;167;01mValueError\u001b[39;00m(\n\u001b[0;32m    894\u001b[0m             \u001b[38;5;124m\"\u001b[39m\u001b[38;5;124mFound array with dim \u001b[39m\u001b[38;5;132;01m%d\u001b[39;00m\u001b[38;5;124m. \u001b[39m\u001b[38;5;132;01m%s\u001b[39;00m\u001b[38;5;124m expected <= 2.\u001b[39m\u001b[38;5;124m\"\u001b[39m\n\u001b[0;32m    895\u001b[0m             \u001b[38;5;241m%\u001b[39m (array\u001b[38;5;241m.\u001b[39mndim, estimator_name)\n\u001b[0;32m    896\u001b[0m         )\n\u001b[0;32m    898\u001b[0m     \u001b[38;5;28;01mif\u001b[39;00m force_all_finite:\n\u001b[1;32m--> 899\u001b[0m         \u001b[43m_assert_all_finite\u001b[49m\u001b[43m(\u001b[49m\n\u001b[0;32m    900\u001b[0m \u001b[43m            \u001b[49m\u001b[43marray\u001b[49m\u001b[43m,\u001b[49m\n\u001b[0;32m    901\u001b[0m \u001b[43m            \u001b[49m\u001b[43minput_name\u001b[49m\u001b[38;5;241;43m=\u001b[39;49m\u001b[43minput_name\u001b[49m\u001b[43m,\u001b[49m\n\u001b[0;32m    902\u001b[0m \u001b[43m            \u001b[49m\u001b[43mestimator_name\u001b[49m\u001b[38;5;241;43m=\u001b[39;49m\u001b[43mestimator_name\u001b[49m\u001b[43m,\u001b[49m\n\u001b[0;32m    903\u001b[0m \u001b[43m            \u001b[49m\u001b[43mallow_nan\u001b[49m\u001b[38;5;241;43m=\u001b[39;49m\u001b[43mforce_all_finite\u001b[49m\u001b[43m \u001b[49m\u001b[38;5;241;43m==\u001b[39;49m\u001b[43m \u001b[49m\u001b[38;5;124;43m\"\u001b[39;49m\u001b[38;5;124;43mallow-nan\u001b[39;49m\u001b[38;5;124;43m\"\u001b[39;49m\u001b[43m,\u001b[49m\n\u001b[0;32m    904\u001b[0m \u001b[43m        \u001b[49m\u001b[43m)\u001b[49m\n\u001b[0;32m    906\u001b[0m \u001b[38;5;28;01mif\u001b[39;00m ensure_min_samples \u001b[38;5;241m>\u001b[39m \u001b[38;5;241m0\u001b[39m:\n\u001b[0;32m    907\u001b[0m     n_samples \u001b[38;5;241m=\u001b[39m _num_samples(array)\n",
      "File \u001b[1;32m~\\.conda\\envs\\tipdm\\lib\\site-packages\\sklearn\\utils\\validation.py:146\u001b[0m, in \u001b[0;36m_assert_all_finite\u001b[1;34m(X, allow_nan, msg_dtype, estimator_name, input_name)\u001b[0m\n\u001b[0;32m    124\u001b[0m         \u001b[38;5;28;01mif\u001b[39;00m (\n\u001b[0;32m    125\u001b[0m             \u001b[38;5;129;01mnot\u001b[39;00m allow_nan\n\u001b[0;32m    126\u001b[0m             \u001b[38;5;129;01mand\u001b[39;00m estimator_name\n\u001b[1;32m   (...)\u001b[0m\n\u001b[0;32m    130\u001b[0m             \u001b[38;5;66;03m# Improve the error message on how to handle missing values in\u001b[39;00m\n\u001b[0;32m    131\u001b[0m             \u001b[38;5;66;03m# scikit-learn.\u001b[39;00m\n\u001b[0;32m    132\u001b[0m             msg_err \u001b[38;5;241m+\u001b[39m\u001b[38;5;241m=\u001b[39m (\n\u001b[0;32m    133\u001b[0m                 \u001b[38;5;124mf\u001b[39m\u001b[38;5;124m\"\u001b[39m\u001b[38;5;130;01m\\n\u001b[39;00m\u001b[38;5;132;01m{\u001b[39;00mestimator_name\u001b[38;5;132;01m}\u001b[39;00m\u001b[38;5;124m does not accept missing values\u001b[39m\u001b[38;5;124m\"\u001b[39m\n\u001b[0;32m    134\u001b[0m                 \u001b[38;5;124m\"\u001b[39m\u001b[38;5;124m encoded as NaN natively. For supervised learning, you might want\u001b[39m\u001b[38;5;124m\"\u001b[39m\n\u001b[1;32m   (...)\u001b[0m\n\u001b[0;32m    144\u001b[0m                 \u001b[38;5;124m\"\u001b[39m\u001b[38;5;124m#estimators-that-handle-nan-values\u001b[39m\u001b[38;5;124m\"\u001b[39m\n\u001b[0;32m    145\u001b[0m             )\n\u001b[1;32m--> 146\u001b[0m         \u001b[38;5;28;01mraise\u001b[39;00m \u001b[38;5;167;01mValueError\u001b[39;00m(msg_err)\n\u001b[0;32m    148\u001b[0m \u001b[38;5;66;03m# for object dtype data, we only check for NaNs (GH-13254)\u001b[39;00m\n\u001b[0;32m    149\u001b[0m \u001b[38;5;28;01melif\u001b[39;00m X\u001b[38;5;241m.\u001b[39mdtype \u001b[38;5;241m==\u001b[39m np\u001b[38;5;241m.\u001b[39mdtype(\u001b[38;5;124m\"\u001b[39m\u001b[38;5;124mobject\u001b[39m\u001b[38;5;124m\"\u001b[39m) \u001b[38;5;129;01mand\u001b[39;00m \u001b[38;5;129;01mnot\u001b[39;00m allow_nan:\n",
      "\u001b[1;31mValueError\u001b[0m: Input contains infinity or a value too large for dtype('float64')."
     ]
    }
   ],
   "source": []
  },
  {
   "cell_type": "code",
   "execution_count": 36,
   "id": "a470f292",
   "metadata": {
    "ExecuteTime": {
     "end_time": "2024-03-21T08:55:06.728863Z",
     "start_time": "2024-03-21T08:55:06.718864Z"
    }
   },
   "outputs": [
    {
     "data": {
      "text/plain": [
       "11177    inf\n",
       "6081     inf\n",
       "8        inf\n",
       "839      inf\n",
       "9292     inf\n",
       "        ... \n",
       "9742     inf\n",
       "3671     inf\n",
       "872      inf\n",
       "6378     inf\n",
       "11577    inf\n",
       "Name: 租金, Length: 3861, dtype: float64"
      ]
     },
     "execution_count": 36,
     "metadata": {},
     "output_type": "execute_result"
    }
   ],
   "source": [
    "min_score"
   ]
  },
  {
   "cell_type": "code",
   "execution_count": null,
   "id": "6d13c567",
   "metadata": {},
   "outputs": [],
   "source": []
  }
 ],
 "metadata": {
  "kernelspec": {
   "display_name": "neihetipdm",
   "language": "python",
   "name": "neihetipdm"
  },
  "language_info": {
   "codemirror_mode": {
    "name": "ipython",
    "version": 3
   },
   "file_extension": ".py",
   "mimetype": "text/x-python",
   "name": "python",
   "nbconvert_exporter": "python",
   "pygments_lexer": "ipython3",
   "version": "3.10.0"
  },
  "toc": {
   "base_numbering": 1,
   "nav_menu": {},
   "number_sections": true,
   "sideBar": true,
   "skip_h1_title": false,
   "title_cell": "Table of Contents",
   "title_sidebar": "Contents",
   "toc_cell": false,
   "toc_position": {},
   "toc_section_display": true,
   "toc_window_display": false
  }
 },
 "nbformat": 4,
 "nbformat_minor": 5
}
