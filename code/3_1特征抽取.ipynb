{
 "cells": [
  {
   "cell_type": "code",
   "execution_count": 88,
   "id": "cc70cf4d",
   "metadata": {
    "ExecuteTime": {
     "end_time": "2024-03-24T10:20:38.837433Z",
     "start_time": "2024-03-24T10:20:38.821498Z"
    }
   },
   "outputs": [],
   "source": [
    "#导入相关包\n",
    "import pandas as pd\n",
    "import numpy as np\n",
    "import matplotlib.pyplot as plt\n",
    "pd.set_option('mode.chained_assignment',None) \n",
    "#不再弹出settingwithcopywarining警告\n",
    "import seaborn as sns\n",
    "plt.rcParams['font.sans-serif']=['SimHei']\n",
    "plt.rcParams['axes.unicode_minus']=False"
   ]
  },
  {
   "cell_type": "code",
   "execution_count": 107,
   "id": "086c4c93",
   "metadata": {
    "ExecuteTime": {
     "end_time": "2024-03-24T10:23:38.461844Z",
     "start_time": "2024-03-24T10:23:35.229632Z"
    }
   },
   "outputs": [],
   "source": [
    "#导入数据\n",
    "data = pd.read_excel('E://IT//毕设//result/data_twelve_first.xlsx')"
   ]
  },
  {
   "cell_type": "code",
   "execution_count": 108,
   "id": "4ea35edf",
   "metadata": {
    "ExecuteTime": {
     "end_time": "2024-03-24T10:23:38.477858Z",
     "start_time": "2024-03-24T10:23:38.463852Z"
    }
   },
   "outputs": [
    {
     "data": {
      "text/plain": [
       "Index(['租金', '面积(平方米)', '服务费', 'A地铁线', 'B地铁线', 'C地铁线', '大区标签', '品牌标签',\n",
       "       '租赁方式标签', '装修标签', '朝向标签', '电梯_标签', '车位_标签', '用水_标签', '用电_标签', '燃气_标签',\n",
       "       '采暖_标签', 'A付款方式标签', 'B付款方式标签', 'C付款方式标签', '楼层标签', '卧室', '客厅', '卫生间',\n",
       "       '房+卫+厅', '房/总', '卫/总', '厅/总', '卧室面积', '户型', '是否地铁', '小区_标签'],\n",
       "      dtype='object')"
      ]
     },
     "execution_count": 108,
     "metadata": {},
     "output_type": "execute_result"
    }
   ],
   "source": [
    "data.columns"
   ]
  },
  {
   "cell_type": "code",
   "execution_count": 109,
   "id": "3cf6baab",
   "metadata": {
    "ExecuteTime": {
     "end_time": "2024-03-24T10:23:38.493859Z",
     "start_time": "2024-03-24T10:23:38.479859Z"
    }
   },
   "outputs": [],
   "source": [
    "df=pd.DataFrame(data)"
   ]
  },
  {
   "cell_type": "code",
   "execution_count": 110,
   "id": "c25936e3",
   "metadata": {
    "ExecuteTime": {
     "end_time": "2024-03-24T10:23:38.509858Z",
     "start_time": "2024-03-24T10:23:38.496859Z"
    }
   },
   "outputs": [],
   "source": [
    "from sklearn.model_selection import train_test_split\n",
    "from sklearn.metrics import mean_squared_error, r2_score\n",
    "from math import sqrt\n",
    "import pandas as pd"
   ]
  },
  {
   "cell_type": "code",
   "execution_count": 111,
   "id": "1d4fed84",
   "metadata": {
    "ExecuteTime": {
     "end_time": "2024-03-24T10:23:38.525837Z",
     "start_time": "2024-03-24T10:23:38.512859Z"
    }
   },
   "outputs": [],
   "source": [
    "from sklearn.preprocessing import StandardScaler, MinMaxScaler\n",
    "from sklearn.linear_model import LinearRegression\n",
    "from sklearn.ensemble import RandomForestRegressor\n",
    "from xgboost import XGBRegressor"
   ]
  },
  {
   "cell_type": "code",
   "execution_count": 112,
   "id": "7b7baa2b",
   "metadata": {
    "ExecuteTime": {
     "end_time": "2024-03-24T10:23:38.540745Z",
     "start_time": "2024-03-24T10:23:38.527834Z"
    }
   },
   "outputs": [],
   "source": [
    "#原始数据进行归一化处理（标准化ormin max）"
   ]
  },
  {
   "cell_type": "code",
   "execution_count": 113,
   "id": "65dfc6d8",
   "metadata": {
    "ExecuteTime": {
     "end_time": "2024-03-24T10:23:38.571915Z",
     "start_time": "2024-03-24T10:23:38.542751Z"
    }
   },
   "outputs": [],
   "source": [
    "from sklearn.preprocessing import StandardScaler\n",
    "import pandas as pd\n",
    "\n",
    "# 假设 df 是你的数据 DataFrame\n",
    "\n",
    "# 记录列名\n",
    "columns = df.columns\n",
    "\n",
    "# 使用 StandardScaler 进行标准化\n",
    "scaler_standard = StandardScaler()\n",
    "df_SS = scaler_standard.fit_transform(df)\n",
    "\n",
    "# 将标准化后的数据转换为 DataFrame，并添加列名\n",
    "df_SS = pd.DataFrame(df_SS, columns=columns)\n"
   ]
  },
  {
   "cell_type": "code",
   "execution_count": 114,
   "id": "2d384ca8",
   "metadata": {
    "ExecuteTime": {
     "end_time": "2024-03-24T10:23:39.022652Z",
     "start_time": "2024-03-24T10:23:39.015655Z"
    }
   },
   "outputs": [],
   "source": [
    "# # 使用StandardScaler进行标准化\n",
    "# scaler_standard = StandardScaler()\n",
    "# df_SS = scaler_standard.fit_transform(df)\n",
    "\n",
    "# # # 使用MinMaxScaler进行最小-最大缩放\n",
    "# # scaler_minmax = MinMaxScaler()\n",
    "# # X_minmax_scaled = scaler_minmax.fit_transform(X)"
   ]
  },
  {
   "cell_type": "code",
   "execution_count": 115,
   "id": "646cb7e4",
   "metadata": {
    "ExecuteTime": {
     "end_time": "2024-03-24T10:23:39.574469Z",
     "start_time": "2024-03-24T10:23:39.548472Z"
    }
   },
   "outputs": [
    {
     "data": {
      "text/html": [
       "<div>\n",
       "<style scoped>\n",
       "    .dataframe tbody tr th:only-of-type {\n",
       "        vertical-align: middle;\n",
       "    }\n",
       "\n",
       "    .dataframe tbody tr th {\n",
       "        vertical-align: top;\n",
       "    }\n",
       "\n",
       "    .dataframe thead th {\n",
       "        text-align: right;\n",
       "    }\n",
       "</style>\n",
       "<table border=\"1\" class=\"dataframe\">\n",
       "  <thead>\n",
       "    <tr style=\"text-align: right;\">\n",
       "      <th></th>\n",
       "      <th>租金</th>\n",
       "      <th>面积(平方米)</th>\n",
       "      <th>服务费</th>\n",
       "      <th>A地铁线</th>\n",
       "      <th>B地铁线</th>\n",
       "      <th>C地铁线</th>\n",
       "      <th>大区标签</th>\n",
       "      <th>品牌标签</th>\n",
       "      <th>租赁方式标签</th>\n",
       "      <th>装修标签</th>\n",
       "      <th>...</th>\n",
       "      <th>客厅</th>\n",
       "      <th>卫生间</th>\n",
       "      <th>房+卫+厅</th>\n",
       "      <th>房/总</th>\n",
       "      <th>卫/总</th>\n",
       "      <th>厅/总</th>\n",
       "      <th>卧室面积</th>\n",
       "      <th>户型</th>\n",
       "      <th>是否地铁</th>\n",
       "      <th>小区_标签</th>\n",
       "    </tr>\n",
       "  </thead>\n",
       "  <tbody>\n",
       "    <tr>\n",
       "      <th>0</th>\n",
       "      <td>0.987885</td>\n",
       "      <td>-0.301396</td>\n",
       "      <td>0.164639</td>\n",
       "      <td>0.955208</td>\n",
       "      <td>0.882964</td>\n",
       "      <td>0.332361</td>\n",
       "      <td>-0.948950</td>\n",
       "      <td>-1.605027</td>\n",
       "      <td>-0.349114</td>\n",
       "      <td>-2.257468</td>\n",
       "      <td>...</td>\n",
       "      <td>-0.656831</td>\n",
       "      <td>-0.559330</td>\n",
       "      <td>-0.690508</td>\n",
       "      <td>0.029353</td>\n",
       "      <td>-0.025463</td>\n",
       "      <td>-0.016422</td>\n",
       "      <td>-0.093954</td>\n",
       "      <td>-0.563027</td>\n",
       "      <td>0.539593</td>\n",
       "      <td>-1.279817</td>\n",
       "    </tr>\n",
       "    <tr>\n",
       "      <th>1</th>\n",
       "      <td>0.857022</td>\n",
       "      <td>0.037665</td>\n",
       "      <td>0.147440</td>\n",
       "      <td>1.362536</td>\n",
       "      <td>-0.343090</td>\n",
       "      <td>-0.479782</td>\n",
       "      <td>-1.735782</td>\n",
       "      <td>-1.605027</td>\n",
       "      <td>-0.349114</td>\n",
       "      <td>0.442974</td>\n",
       "      <td>...</td>\n",
       "      <td>0.844281</td>\n",
       "      <td>-0.559330</td>\n",
       "      <td>-0.230014</td>\n",
       "      <td>-0.049858</td>\n",
       "      <td>-0.081766</td>\n",
       "      <td>0.152819</td>\n",
       "      <td>0.360602</td>\n",
       "      <td>-0.484798</td>\n",
       "      <td>0.539593</td>\n",
       "      <td>-1.278436</td>\n",
       "    </tr>\n",
       "    <tr>\n",
       "      <th>2</th>\n",
       "      <td>-0.809295</td>\n",
       "      <td>-0.698732</td>\n",
       "      <td>-0.071560</td>\n",
       "      <td>2.380858</td>\n",
       "      <td>-0.751774</td>\n",
       "      <td>-0.479782</td>\n",
       "      <td>-0.162117</td>\n",
       "      <td>-1.605027</td>\n",
       "      <td>-0.349114</td>\n",
       "      <td>0.442974</td>\n",
       "      <td>...</td>\n",
       "      <td>-2.157944</td>\n",
       "      <td>-0.559330</td>\n",
       "      <td>-1.611495</td>\n",
       "      <td>0.028366</td>\n",
       "      <td>0.255212</td>\n",
       "      <td>-0.298116</td>\n",
       "      <td>0.164476</td>\n",
       "      <td>-1.423541</td>\n",
       "      <td>0.539593</td>\n",
       "      <td>-1.277055</td>\n",
       "    </tr>\n",
       "    <tr>\n",
       "      <th>3</th>\n",
       "      <td>0.246330</td>\n",
       "      <td>0.658834</td>\n",
       "      <td>-0.219472</td>\n",
       "      <td>0.344215</td>\n",
       "      <td>-0.751774</td>\n",
       "      <td>-0.479782</td>\n",
       "      <td>-0.555534</td>\n",
       "      <td>-0.561366</td>\n",
       "      <td>-0.349114</td>\n",
       "      <td>0.442974</td>\n",
       "      <td>...</td>\n",
       "      <td>0.844281</td>\n",
       "      <td>0.867999</td>\n",
       "      <td>1.151467</td>\n",
       "      <td>0.029849</td>\n",
       "      <td>-0.025111</td>\n",
       "      <td>-0.016070</td>\n",
       "      <td>-0.112883</td>\n",
       "      <td>1.087597</td>\n",
       "      <td>0.539593</td>\n",
       "      <td>-1.275674</td>\n",
       "    </tr>\n",
       "    <tr>\n",
       "      <th>4</th>\n",
       "      <td>-0.931433</td>\n",
       "      <td>-0.731844</td>\n",
       "      <td>-0.219472</td>\n",
       "      <td>3.195516</td>\n",
       "      <td>3.539414</td>\n",
       "      <td>-0.479782</td>\n",
       "      <td>-1.735782</td>\n",
       "      <td>-0.561366</td>\n",
       "      <td>-0.349114</td>\n",
       "      <td>0.442974</td>\n",
       "      <td>...</td>\n",
       "      <td>-2.157944</td>\n",
       "      <td>-0.559330</td>\n",
       "      <td>-1.611495</td>\n",
       "      <td>0.028366</td>\n",
       "      <td>0.255212</td>\n",
       "      <td>-0.298116</td>\n",
       "      <td>0.076135</td>\n",
       "      <td>-1.423541</td>\n",
       "      <td>0.539593</td>\n",
       "      <td>-1.274293</td>\n",
       "    </tr>\n",
       "    <tr>\n",
       "      <th>...</th>\n",
       "      <td>...</td>\n",
       "      <td>...</td>\n",
       "      <td>...</td>\n",
       "      <td>...</td>\n",
       "      <td>...</td>\n",
       "      <td>...</td>\n",
       "      <td>...</td>\n",
       "      <td>...</td>\n",
       "      <td>...</td>\n",
       "      <td>...</td>\n",
       "      <td>...</td>\n",
       "      <td>...</td>\n",
       "      <td>...</td>\n",
       "      <td>...</td>\n",
       "      <td>...</td>\n",
       "      <td>...</td>\n",
       "      <td>...</td>\n",
       "      <td>...</td>\n",
       "      <td>...</td>\n",
       "      <td>...</td>\n",
       "      <td>...</td>\n",
       "    </tr>\n",
       "    <tr>\n",
       "      <th>12864</th>\n",
       "      <td>-1.005589</td>\n",
       "      <td>-1.177192</td>\n",
       "      <td>-0.097359</td>\n",
       "      <td>-0.674107</td>\n",
       "      <td>-0.751774</td>\n",
       "      <td>-0.479782</td>\n",
       "      <td>1.018132</td>\n",
       "      <td>0.482295</td>\n",
       "      <td>2.777365</td>\n",
       "      <td>0.442974</td>\n",
       "      <td>...</td>\n",
       "      <td>-0.656831</td>\n",
       "      <td>-0.559330</td>\n",
       "      <td>-0.230014</td>\n",
       "      <td>0.108960</td>\n",
       "      <td>-0.081766</td>\n",
       "      <td>-0.072649</td>\n",
       "      <td>-1.320429</td>\n",
       "      <td>0.219260</td>\n",
       "      <td>0.539593</td>\n",
       "      <td>1.426938</td>\n",
       "    </tr>\n",
       "    <tr>\n",
       "      <th>12865</th>\n",
       "      <td>-1.153900</td>\n",
       "      <td>-1.130836</td>\n",
       "      <td>-0.116851</td>\n",
       "      <td>1.362536</td>\n",
       "      <td>-0.343090</td>\n",
       "      <td>-0.479782</td>\n",
       "      <td>-1.735782</td>\n",
       "      <td>0.482295</td>\n",
       "      <td>2.777365</td>\n",
       "      <td>0.442974</td>\n",
       "      <td>...</td>\n",
       "      <td>-0.656831</td>\n",
       "      <td>0.867999</td>\n",
       "      <td>1.151467</td>\n",
       "      <td>0.129185</td>\n",
       "      <td>-0.025111</td>\n",
       "      <td>-0.157093</td>\n",
       "      <td>-1.337504</td>\n",
       "      <td>1.791654</td>\n",
       "      <td>0.539593</td>\n",
       "      <td>-1.278436</td>\n",
       "    </tr>\n",
       "    <tr>\n",
       "      <th>12866</th>\n",
       "      <td>-1.005589</td>\n",
       "      <td>-1.087791</td>\n",
       "      <td>-0.097359</td>\n",
       "      <td>-1.081436</td>\n",
       "      <td>-0.751774</td>\n",
       "      <td>-0.479782</td>\n",
       "      <td>1.018132</td>\n",
       "      <td>0.482295</td>\n",
       "      <td>2.777365</td>\n",
       "      <td>0.442974</td>\n",
       "      <td>...</td>\n",
       "      <td>-0.656831</td>\n",
       "      <td>-0.559330</td>\n",
       "      <td>-0.230014</td>\n",
       "      <td>0.108960</td>\n",
       "      <td>-0.081766</td>\n",
       "      <td>-0.072649</td>\n",
       "      <td>-1.240393</td>\n",
       "      <td>0.219260</td>\n",
       "      <td>-1.853248</td>\n",
       "      <td>0.161944</td>\n",
       "    </tr>\n",
       "    <tr>\n",
       "      <th>12867</th>\n",
       "      <td>-0.307655</td>\n",
       "      <td>-1.033157</td>\n",
       "      <td>-0.005631</td>\n",
       "      <td>-0.674107</td>\n",
       "      <td>-0.751774</td>\n",
       "      <td>-0.479782</td>\n",
       "      <td>1.018132</td>\n",
       "      <td>0.482295</td>\n",
       "      <td>2.777365</td>\n",
       "      <td>0.442974</td>\n",
       "      <td>...</td>\n",
       "      <td>-0.656831</td>\n",
       "      <td>-0.559330</td>\n",
       "      <td>0.690973</td>\n",
       "      <td>0.200037</td>\n",
       "      <td>-0.146181</td>\n",
       "      <td>-0.136976</td>\n",
       "      <td>-1.284967</td>\n",
       "      <td>1.783832</td>\n",
       "      <td>0.539593</td>\n",
       "      <td>0.261376</td>\n",
       "    </tr>\n",
       "    <tr>\n",
       "      <th>12868</th>\n",
       "      <td>-0.730777</td>\n",
       "      <td>-0.830516</td>\n",
       "      <td>-0.061241</td>\n",
       "      <td>-0.470443</td>\n",
       "      <td>-0.138748</td>\n",
       "      <td>-0.479782</td>\n",
       "      <td>1.018132</td>\n",
       "      <td>0.482295</td>\n",
       "      <td>2.777365</td>\n",
       "      <td>0.442974</td>\n",
       "      <td>...</td>\n",
       "      <td>-0.656831</td>\n",
       "      <td>-0.559330</td>\n",
       "      <td>0.690973</td>\n",
       "      <td>0.200037</td>\n",
       "      <td>-0.146181</td>\n",
       "      <td>-0.136976</td>\n",
       "      <td>-1.175974</td>\n",
       "      <td>1.783832</td>\n",
       "      <td>0.539593</td>\n",
       "      <td>1.603706</td>\n",
       "    </tr>\n",
       "  </tbody>\n",
       "</table>\n",
       "<p>12869 rows × 32 columns</p>\n",
       "</div>"
      ],
      "text/plain": [
       "             租金   面积(平方米)       服务费      A地铁线      B地铁线      C地铁线      大区标签  \\\n",
       "0      0.987885 -0.301396  0.164639  0.955208  0.882964  0.332361 -0.948950   \n",
       "1      0.857022  0.037665  0.147440  1.362536 -0.343090 -0.479782 -1.735782   \n",
       "2     -0.809295 -0.698732 -0.071560  2.380858 -0.751774 -0.479782 -0.162117   \n",
       "3      0.246330  0.658834 -0.219472  0.344215 -0.751774 -0.479782 -0.555534   \n",
       "4     -0.931433 -0.731844 -0.219472  3.195516  3.539414 -0.479782 -1.735782   \n",
       "...         ...       ...       ...       ...       ...       ...       ...   \n",
       "12864 -1.005589 -1.177192 -0.097359 -0.674107 -0.751774 -0.479782  1.018132   \n",
       "12865 -1.153900 -1.130836 -0.116851  1.362536 -0.343090 -0.479782 -1.735782   \n",
       "12866 -1.005589 -1.087791 -0.097359 -1.081436 -0.751774 -0.479782  1.018132   \n",
       "12867 -0.307655 -1.033157 -0.005631 -0.674107 -0.751774 -0.479782  1.018132   \n",
       "12868 -0.730777 -0.830516 -0.061241 -0.470443 -0.138748 -0.479782  1.018132   \n",
       "\n",
       "           品牌标签    租赁方式标签      装修标签  ...        客厅       卫生间     房+卫+厅  \\\n",
       "0     -1.605027 -0.349114 -2.257468  ... -0.656831 -0.559330 -0.690508   \n",
       "1     -1.605027 -0.349114  0.442974  ...  0.844281 -0.559330 -0.230014   \n",
       "2     -1.605027 -0.349114  0.442974  ... -2.157944 -0.559330 -1.611495   \n",
       "3     -0.561366 -0.349114  0.442974  ...  0.844281  0.867999  1.151467   \n",
       "4     -0.561366 -0.349114  0.442974  ... -2.157944 -0.559330 -1.611495   \n",
       "...         ...       ...       ...  ...       ...       ...       ...   \n",
       "12864  0.482295  2.777365  0.442974  ... -0.656831 -0.559330 -0.230014   \n",
       "12865  0.482295  2.777365  0.442974  ... -0.656831  0.867999  1.151467   \n",
       "12866  0.482295  2.777365  0.442974  ... -0.656831 -0.559330 -0.230014   \n",
       "12867  0.482295  2.777365  0.442974  ... -0.656831 -0.559330  0.690973   \n",
       "12868  0.482295  2.777365  0.442974  ... -0.656831 -0.559330  0.690973   \n",
       "\n",
       "            房/总       卫/总       厅/总      卧室面积        户型      是否地铁     小区_标签  \n",
       "0      0.029353 -0.025463 -0.016422 -0.093954 -0.563027  0.539593 -1.279817  \n",
       "1     -0.049858 -0.081766  0.152819  0.360602 -0.484798  0.539593 -1.278436  \n",
       "2      0.028366  0.255212 -0.298116  0.164476 -1.423541  0.539593 -1.277055  \n",
       "3      0.029849 -0.025111 -0.016070 -0.112883  1.087597  0.539593 -1.275674  \n",
       "4      0.028366  0.255212 -0.298116  0.076135 -1.423541  0.539593 -1.274293  \n",
       "...         ...       ...       ...       ...       ...       ...       ...  \n",
       "12864  0.108960 -0.081766 -0.072649 -1.320429  0.219260  0.539593  1.426938  \n",
       "12865  0.129185 -0.025111 -0.157093 -1.337504  1.791654  0.539593 -1.278436  \n",
       "12866  0.108960 -0.081766 -0.072649 -1.240393  0.219260 -1.853248  0.161944  \n",
       "12867  0.200037 -0.146181 -0.136976 -1.284967  1.783832  0.539593  0.261376  \n",
       "12868  0.200037 -0.146181 -0.136976 -1.175974  1.783832  0.539593  1.603706  \n",
       "\n",
       "[12869 rows x 32 columns]"
      ]
     },
     "execution_count": 115,
     "metadata": {},
     "output_type": "execute_result"
    }
   ],
   "source": [
    "df_SS"
   ]
  },
  {
   "cell_type": "code",
   "execution_count": 116,
   "id": "f21ff186",
   "metadata": {
    "ExecuteTime": {
     "end_time": "2024-03-24T10:23:40.010642Z",
     "start_time": "2024-03-24T10:23:39.993578Z"
    }
   },
   "outputs": [],
   "source": [
    "# 1. 数据准备\n",
    "X = df_SS.drop(['租金'], axis=1)  # 获取除了第一列之外的所有列作为特征\n",
    "y = df_SS['租金']  # 获取第一列数据作为目标变量\n",
    "X_train, X_test, y_train, y_test = train_test_split(X, y, test_size=0.2, random_state=42)"
   ]
  },
  {
   "cell_type": "code",
   "execution_count": 117,
   "id": "6a8bb1e9",
   "metadata": {
    "ExecuteTime": {
     "end_time": "2024-03-24T10:23:40.342176Z",
     "start_time": "2024-03-24T10:23:40.324173Z"
    }
   },
   "outputs": [
    {
     "name": "stdout",
     "output_type": "stream",
     "text": [
      "X 中的列数为: 31\n",
      "X 中的列数为: 12869\n"
     ]
    }
   ],
   "source": [
    "# 查看 X 的列数\n",
    "num_columns1 = X.shape[1]\n",
    "num_columns2 = y.shape[0]\n",
    "print(\"X 中的列数为:\", num_columns1)\n",
    "print(\"X 中的列数为:\", num_columns2)"
   ]
  },
  {
   "cell_type": "code",
   "execution_count": 118,
   "id": "6bf29297",
   "metadata": {
    "ExecuteTime": {
     "end_time": "2024-03-24T10:23:40.642654Z",
     "start_time": "2024-03-24T10:23:40.625622Z"
    }
   },
   "outputs": [],
   "source": [
    "#基线"
   ]
  },
  {
   "cell_type": "code",
   "execution_count": 119,
   "id": "d1df1f1f",
   "metadata": {
    "ExecuteTime": {
     "end_time": "2024-03-24T10:23:41.591958Z",
     "start_time": "2024-03-24T10:23:40.998958Z"
    }
   },
   "outputs": [],
   "source": [
    "xgb_reg=XGBRegressor(max_depth=5,n_estimators=500,n_jobs=-1)\n",
    "xgb_reg.fit(X_train,y_train)\n",
    "y_pred=xgb_reg.predict(X_test)\n",
    "\n",
    "sub=pd.DataFrame({\n",
    "    'id':y_test,\n",
    "    'price':y_pred\n",
    "})\n",
    "sub.to_csv('E:\\\\IT\\\\毕设\\\\result\\\\特征工程\\\\baseline1.csv',index=False)"
   ]
  },
  {
   "cell_type": "code",
   "execution_count": 120,
   "id": "599586c9",
   "metadata": {
    "ExecuteTime": {
     "end_time": "2024-03-24T10:23:41.606957Z",
     "start_time": "2024-03-24T10:23:41.594958Z"
    }
   },
   "outputs": [],
   "source": [
    "#特征工程"
   ]
  },
  {
   "cell_type": "code",
   "execution_count": 121,
   "id": "0c106dbe",
   "metadata": {
    "ExecuteTime": {
     "end_time": "2024-03-24T10:23:41.622995Z",
     "start_time": "2024-03-24T10:23:41.608957Z"
    }
   },
   "outputs": [],
   "source": [
    "#baseline XGB"
   ]
  },
  {
   "cell_type": "code",
   "execution_count": 122,
   "id": "831812ec",
   "metadata": {
    "ExecuteTime": {
     "end_time": "2024-03-24T10:23:42.154820Z",
     "start_time": "2024-03-24T10:23:42.147820Z"
    }
   },
   "outputs": [],
   "source": [
    "#以默认参数的XGB分数为准，低于此基准线2.554的模型一律不考虑。"
   ]
  },
  {
   "cell_type": "code",
   "execution_count": 123,
   "id": "7ed6a77a",
   "metadata": {
    "ExecuteTime": {
     "end_time": "2024-03-24T10:23:43.134472Z",
     "start_time": "2024-03-24T10:23:42.462047Z"
    },
    "code_folding": [
     7,
     52
    ]
   },
   "outputs": [
    {
     "name": "stdout",
     "output_type": "stream",
     "text": [
      "'RoomDir'\n",
      "0.6137775085907314 \n",
      "         fe        im\n",
      "7    租赁方式标签  0.216124\n",
      "5      大区标签  0.077492\n",
      "13    用电_标签  0.074029\n",
      "0   面积(平方米)  0.069358\n",
      "17  B付款方式标签  0.044892\n",
      "25      卫/总  0.039819\n",
      "2      A地铁线  0.035251\n",
      "8      装修标签  0.032467\n",
      "28       户型  0.032310\n",
      "22      卫生间  0.029040\n",
      "4      C地铁线  0.028587\n",
      "12    用水_标签  0.027836\n",
      "10    电梯_标签  0.027533\n",
      "27     卧室面积  0.024178\n",
      "23    房+卫+厅  0.024079\n",
      "3      B地铁线  0.023422\n",
      "30    小区_标签  0.020652\n",
      "26      厅/总  0.019425\n",
      "14    燃气_标签  0.017400\n",
      "24      房/总  0.017053\n",
      "20       卧室  0.016483\n",
      "1       服务费  0.015940\n",
      "21       客厅  0.015881\n",
      "6      品牌标签  0.014921\n",
      "9      朝向标签  0.014353\n",
      "11    车位_标签  0.013423\n",
      "19     楼层标签  0.013085\n",
      "16  A付款方式标签  0.009790\n",
      "18  C付款方式标签  0.003504\n",
      "15    采暖_标签  0.001674\n",
      "29     是否地铁  0.000000\n"
     ]
    },
    {
     "data": {
      "text/plain": [
       "<Figure size 640x480 with 0 Axes>"
      ]
     },
     "metadata": {},
     "output_type": "display_data"
    },
    {
     "data": {
      "image/png": "[encoded data removed]",
      "text/plain": [
       "<Figure size 1500x400 with 1 Axes>"
      ]
     },
     "metadata": {},
     "output_type": "display_data"
    }
   ],
   "source": [
    "from sklearn.model_selection import train_test_split\n",
    "import pandas as pd\n",
    "import numpy as np\n",
    "import xgboost as xgb\n",
    "from sklearn.metrics import mean_squared_error\n",
    "import matplotlib.pyplot as plt\n",
    "\n",
    "def xgb_eval(train_df, val_df):\n",
    "    train_df = train_df.copy()\n",
    "    val_df = val_df.copy()\n",
    "\n",
    "    try:\n",
    "        from sklearn.preprocessing import LabelEncoder\n",
    "        lb_encoder = LabelEncoder()\n",
    "        lb_encoder.fit(train_df.loc[:, 'RoomDir'].append(val_df.loc[:, 'RoomDir']))\n",
    "        train_df.loc[:, 'RoomDir'] = lb_encoder.transform(train_df.loc[:, 'RoomDir'])\n",
    "        val_df.loc[:, 'RoomDir'] = lb_encoder.transform(val_df.loc[:, 'RoomDir'])\n",
    "    except Exception as e:\n",
    "        print(e)\n",
    "\n",
    "    X_train = train_df.drop(['租金'], axis=1)\n",
    "    Y_train = train_df.loc[:, '租金'].values\n",
    "    X_val = val_df.drop(['租金'], axis=1)\n",
    "    Y_val = val_df.loc[:, '租金'].values\n",
    "\n",
    "    try:\n",
    "        eval_df = val_df.copy().drop('Time', axis=1)\n",
    "    except Exception as e:\n",
    "        eval_df = val_df.copy()\n",
    "\n",
    "    reg_model = xgb.XGBRegressor(max_depth=5, n_estimators=500, n_jobs=-1)\n",
    "    reg_model.fit(X_train, Y_train)\n",
    "\n",
    "    y_pred = reg_model.predict(X_val)\n",
    "    print(np.sqrt(mean_squared_error(Y_val, y_pred)), end=' ')\n",
    "\n",
    "    eval_df.loc[:, 'Y_pred'] = y_pred\n",
    "    eval_df.loc[:, 'RE'] = eval_df.loc[:, 'Y_pred'] - eval_df.loc[:, '租金']\n",
    "\n",
    "    print('')\n",
    "    feature = X_train.columns\n",
    "    fe_im = reg_model.feature_importances_\n",
    "    print(pd.DataFrame({'fe': feature, 'im': fe_im}).sort_values(by='im', ascending=False))\n",
    "\n",
    "    plt.clf()\n",
    "    plt.figure(figsize=(15, 4))\n",
    "    plt.plot([Y_train.min(), Y_train.max()], [0, 0], color='red')\n",
    "    plt.scatter(x=eval_df.loc[:, '租金'], y=eval_df.loc[:, 'RE'])\n",
    "    plt.show()\n",
    "\n",
    "    return eval_df\n",
    "\n",
    "# 分割数据集\n",
    "# X_train, X_test, y_train, y_test = train_test_split(X, y, test_size=0.2, random_state=42)\n",
    "\n",
    "# 对训练集和测试集进行评估\n",
    "train_eval_df = xgb_eval(train_df=pd.concat([X_train, y_train], axis=1), val_df=pd.concat([X_test, y_test], axis=1))\n",
    "\n",
    "# train_eval_df 包含了模型在测试集上的预测结果和误差，可以进行进一步的分析和评估。\n"
   ]
  },
  {
   "cell_type": "code",
   "execution_count": 124,
   "id": "d8771859",
   "metadata": {
    "ExecuteTime": {
     "end_time": "2024-03-24T10:23:43.308906Z",
     "start_time": "2024-03-24T10:23:43.136480Z"
    },
    "code_folding": [
     7
    ]
   },
   "outputs": [
    {
     "name": "stdout",
     "output_type": "stream",
     "text": [
      "'RoomDir'\n",
      "0.8333605467010219 \n",
      "         fe        im\n",
      "0   面积(平方米)  0.739668\n",
      "5      大区标签  0.067071\n",
      "2      A地铁线  0.049175\n",
      "30    小区_标签  0.031241\n",
      "13    用电_标签  0.029844\n",
      "27     卧室面积  0.027940\n",
      "4      C地铁线  0.021728\n",
      "10    电梯_标签  0.013540\n",
      "1       服务费  0.011405\n",
      "14    燃气_标签  0.008108\n",
      "22      卫生间  0.000255\n",
      "3      B地铁线  0.000025\n",
      "20       卧室  0.000000\n",
      "29     是否地铁  0.000000\n",
      "28       户型  0.000000\n",
      "26      厅/总  0.000000\n",
      "25      卫/总  0.000000\n",
      "24      房/总  0.000000\n",
      "23    房+卫+厅  0.000000\n",
      "21       客厅  0.000000\n",
      "17  B付款方式标签  0.000000\n",
      "19     楼层标签  0.000000\n",
      "18  C付款方式标签  0.000000\n",
      "16  A付款方式标签  0.000000\n",
      "12    用水_标签  0.000000\n",
      "11    车位_标签  0.000000\n",
      "9      朝向标签  0.000000\n",
      "8      装修标签  0.000000\n",
      "7    租赁方式标签  0.000000\n",
      "6      品牌标签  0.000000\n",
      "15    采暖_标签  0.000000\n"
     ]
    },
    {
     "data": {
      "text/plain": [
       "<Figure size 640x480 with 0 Axes>"
      ]
     },
     "metadata": {},
     "output_type": "display_data"
    },
    {
     "data": {
      "image/png": "[encoded data removed]",
      "text/plain": [
       "<Figure size 1500x400 with 1 Axes>"
      ]
     },
     "metadata": {},
     "output_type": "display_data"
    }
   ],
   "source": [
    "from sklearn.model_selection import train_test_split\n",
    "from sklearn.tree import DecisionTreeRegressor\n",
    "import pandas as pd\n",
    "import numpy as np\n",
    "from sklearn.metrics import mean_squared_error\n",
    "import matplotlib.pyplot as plt\n",
    "\n",
    "def dt_eval(train_df, val_df):\n",
    "    train_df = train_df.copy()\n",
    "    val_df = val_df.copy()\n",
    "\n",
    "    try:\n",
    "        from sklearn.preprocessing import LabelEncoder\n",
    "        lb_encoder = LabelEncoder()\n",
    "        lb_encoder.fit(train_df.loc[:, 'RoomDir'].append(val_df.loc[:, 'RoomDir']))\n",
    "        train_df.loc[:, 'RoomDir'] = lb_encoder.transform(train_df.loc[:, 'RoomDir'])\n",
    "        val_df.loc[:, 'RoomDir'] = lb_encoder.transform(val_df.loc[:, 'RoomDir'])\n",
    "    except Exception as e:\n",
    "        print(e)\n",
    "\n",
    "    X_train = train_df.drop(['租金'], axis=1)\n",
    "    Y_train = train_df.loc[:, '租金'].values\n",
    "    X_val = val_df.drop(['租金'], axis=1)\n",
    "    Y_val = val_df.loc[:, '租金'].values\n",
    "\n",
    "    try:\n",
    "        eval_df = val_df.copy().drop('Time', axis=1)\n",
    "    except Exception as e:\n",
    "        eval_df = val_df.copy()\n",
    "\n",
    "    dt_model = DecisionTreeRegressor(max_depth=5)\n",
    "    dt_model.fit(X_train, Y_train)\n",
    "\n",
    "    y_pred = dt_model.predict(X_val)\n",
    "    print(np.sqrt(mean_squared_error(Y_val, y_pred)), end=' ')\n",
    "\n",
    "    eval_df.loc[:, 'Y_pred'] = y_pred\n",
    "    eval_df.loc[:, 'RE'] = eval_df.loc[:, 'Y_pred'] - eval_df.loc[:, '租金']\n",
    "\n",
    "    print('')\n",
    "    feature = X_train.columns\n",
    "    fe_im = dt_model.feature_importances_\n",
    "    print(pd.DataFrame({'fe': feature, 'im': fe_im}).sort_values(by='im', ascending=False))\n",
    "\n",
    "    plt.clf()\n",
    "    plt.figure(figsize=(15, 4))\n",
    "    plt.plot([Y_train.min(), Y_train.max()], [0, 0], color='red')\n",
    "    plt.scatter(x=eval_df.loc[:, '租金'], y=eval_df.loc[:, 'RE'])\n",
    "    plt.show()\n",
    "\n",
    "    return eval_df\n",
    "\n",
    "# 分割数据集\n",
    "X_train, X_test, y_train, y_test = train_test_split(X, y, test_size=0.2, random_state=42)\n",
    "\n",
    "# 对训练集和测试集进行评估\n",
    "train_eval_df = dt_eval(train_df=pd.concat([X_train, y_train], axis=1), val_df=pd.concat([X_test, y_test], axis=1))\n",
    "\n",
    "# train_eval_df 包含了模型在测试集上的预测结果和误差，可以进行进一步的分析和评估。\n"
   ]
  },
  {
   "cell_type": "code",
   "execution_count": 125,
   "id": "a1a510dc",
   "metadata": {
    "ExecuteTime": {
     "end_time": "2024-03-24T10:23:43.339917Z",
     "start_time": "2024-03-24T10:23:43.309917Z"
    }
   },
   "outputs": [
    {
     "data": {
      "text/html": [
       "<div>\n",
       "<style scoped>\n",
       "    .dataframe tbody tr th:only-of-type {\n",
       "        vertical-align: middle;\n",
       "    }\n",
       "\n",
       "    .dataframe tbody tr th {\n",
       "        vertical-align: top;\n",
       "    }\n",
       "\n",
       "    .dataframe thead th {\n",
       "        text-align: right;\n",
       "    }\n",
       "</style>\n",
       "<table border=\"1\" class=\"dataframe\">\n",
       "  <thead>\n",
       "    <tr style=\"text-align: right;\">\n",
       "      <th></th>\n",
       "      <th>面积(平方米)</th>\n",
       "      <th>服务费</th>\n",
       "      <th>A地铁线</th>\n",
       "      <th>B地铁线</th>\n",
       "      <th>C地铁线</th>\n",
       "      <th>大区标签</th>\n",
       "      <th>品牌标签</th>\n",
       "      <th>租赁方式标签</th>\n",
       "      <th>装修标签</th>\n",
       "      <th>朝向标签</th>\n",
       "      <th>...</th>\n",
       "      <th>客厅</th>\n",
       "      <th>卫生间</th>\n",
       "      <th>房+卫+厅</th>\n",
       "      <th>房/总</th>\n",
       "      <th>卫/总</th>\n",
       "      <th>厅/总</th>\n",
       "      <th>卧室面积</th>\n",
       "      <th>户型</th>\n",
       "      <th>是否地铁</th>\n",
       "      <th>小区_标签</th>\n",
       "    </tr>\n",
       "  </thead>\n",
       "  <tbody>\n",
       "    <tr>\n",
       "      <th>10810</th>\n",
       "      <td>0.046274</td>\n",
       "      <td>-0.219472</td>\n",
       "      <td>2.380858</td>\n",
       "      <td>2.722044</td>\n",
       "      <td>-0.479782</td>\n",
       "      <td>1.411548</td>\n",
       "      <td>-0.561366</td>\n",
       "      <td>-0.349114</td>\n",
       "      <td>0.442974</td>\n",
       "      <td>2.309822</td>\n",
       "      <td>...</td>\n",
       "      <td>0.844281</td>\n",
       "      <td>-0.559330</td>\n",
       "      <td>0.230479</td>\n",
       "      <td>0.029684</td>\n",
       "      <td>-0.119332</td>\n",
       "      <td>0.077788</td>\n",
       "      <td>-0.225134</td>\n",
       "      <td>0.297488</td>\n",
       "      <td>0.539593</td>\n",
       "      <td>-1.105812</td>\n",
       "    </tr>\n",
       "    <tr>\n",
       "      <th>5407</th>\n",
       "      <td>0.526389</td>\n",
       "      <td>-0.219472</td>\n",
       "      <td>-1.081436</td>\n",
       "      <td>-0.751774</td>\n",
       "      <td>-0.479782</td>\n",
       "      <td>-0.948950</td>\n",
       "      <td>1.525956</td>\n",
       "      <td>-0.349114</td>\n",
       "      <td>0.442974</td>\n",
       "      <td>-1.333917</td>\n",
       "      <td>...</td>\n",
       "      <td>-2.157944</td>\n",
       "      <td>-1.986660</td>\n",
       "      <td>-2.071989</td>\n",
       "      <td>0.420307</td>\n",
       "      <td>-0.307541</td>\n",
       "      <td>-0.298116</td>\n",
       "      <td>3.433089</td>\n",
       "      <td>-1.431364</td>\n",
       "      <td>-1.853248</td>\n",
       "      <td>0.559672</td>\n",
       "    </tr>\n",
       "    <tr>\n",
       "      <th>188</th>\n",
       "      <td>-0.135839</td>\n",
       "      <td>3.099933</td>\n",
       "      <td>-0.266778</td>\n",
       "      <td>-0.751774</td>\n",
       "      <td>-0.479782</td>\n",
       "      <td>0.624715</td>\n",
       "      <td>-0.561366</td>\n",
       "      <td>-0.349114</td>\n",
       "      <td>0.442974</td>\n",
       "      <td>-0.813383</td>\n",
       "      <td>...</td>\n",
       "      <td>0.844281</td>\n",
       "      <td>-0.559330</td>\n",
       "      <td>0.230479</td>\n",
       "      <td>0.029684</td>\n",
       "      <td>-0.119332</td>\n",
       "      <td>0.077788</td>\n",
       "      <td>-0.388168</td>\n",
       "      <td>0.297488</td>\n",
       "      <td>0.539593</td>\n",
       "      <td>-1.067144</td>\n",
       "    </tr>\n",
       "    <tr>\n",
       "      <th>1123</th>\n",
       "      <td>-0.003393</td>\n",
       "      <td>0.674876</td>\n",
       "      <td>-0.266778</td>\n",
       "      <td>0.065595</td>\n",
       "      <td>2.362720</td>\n",
       "      <td>-0.948950</td>\n",
       "      <td>-0.561366</td>\n",
       "      <td>-0.349114</td>\n",
       "      <td>-2.257468</td>\n",
       "      <td>-0.813383</td>\n",
       "      <td>...</td>\n",
       "      <td>0.844281</td>\n",
       "      <td>-0.559330</td>\n",
       "      <td>0.230479</td>\n",
       "      <td>0.029684</td>\n",
       "      <td>-0.119332</td>\n",
       "      <td>0.077788</td>\n",
       "      <td>-0.269597</td>\n",
       "      <td>0.297488</td>\n",
       "      <td>0.539593</td>\n",
       "      <td>-0.398741</td>\n",
       "    </tr>\n",
       "    <tr>\n",
       "      <th>7021</th>\n",
       "      <td>0.076074</td>\n",
       "      <td>-0.219472</td>\n",
       "      <td>-0.674107</td>\n",
       "      <td>0.065595</td>\n",
       "      <td>-0.479782</td>\n",
       "      <td>-0.948950</td>\n",
       "      <td>-0.561366</td>\n",
       "      <td>-0.349114</td>\n",
       "      <td>0.442974</td>\n",
       "      <td>0.748220</td>\n",
       "      <td>...</td>\n",
       "      <td>0.844281</td>\n",
       "      <td>-0.559330</td>\n",
       "      <td>-0.230014</td>\n",
       "      <td>-0.049858</td>\n",
       "      <td>-0.081766</td>\n",
       "      <td>0.152819</td>\n",
       "      <td>0.412094</td>\n",
       "      <td>-0.484798</td>\n",
       "      <td>0.539593</td>\n",
       "      <td>0.458859</td>\n",
       "    </tr>\n",
       "    <tr>\n",
       "      <th>...</th>\n",
       "      <td>...</td>\n",
       "      <td>...</td>\n",
       "      <td>...</td>\n",
       "      <td>...</td>\n",
       "      <td>...</td>\n",
       "      <td>...</td>\n",
       "      <td>...</td>\n",
       "      <td>...</td>\n",
       "      <td>...</td>\n",
       "      <td>...</td>\n",
       "      <td>...</td>\n",
       "      <td>...</td>\n",
       "      <td>...</td>\n",
       "      <td>...</td>\n",
       "      <td>...</td>\n",
       "      <td>...</td>\n",
       "      <td>...</td>\n",
       "      <td>...</td>\n",
       "      <td>...</td>\n",
       "      <td>...</td>\n",
       "      <td>...</td>\n",
       "    </tr>\n",
       "    <tr>\n",
       "      <th>11964</th>\n",
       "      <td>-1.192092</td>\n",
       "      <td>-0.114558</td>\n",
       "      <td>-0.470443</td>\n",
       "      <td>-0.138748</td>\n",
       "      <td>-0.479782</td>\n",
       "      <td>-0.948950</td>\n",
       "      <td>0.482295</td>\n",
       "      <td>2.777365</td>\n",
       "      <td>0.442974</td>\n",
       "      <td>-1.333917</td>\n",
       "      <td>...</td>\n",
       "      <td>-0.656831</td>\n",
       "      <td>-0.559330</td>\n",
       "      <td>0.230479</td>\n",
       "      <td>0.162076</td>\n",
       "      <td>-0.119332</td>\n",
       "      <td>-0.110164</td>\n",
       "      <td>-1.356683</td>\n",
       "      <td>1.001546</td>\n",
       "      <td>0.539593</td>\n",
       "      <td>0.670152</td>\n",
       "    </tr>\n",
       "    <tr>\n",
       "      <th>5191</th>\n",
       "      <td>-0.069616</td>\n",
       "      <td>-0.219472</td>\n",
       "      <td>-1.081436</td>\n",
       "      <td>-0.751774</td>\n",
       "      <td>-0.479782</td>\n",
       "      <td>-0.162117</td>\n",
       "      <td>-0.561366</td>\n",
       "      <td>-0.349114</td>\n",
       "      <td>0.442974</td>\n",
       "      <td>1.789288</td>\n",
       "      <td>...</td>\n",
       "      <td>0.844281</td>\n",
       "      <td>-0.559330</td>\n",
       "      <td>-0.230014</td>\n",
       "      <td>-0.049858</td>\n",
       "      <td>-0.081766</td>\n",
       "      <td>0.152819</td>\n",
       "      <td>0.216778</td>\n",
       "      <td>-0.484798</td>\n",
       "      <td>-1.853248</td>\n",
       "      <td>-0.897281</td>\n",
       "    </tr>\n",
       "    <tr>\n",
       "      <th>5390</th>\n",
       "      <td>-0.433841</td>\n",
       "      <td>-0.219472</td>\n",
       "      <td>-0.674107</td>\n",
       "      <td>-0.751774</td>\n",
       "      <td>-0.479782</td>\n",
       "      <td>0.624715</td>\n",
       "      <td>-0.561366</td>\n",
       "      <td>-0.349114</td>\n",
       "      <td>0.442974</td>\n",
       "      <td>-0.813383</td>\n",
       "      <td>...</td>\n",
       "      <td>-0.656831</td>\n",
       "      <td>-0.559330</td>\n",
       "      <td>-1.151002</td>\n",
       "      <td>-0.103149</td>\n",
       "      <td>0.068251</td>\n",
       "      <td>0.077164</td>\n",
       "      <td>0.871203</td>\n",
       "      <td>-1.345313</td>\n",
       "      <td>0.539593</td>\n",
       "      <td>1.484940</td>\n",
       "    </tr>\n",
       "    <tr>\n",
       "      <th>860</th>\n",
       "      <td>0.691946</td>\n",
       "      <td>4.934492</td>\n",
       "      <td>-0.674107</td>\n",
       "      <td>-0.751774</td>\n",
       "      <td>-0.479782</td>\n",
       "      <td>0.624715</td>\n",
       "      <td>-0.561366</td>\n",
       "      <td>-0.349114</td>\n",
       "      <td>0.442974</td>\n",
       "      <td>0.748220</td>\n",
       "      <td>...</td>\n",
       "      <td>0.844281</td>\n",
       "      <td>0.867999</td>\n",
       "      <td>1.151467</td>\n",
       "      <td>0.029849</td>\n",
       "      <td>-0.025111</td>\n",
       "      <td>-0.016070</td>\n",
       "      <td>-0.090633</td>\n",
       "      <td>1.087597</td>\n",
       "      <td>0.539593</td>\n",
       "      <td>-1.173481</td>\n",
       "    </tr>\n",
       "    <tr>\n",
       "      <th>7270</th>\n",
       "      <td>0.641285</td>\n",
       "      <td>-0.219472</td>\n",
       "      <td>-0.674107</td>\n",
       "      <td>-0.751774</td>\n",
       "      <td>-0.479782</td>\n",
       "      <td>1.018132</td>\n",
       "      <td>-0.561366</td>\n",
       "      <td>-0.349114</td>\n",
       "      <td>0.442974</td>\n",
       "      <td>-0.813383</td>\n",
       "      <td>...</td>\n",
       "      <td>0.844281</td>\n",
       "      <td>-0.559330</td>\n",
       "      <td>0.230479</td>\n",
       "      <td>0.029684</td>\n",
       "      <td>-0.119332</td>\n",
       "      <td>0.077788</td>\n",
       "      <td>0.307544</td>\n",
       "      <td>0.297488</td>\n",
       "      <td>0.539593</td>\n",
       "      <td>-0.499554</td>\n",
       "    </tr>\n",
       "  </tbody>\n",
       "</table>\n",
       "<p>10295 rows × 31 columns</p>\n",
       "</div>"
      ],
      "text/plain": [
       "        面积(平方米)       服务费      A地铁线      B地铁线      C地铁线      大区标签      品牌标签  \\\n",
       "10810  0.046274 -0.219472  2.380858  2.722044 -0.479782  1.411548 -0.561366   \n",
       "5407   0.526389 -0.219472 -1.081436 -0.751774 -0.479782 -0.948950  1.525956   \n",
       "188   -0.135839  3.099933 -0.266778 -0.751774 -0.479782  0.624715 -0.561366   \n",
       "1123  -0.003393  0.674876 -0.266778  0.065595  2.362720 -0.948950 -0.561366   \n",
       "7021   0.076074 -0.219472 -0.674107  0.065595 -0.479782 -0.948950 -0.561366   \n",
       "...         ...       ...       ...       ...       ...       ...       ...   \n",
       "11964 -1.192092 -0.114558 -0.470443 -0.138748 -0.479782 -0.948950  0.482295   \n",
       "5191  -0.069616 -0.219472 -1.081436 -0.751774 -0.479782 -0.162117 -0.561366   \n",
       "5390  -0.433841 -0.219472 -0.674107 -0.751774 -0.479782  0.624715 -0.561366   \n",
       "860    0.691946  4.934492 -0.674107 -0.751774 -0.479782  0.624715 -0.561366   \n",
       "7270   0.641285 -0.219472 -0.674107 -0.751774 -0.479782  1.018132 -0.561366   \n",
       "\n",
       "         租赁方式标签      装修标签      朝向标签  ...        客厅       卫生间     房+卫+厅  \\\n",
       "10810 -0.349114  0.442974  2.309822  ...  0.844281 -0.559330  0.230479   \n",
       "5407  -0.349114  0.442974 -1.333917  ... -2.157944 -1.986660 -2.071989   \n",
       "188   -0.349114  0.442974 -0.813383  ...  0.844281 -0.559330  0.230479   \n",
       "1123  -0.349114 -2.257468 -0.813383  ...  0.844281 -0.559330  0.230479   \n",
       "7021  -0.349114  0.442974  0.748220  ...  0.844281 -0.559330 -0.230014   \n",
       "...         ...       ...       ...  ...       ...       ...       ...   \n",
       "11964  2.777365  0.442974 -1.333917  ... -0.656831 -0.559330  0.230479   \n",
       "5191  -0.349114  0.442974  1.789288  ...  0.844281 -0.559330 -0.230014   \n",
       "5390  -0.349114  0.442974 -0.813383  ... -0.656831 -0.559330 -1.151002   \n",
       "860   -0.349114  0.442974  0.748220  ...  0.844281  0.867999  1.151467   \n",
       "7270  -0.349114  0.442974 -0.813383  ...  0.844281 -0.559330  0.230479   \n",
       "\n",
       "            房/总       卫/总       厅/总      卧室面积        户型      是否地铁     小区_标签  \n",
       "10810  0.029684 -0.119332  0.077788 -0.225134  0.297488  0.539593 -1.105812  \n",
       "5407   0.420307 -0.307541 -0.298116  3.433089 -1.431364 -1.853248  0.559672  \n",
       "188    0.029684 -0.119332  0.077788 -0.388168  0.297488  0.539593 -1.067144  \n",
       "1123   0.029684 -0.119332  0.077788 -0.269597  0.297488  0.539593 -0.398741  \n",
       "7021  -0.049858 -0.081766  0.152819  0.412094 -0.484798  0.539593  0.458859  \n",
       "...         ...       ...       ...       ...       ...       ...       ...  \n",
       "11964  0.162076 -0.119332 -0.110164 -1.356683  1.001546  0.539593  0.670152  \n",
       "5191  -0.049858 -0.081766  0.152819  0.216778 -0.484798 -1.853248 -0.897281  \n",
       "5390  -0.103149  0.068251  0.077164  0.871203 -1.345313  0.539593  1.484940  \n",
       "860    0.029849 -0.025111 -0.016070 -0.090633  1.087597  0.539593 -1.173481  \n",
       "7270   0.029684 -0.119332  0.077788  0.307544  0.297488  0.539593 -0.499554  \n",
       "\n",
       "[10295 rows x 31 columns]"
      ]
     },
     "execution_count": 125,
     "metadata": {},
     "output_type": "execute_result"
    }
   ],
   "source": [
    "X_train"
   ]
  },
  {
   "cell_type": "code",
   "execution_count": null,
   "id": "b380cc47",
   "metadata": {},
   "outputs": [],
   "source": []
  },
  {
   "cell_type": "code",
   "execution_count": null,
   "id": "512e88c3",
   "metadata": {},
   "outputs": [],
   "source": []
  },
  {
   "cell_type": "code",
   "execution_count": 14,
   "id": "0182db40",
   "metadata": {
    "ExecuteTime": {
     "end_time": "2024-03-24T09:13:27.902463Z",
     "start_time": "2024-03-24T09:13:27.894464Z"
    }
   },
   "outputs": [],
   "source": [
    "# 模型训练与评估"
   ]
  },
  {
   "cell_type": "code",
   "execution_count": 15,
   "id": "d734c04c",
   "metadata": {
    "ExecuteTime": {
     "end_time": "2024-03-24T09:13:29.433350Z",
     "start_time": "2024-03-24T09:13:29.414338Z"
    }
   },
   "outputs": [],
   "source": []
  },
  {
   "cell_type": "code",
   "execution_count": 22,
   "id": "d09e4cc5",
   "metadata": {
    "ExecuteTime": {
     "end_time": "2024-03-24T09:37:02.340758Z",
     "start_time": "2024-03-24T09:37:02.323753Z"
    }
   },
   "outputs": [],
   "source": []
  },
  {
   "cell_type": "code",
   "execution_count": 23,
   "id": "8e8d177a",
   "metadata": {
    "ExecuteTime": {
     "end_time": "2024-03-24T09:37:02.902924Z",
     "start_time": "2024-03-24T09:37:02.885917Z"
    }
   },
   "outputs": [],
   "source": []
  },
  {
   "cell_type": "code",
   "execution_count": null,
   "id": "4185a424",
   "metadata": {
    "ExecuteTime": {
     "end_time": "2024-03-24T09:39:47.199962Z",
     "start_time": "2024-03-24T09:39:47.164962Z"
    }
   },
   "outputs": [],
   "source": []
  },
  {
   "cell_type": "code",
   "execution_count": null,
   "id": "8cc8ff6b",
   "metadata": {},
   "outputs": [],
   "source": []
  },
  {
   "cell_type": "code",
   "execution_count": 31,
   "id": "d2e844d0",
   "metadata": {
    "ExecuteTime": {
     "end_time": "2024-03-24T09:43:48.056316Z",
     "start_time": "2024-03-24T09:43:43.296511Z"
    }
   },
   "outputs": [
    {
     "name": "stdout",
     "output_type": "stream",
     "text": [
      "Best features: ['租赁方式标签', '平均值特征1', '大区+街道平均值特征', '平均值特征2', '平均值特征4']\n"
     ]
    }
   ],
   "source": []
  },
  {
   "cell_type": "code",
   "execution_count": null,
   "id": "61851fb4",
   "metadata": {},
   "outputs": [],
   "source": []
  },
  {
   "cell_type": "code",
   "execution_count": null,
   "id": "5622ba18",
   "metadata": {},
   "outputs": [],
   "source": []
  },
  {
   "cell_type": "code",
   "execution_count": null,
   "id": "62771628",
   "metadata": {},
   "outputs": [],
   "source": []
  },
  {
   "cell_type": "code",
   "execution_count": null,
   "id": "dc2e9b82",
   "metadata": {},
   "outputs": [],
   "source": []
  },
  {
   "cell_type": "code",
   "execution_count": 20,
   "id": "06e80ab1",
   "metadata": {
    "ExecuteTime": {
     "end_time": "2024-03-24T09:18:21.906624Z",
     "start_time": "2024-03-24T09:15:25.134504Z"
    }
   },
   "outputs": [],
   "source": []
  },
  {
   "cell_type": "code",
   "execution_count": 21,
   "id": "5ac0f1b2",
   "metadata": {
    "ExecuteTime": {
     "end_time": "2024-03-24T09:26:29.941092Z",
     "start_time": "2024-03-24T09:26:29.917090Z"
    }
   },
   "outputs": [
    {
     "name": "stdout",
     "output_type": "stream",
     "text": [
      "[['Linear Regression', 1719332.5605189598, 1311.2332212535493, 0.671023008106949, 25.84494859199731], ['Random Forest', 3913.667931973581, 62.559315309341265, 0.999251159006062, 1.233069954233436]]\n"
     ]
    }
   ],
   "source": []
  },
  {
   "cell_type": "code",
   "execution_count": null,
   "id": "69001aa1",
   "metadata": {},
   "outputs": [],
   "source": []
  }
 ],
 "metadata": {
  "kernelspec": {
   "display_name": "neihetipdm",
   "language": "python",
   "name": "neihetipdm"
  },
  "language_info": {
   "codemirror_mode": {
    "name": "ipython",
    "version": 3
   },
   "file_extension": ".py",
   "mimetype": "text/x-python",
   "name": "python",
   "nbconvert_exporter": "python",
   "pygments_lexer": "ipython3",
   "version": "3.10.0"
  },
  "toc": {
   "base_numbering": 1,
   "nav_menu": {},
   "number_sections": true,
   "sideBar": true,
   "skip_h1_title": false,
   "title_cell": "Table of Contents",
   "title_sidebar": "Contents",
   "toc_cell": false,
   "toc_position": {},
   "toc_section_display": true,
   "toc_window_display": false
  }
 },
 "nbformat": 4,
 "nbformat_minor": 5
}
