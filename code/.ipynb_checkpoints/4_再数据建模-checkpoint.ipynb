{
 "cells": [
  {
   "cell_type": "code",
   "execution_count": 1,
   "id": "011b9cbc",
   "metadata": {
    "ExecuteTime": {
     "end_time": "2024-03-22T10:17:33.252306Z",
     "start_time": "2024-03-22T10:17:31.744676Z"
    }
   },
   "outputs": [],
   "source": [
    "import matplotlib.pyplot as plt\n",
    "import pandas as pd\n",
    "import numpy as np\n",
    "import seaborn as sns\n",
    "import warnings\n",
    "import xgboost as xgb\n",
    "import copy\n",
    "from sklearn.model_selection import train_test_split,GridSearchCV\n",
    "from sklearn.feature_extraction import DictVectorizer\n",
    "from sklearn.ensemble import RandomForestRegressor,GradientBoostingRegressor\n",
    "from sklearn.metrics import mean_squared_error\n",
    "warnings.filterwarnings('ignore')#忽略一些警告"
   ]
  },
  {
   "cell_type": "code",
   "execution_count": 2,
   "id": "8f6bbc37",
   "metadata": {
    "ExecuteTime": {
     "end_time": "2024-03-22T10:17:38.555739Z",
     "start_time": "2024-03-22T10:17:33.253374Z"
    }
   },
   "outputs": [],
   "source": [
    "data=pd.read_excel(\"E://IT//毕设//result/data_eleven.xlsx\")"
   ]
  },
  {
   "cell_type": "code",
   "execution_count": 3,
   "id": "4d8e830e",
   "metadata": {
    "ExecuteTime": {
     "end_time": "2024-03-22T10:17:38.586737Z",
     "start_time": "2024-03-22T10:17:38.557184Z"
    }
   },
   "outputs": [
    {
     "name": "stdout",
     "output_type": "stream",
     "text": [
      "<class 'pandas.core.frame.DataFrame'>\n",
      "RangeIndex: 12869 entries, 0 to 12868\n",
      "Data columns (total 49 columns):\n",
      " #   Column      Non-Null Count  Dtype  \n",
      "---  ------      --------------  -----  \n",
      " 0   租金          12869 non-null  int64  \n",
      " 1   面积(平方米)     12869 non-null  float64\n",
      " 2   押金          12869 non-null  int64  \n",
      " 3   判断押金        12869 non-null  int64  \n",
      " 4   服务费         12869 non-null  float64\n",
      " 5   中介费         12869 non-null  int64  \n",
      " 6   A地铁线        12869 non-null  int64  \n",
      " 7   B地铁线        12869 non-null  int64  \n",
      " 8   C地铁线        12869 non-null  int64  \n",
      " 9   大区标签        12869 non-null  int64  \n",
      " 10  品牌标签        12869 non-null  int64  \n",
      " 11  租赁方式标签      12869 non-null  int64  \n",
      " 12  户型标签        12869 non-null  int64  \n",
      " 13  装修标签        12869 non-null  int64  \n",
      " 14  朝向标签        12869 non-null  int64  \n",
      " 15  电梯_标签       12869 non-null  int64  \n",
      " 16  车位_标签       12869 non-null  int64  \n",
      " 17  用水_标签       12869 non-null  int64  \n",
      " 18  用电_标签       12869 non-null  int64  \n",
      " 19  燃气_标签       12869 non-null  int64  \n",
      " 20  采暖_标签       12869 non-null  int64  \n",
      " 21  A付款方式标签     12869 non-null  int64  \n",
      " 22  B付款方式标签     12869 non-null  int64  \n",
      " 23  C付款方式标签     12869 non-null  int64  \n",
      " 24  楼层标签        12869 non-null  int64  \n",
      " 25  卧室          12869 non-null  int64  \n",
      " 26  客厅          12869 non-null  int64  \n",
      " 27  卫生间         12869 non-null  int64  \n",
      " 28  房+卫+厅       12869 non-null  int64  \n",
      " 29  房/总         12869 non-null  float64\n",
      " 30  卫/总         12869 non-null  float64\n",
      " 31  厅/总         12869 non-null  float64\n",
      " 32  卧室面积        12869 non-null  float64\n",
      " 33  户型          12869 non-null  int64  \n",
      " 34  是否地铁        12869 non-null  int64  \n",
      " 35  平均值特征1      12869 non-null  float64\n",
      " 36  大区+街道平均值特征  12869 non-null  float64\n",
      " 37  朝向标签平均值特征   12869 non-null  float64\n",
      " 38  A地铁线平均值特征   12869 non-null  float64\n",
      " 39  大区英文平均值特征   12869 non-null  float64\n",
      " 40  房屋配置聚类标签    12869 non-null  int64  \n",
      " 41  平均值特征2      12869 non-null  float64\n",
      " 42  房屋装修聚类标签    12869 non-null  int64  \n",
      " 43  平均值特征3      12869 non-null  float64\n",
      " 44  房屋费用聚类标签    12869 non-null  int64  \n",
      " 45  平均值特征4      12869 non-null  float64\n",
      " 46  房屋便利聚类标签    12869 non-null  int64  \n",
      " 47  平均值特征5      12869 non-null  float64\n",
      " 48  小区_标签       12869 non-null  int64  \n",
      "dtypes: float64(15), int64(34)\n",
      "memory usage: 4.8 MB\n"
     ]
    }
   ],
   "source": [
    "data.info()"
   ]
  },
  {
   "cell_type": "code",
   "execution_count": 4,
   "id": "6a1a466a",
   "metadata": {
    "ExecuteTime": {
     "end_time": "2024-03-22T10:17:38.602012Z",
     "start_time": "2024-03-22T10:17:38.589668Z"
    }
   },
   "outputs": [
    {
     "data": {
      "text/plain": [
       "Index(['租金', '面积(平方米)', '押金', '判断押金', '服务费', '中介费', 'A地铁线', 'B地铁线', 'C地铁线',\n",
       "       '大区标签', '品牌标签', '租赁方式标签', '户型标签', '装修标签', '朝向标签', '电梯_标签', '车位_标签',\n",
       "       '用水_标签', '用电_标签', '燃气_标签', '采暖_标签', 'A付款方式标签', 'B付款方式标签', 'C付款方式标签',\n",
       "       '楼层标签', '卧室', '客厅', '卫生间', '房+卫+厅', '房/总', '卫/总', '厅/总', '卧室面积', '户型',\n",
       "       '是否地铁', '平均值特征1', '大区+街道平均值特征', '朝向标签平均值特征', 'A地铁线平均值特征', '大区英文平均值特征',\n",
       "       '房屋配置聚类标签', '平均值特征2', '房屋装修聚类标签', '平均值特征3', '房屋费用聚类标签', '平均值特征4',\n",
       "       '房屋便利聚类标签', '平均值特征5', '小区_标签'],\n",
       "      dtype='object')"
      ]
     },
     "execution_count": 4,
     "metadata": {},
     "output_type": "execute_result"
    }
   ],
   "source": [
    "data.columns"
   ]
  },
  {
   "cell_type": "code",
   "execution_count": 5,
   "id": "112f2c97",
   "metadata": {
    "ExecuteTime": {
     "end_time": "2024-03-22T10:17:38.681968Z",
     "start_time": "2024-03-22T10:17:38.603019Z"
    }
   },
   "outputs": [],
   "source": [
    "#将离散特征转换成字符串类型\n",
    "colunms = [ '大区标签', '品牌标签', '租赁方式标签', '户型标签', '装修标签', '朝向标签', '电梯_标签', '车位_标签',\n",
    "       '用水_标签', '用电_标签', '燃气_标签', '采暖_标签', 'A付款方式标签', 'B付款方式标签', 'C付款方式标签','房屋配置聚类标签', '房屋装修聚类标签',\n",
    "       '楼层标签','房屋费用聚类标签','房屋便利聚类标签','小区_标签','是否地铁',]\n",
    "for col in colunms:\n",
    "    data[col] = data[col].astype(str)"
   ]
  },
  {
   "cell_type": "code",
   "execution_count": 6,
   "id": "2cddc237",
   "metadata": {
    "ExecuteTime": {
     "end_time": "2024-03-22T10:17:38.697355Z",
     "start_time": "2024-03-22T10:17:38.682349Z"
    }
   },
   "outputs": [
    {
     "data": {
      "text/plain": [
       "0"
      ]
     },
     "execution_count": 6,
     "metadata": {},
     "output_type": "execute_result"
    }
   ],
   "source": [
    "x_columns=[ '面积(平方米)', '押金', '判断押金', '服务费', '中介费', 'A地铁线', 'B地铁线', 'C地铁线',\n",
    "       '大区标签', '品牌标签', '租赁方式标签', '户型标签', '装修标签', '朝向标签', '电梯_标签', '车位_标签',\n",
    "       '用水_标签', '用电_标签', '燃气_标签', '采暖_标签', 'A付款方式标签', 'B付款方式标签', 'C付款方式标签',\n",
    "       '楼层标签', '卧室', '客厅', '卫生间', '房+卫+厅', '房/总', '卫/总', '厅/总', '卧室面积', '户型',\n",
    "       '是否地铁', '平均值特征1', '大区+街道平均值特征', '朝向标签平均值特征', 'A地铁线平均值特征', '大区英文平均值特征',\n",
    "       '房屋配置聚类标签', '平均值特征2', '房屋装修聚类标签', '平均值特征3', '房屋费用聚类标签', '平均值特征4',\n",
    "       '房屋便利聚类标签', '平均值特征5', '小区_标签']\n",
    "y_label='租金'\n",
    "x=data[x_columns]\n",
    "y=data[y_label]\n",
    "y.isnull().sum()"
   ]
  },
  {
   "cell_type": "code",
   "execution_count": 7,
   "id": "c9cf9e54",
   "metadata": {
    "ExecuteTime": {
     "end_time": "2024-03-22T10:17:38.713355Z",
     "start_time": "2024-03-22T10:17:38.698351Z"
    }
   },
   "outputs": [],
   "source": [
    "### 构建训练函数"
   ]
  },
  {
   "cell_type": "code",
   "execution_count": null,
   "id": "be7e41b6",
   "metadata": {
    "ExecuteTime": {
     "end_time": "2024-03-22T10:03:20.878130Z",
     "start_time": "2024-03-22T10:03:20.854166Z"
    }
   },
   "outputs": [],
   "source": []
  },
  {
   "cell_type": "code",
   "execution_count": 8,
   "id": "890fffc6",
   "metadata": {
    "ExecuteTime": {
     "end_time": "2024-03-22T10:17:38.728352Z",
     "start_time": "2024-03-22T10:17:38.715356Z"
    }
   },
   "outputs": [],
   "source": [
    "def feature_transformer(x,y,test_size=0.3,random_state=12):\n",
    "    \"\"\"\n",
    "    负责分割数据集并转换onehot特征，返回转换后的稀疏矩阵和特征名\n",
    "    \"\"\"\n",
    "    #1.重新命名列名\n",
    "    #原列名\n",
    "    cols=[ '面积(平方米)', '押金', '判断押金', '服务费', '中介费', 'A地铁线', 'B地铁线', 'C地铁线',\n",
    "       '大区标签', '品牌标签', '租赁方式标签', '户型标签', '装修标签', '朝向标签', '电梯_标签', '车位_标签',\n",
    "       '用水_标签', '用电_标签', '燃气_标签', '采暖_标签', 'A付款方式标签', 'B付款方式标签', 'C付款方式标签',\n",
    "       '楼层标签', '卧室', '客厅', '卫生间', '房+卫+厅', '房/总', '卫/总', '厅/总', '卧室面积', '户型',\n",
    "       '是否地铁', '平均值特征1', '大区+街道平均值特征', '朝向标签平均值特征', 'A地铁线平均值特征', '大区英文平均值特征',\n",
    "       '房屋配置聚类标签', '平均值特征2', '房屋装修聚类标签', '平均值特征3', '房屋费用聚类标签', '平均值特征4',\n",
    "       '房屋便利聚类标签', '平均值特征5', '小区_标签']\n",
    "    #新列名\n",
    "    new_cols=[chr(65+s)+str(i) for s in range(len(cols)//10+1) for i in range(10)]\n",
    "    new_cols=new_cols[:len(cols)]\n",
    "    #特征名映射字典\n",
    "    cols_map={k:v for k,v in zip(cols,new_cols)}\n",
    "    #重新命名列\n",
    "    x.columns=[cols_map[k] for k in x.columns]\n",
    "    \n",
    "    #2.分割数据集\n",
    "    train_x,test_x,train_y,test_y=train_test_split(x,y,test_size=test_size,random_state=random_state)\n",
    "    \n",
    "    #3.转换onehot特征\n",
    "    #返回稀疏矩阵，有两个优点：\n",
    "    #1.占用内存大幅减小，让并行成为可能，不然并行的话，内存爆掉\n",
    "    #2.可以加速xgboost训练\n",
    "    vector=DictVectorizer(sparse=True)\n",
    "    x_train=vector.fit_transform(train_x.to_dict(orient='records'))\n",
    "    x_test=vector.transform(test_x.to_dict(orient='records'))\n",
    "    features=vector.get_feature_names()\n",
    "    \n",
    "    #4.构建原始特征对应的新下标字典  \n",
    "    #原始特征名\n",
    "    \n",
    "    #离散列特征下标字典\n",
    "    feature_map={k:[] for k in cols}\n",
    "    for i in range(len(features)):\n",
    "        for col in cols:\n",
    "            if features[i].startswith(cols_map[col]):#如果新特征以老特征开头\n",
    "                feature_map[col].append(i)\n",
    "                break\n",
    "    return (x_train,x_test,train_y,test_y),feature_map,cols_map\n",
    "\n",
    "\n",
    "def train(cols,data,feature_map,num_round = 500):\n",
    "    \"\"\"\n",
    "    负责完成一次xgboost训练，返回测试集rmse\n",
    "    \"\"\"\n",
    "    #1.获取数据集\n",
    "    train_x,test_x,train_y,test_y=data\n",
    "    #获取原始特征对应的新特征下标\n",
    "    index=[]\n",
    "    for col in cols:\n",
    "        index.extend(feature_map[col])\n",
    "    x_train=train_x[:,index]\n",
    "    x_test=test_x[:,index]\n",
    "    #3.构建数据格式\n",
    "    #构建DMatrix数据，可以有效利用硬盘缓存，减少内存占用\n",
    "    dtrain = xgb.DMatrix(x_train,train_y)\n",
    "    dtest = xgb.DMatrix(x_test,test_y)\n",
    "    \n",
    "    #4.设置训练参数\n",
    "    param = {'max_depth':5, \n",
    "             'eta':0.01, \n",
    "             'verbosity':1, \n",
    "             'objective':'reg:linear',\n",
    "             'silent': 1,\n",
    "             'gamma': 0.01,\n",
    "             'min_child_weight': 1,\n",
    "             \n",
    "            }\n",
    "    #5.模型训练\n",
    "    bst = xgb.train(param, dtrain, num_round)\n",
    "    \n",
    "    #6.模型预测\n",
    "    preds = bst.predict(dtest)\n",
    "    preds=np.exp(preds)-1#转换成真实的租金\n",
    "    y_true=np.exp(test_y)-1\n",
    "    \n",
    "    #7.模型评估\n",
    "    return np.sqrt(mean_squared_error(y_true,preds))"
   ]
  },
  {
   "cell_type": "code",
   "execution_count": 9,
   "id": "e2ee6aed",
   "metadata": {
    "ExecuteTime": {
     "end_time": "2024-03-22T10:17:39.520893Z",
     "start_time": "2024-03-22T10:17:38.729351Z"
    }
   },
   "outputs": [],
   "source": [
    "#完成特征分割和转换\n",
    "d,f_map,c_map=feature_transformer(x,y)"
   ]
  },
  {
   "cell_type": "code",
   "execution_count": null,
   "id": "83eac79d",
   "metadata": {
    "ExecuteTime": {
     "end_time": "2024-03-22T10:14:14.538569Z",
     "start_time": "2024-03-22T10:14:14.480569Z"
    }
   },
   "outputs": [],
   "source": []
  },
  {
   "cell_type": "code",
   "execution_count": 10,
   "id": "70cfab41",
   "metadata": {
    "ExecuteTime": {
     "end_time": "2024-03-22T10:17:39.536377Z",
     "start_time": "2024-03-22T10:17:39.522888Z"
    }
   },
   "outputs": [],
   "source": [
    "#构造筛选特征函数\n",
    "def select_features(cols,min_score):\n",
    "    include_features=cols\n",
    "    exclude_features=[]\n",
    "    cols=np.array(cols)\n",
    "    for i in range(cols.shape[0]):\n",
    "        #选中的特征\n",
    "        features=list(cols[list(set(range(cols.shape[0]))-set([i]))])\n",
    "        print(\"开始第{}次训练:\".format(i))\n",
    "        print(\"未选中特征：\",cols[i])\n",
    "        rmse=train(features,d,f_map,2500)\n",
    "        print(\"开始第{}次训练测试集成绩{}：\".format(i,rmse))\n",
    "        print(\"-\"*10)\n",
    "        if rmse<=min_score:\n",
    "            exclude_features=cols[i]\n",
    "            include_features=features\n",
    "            min_score=rmse\n",
    "    return min_score,include_features,exclude_features  "
   ]
  },
  {
   "cell_type": "code",
   "execution_count": null,
   "id": "0c0d8d88",
   "metadata": {
    "ExecuteTime": {
     "end_time": "2024-03-22T09:54:35.621096Z",
     "start_time": "2024-03-22T09:54:35.599199Z"
    }
   },
   "outputs": [],
   "source": [
    "\n"
   ]
  },
  {
   "cell_type": "code",
   "execution_count": 11,
   "id": "78ca6611",
   "metadata": {
    "ExecuteTime": {
     "end_time": "2024-03-22T10:17:41.248346Z",
     "start_time": "2024-03-22T10:17:39.538383Z"
    }
   },
   "outputs": [
    {
     "ename": "ValueError",
     "evalue": "Input contains infinity or a value too large for dtype('float64').",
     "output_type": "error",
     "traceback": [
      "\u001b[1;31m---------------------------------------------------------------------------\u001b[0m",
      "\u001b[1;31mValueError\u001b[0m                                Traceback (most recent call last)",
      "Cell \u001b[1;32mIn[11], line 1\u001b[0m\n\u001b[1;32m----> 1\u001b[0m min_score\u001b[38;5;241m=\u001b[39m\u001b[43mtrain\u001b[49m\u001b[43m(\u001b[49m\u001b[43mx_columns\u001b[49m\u001b[43m,\u001b[49m\u001b[43md\u001b[49m\u001b[43m,\u001b[49m\u001b[43mf_map\u001b[49m\u001b[43m)\u001b[49m\u001b[38;5;66;03m#模型出现预测值无穷大的问题\u001b[39;00m\n",
      "Cell \u001b[1;32mIn[8], line 83\u001b[0m, in \u001b[0;36mtrain\u001b[1;34m(cols, data, feature_map, num_round)\u001b[0m\n\u001b[0;32m     80\u001b[0m y_true\u001b[38;5;241m=\u001b[39mnp\u001b[38;5;241m.\u001b[39mexp(test_y)\u001b[38;5;241m-\u001b[39m\u001b[38;5;241m1\u001b[39m\n\u001b[0;32m     82\u001b[0m \u001b[38;5;66;03m#7.模型评估\u001b[39;00m\n\u001b[1;32m---> 83\u001b[0m \u001b[38;5;28;01mreturn\u001b[39;00m np\u001b[38;5;241m.\u001b[39msqrt(\u001b[43mmean_squared_error\u001b[49m\u001b[43m(\u001b[49m\u001b[43my_true\u001b[49m\u001b[43m,\u001b[49m\u001b[43mpreds\u001b[49m\u001b[43m)\u001b[49m)\n",
      "File \u001b[1;32m~\\.conda\\envs\\tipdm\\lib\\site-packages\\sklearn\\metrics\\_regression.py:442\u001b[0m, in \u001b[0;36mmean_squared_error\u001b[1;34m(y_true, y_pred, sample_weight, multioutput, squared)\u001b[0m\n\u001b[0;32m    382\u001b[0m \u001b[38;5;28;01mdef\u001b[39;00m \u001b[38;5;21mmean_squared_error\u001b[39m(\n\u001b[0;32m    383\u001b[0m     y_true, y_pred, \u001b[38;5;241m*\u001b[39m, sample_weight\u001b[38;5;241m=\u001b[39m\u001b[38;5;28;01mNone\u001b[39;00m, multioutput\u001b[38;5;241m=\u001b[39m\u001b[38;5;124m\"\u001b[39m\u001b[38;5;124muniform_average\u001b[39m\u001b[38;5;124m\"\u001b[39m, squared\u001b[38;5;241m=\u001b[39m\u001b[38;5;28;01mTrue\u001b[39;00m\n\u001b[0;32m    384\u001b[0m ):\n\u001b[0;32m    385\u001b[0m \u001b[38;5;250m    \u001b[39m\u001b[38;5;124;03m\"\"\"Mean squared error regression loss.\u001b[39;00m\n\u001b[0;32m    386\u001b[0m \n\u001b[0;32m    387\u001b[0m \u001b[38;5;124;03m    Read more in the :ref:`User Guide <mean_squared_error>`.\u001b[39;00m\n\u001b[1;32m   (...)\u001b[0m\n\u001b[0;32m    440\u001b[0m \u001b[38;5;124;03m    0.825...\u001b[39;00m\n\u001b[0;32m    441\u001b[0m \u001b[38;5;124;03m    \"\"\"\u001b[39;00m\n\u001b[1;32m--> 442\u001b[0m     y_type, y_true, y_pred, multioutput \u001b[38;5;241m=\u001b[39m \u001b[43m_check_reg_targets\u001b[49m\u001b[43m(\u001b[49m\n\u001b[0;32m    443\u001b[0m \u001b[43m        \u001b[49m\u001b[43my_true\u001b[49m\u001b[43m,\u001b[49m\u001b[43m \u001b[49m\u001b[43my_pred\u001b[49m\u001b[43m,\u001b[49m\u001b[43m \u001b[49m\u001b[43mmultioutput\u001b[49m\n\u001b[0;32m    444\u001b[0m \u001b[43m    \u001b[49m\u001b[43m)\u001b[49m\n\u001b[0;32m    445\u001b[0m     check_consistent_length(y_true, y_pred, sample_weight)\n\u001b[0;32m    446\u001b[0m     output_errors \u001b[38;5;241m=\u001b[39m np\u001b[38;5;241m.\u001b[39maverage((y_true \u001b[38;5;241m-\u001b[39m y_pred) \u001b[38;5;241m*\u001b[39m\u001b[38;5;241m*\u001b[39m \u001b[38;5;241m2\u001b[39m, axis\u001b[38;5;241m=\u001b[39m\u001b[38;5;241m0\u001b[39m, weights\u001b[38;5;241m=\u001b[39msample_weight)\n",
      "File \u001b[1;32m~\\.conda\\envs\\tipdm\\lib\\site-packages\\sklearn\\metrics\\_regression.py:101\u001b[0m, in \u001b[0;36m_check_reg_targets\u001b[1;34m(y_true, y_pred, multioutput, dtype)\u001b[0m\n\u001b[0;32m     67\u001b[0m \u001b[38;5;250m\u001b[39m\u001b[38;5;124;03m\"\"\"Check that y_true and y_pred belong to the same regression task.\u001b[39;00m\n\u001b[0;32m     68\u001b[0m \n\u001b[0;32m     69\u001b[0m \u001b[38;5;124;03mParameters\u001b[39;00m\n\u001b[1;32m   (...)\u001b[0m\n\u001b[0;32m     98\u001b[0m \u001b[38;5;124;03m    correct keyword.\u001b[39;00m\n\u001b[0;32m     99\u001b[0m \u001b[38;5;124;03m\"\"\"\u001b[39;00m\n\u001b[0;32m    100\u001b[0m check_consistent_length(y_true, y_pred)\n\u001b[1;32m--> 101\u001b[0m y_true \u001b[38;5;241m=\u001b[39m \u001b[43mcheck_array\u001b[49m\u001b[43m(\u001b[49m\u001b[43my_true\u001b[49m\u001b[43m,\u001b[49m\u001b[43m \u001b[49m\u001b[43mensure_2d\u001b[49m\u001b[38;5;241;43m=\u001b[39;49m\u001b[38;5;28;43;01mFalse\u001b[39;49;00m\u001b[43m,\u001b[49m\u001b[43m \u001b[49m\u001b[43mdtype\u001b[49m\u001b[38;5;241;43m=\u001b[39;49m\u001b[43mdtype\u001b[49m\u001b[43m)\u001b[49m\n\u001b[0;32m    102\u001b[0m y_pred \u001b[38;5;241m=\u001b[39m check_array(y_pred, ensure_2d\u001b[38;5;241m=\u001b[39m\u001b[38;5;28;01mFalse\u001b[39;00m, dtype\u001b[38;5;241m=\u001b[39mdtype)\n\u001b[0;32m    104\u001b[0m \u001b[38;5;28;01mif\u001b[39;00m y_true\u001b[38;5;241m.\u001b[39mndim \u001b[38;5;241m==\u001b[39m \u001b[38;5;241m1\u001b[39m:\n",
      "File \u001b[1;32m~\\.conda\\envs\\tipdm\\lib\\site-packages\\sklearn\\utils\\validation.py:899\u001b[0m, in \u001b[0;36mcheck_array\u001b[1;34m(array, accept_sparse, accept_large_sparse, dtype, order, copy, force_all_finite, ensure_2d, allow_nd, ensure_min_samples, ensure_min_features, estimator, input_name)\u001b[0m\n\u001b[0;32m    893\u001b[0m         \u001b[38;5;28;01mraise\u001b[39;00m \u001b[38;5;167;01mValueError\u001b[39;00m(\n\u001b[0;32m    894\u001b[0m             \u001b[38;5;124m\"\u001b[39m\u001b[38;5;124mFound array with dim \u001b[39m\u001b[38;5;132;01m%d\u001b[39;00m\u001b[38;5;124m. \u001b[39m\u001b[38;5;132;01m%s\u001b[39;00m\u001b[38;5;124m expected <= 2.\u001b[39m\u001b[38;5;124m\"\u001b[39m\n\u001b[0;32m    895\u001b[0m             \u001b[38;5;241m%\u001b[39m (array\u001b[38;5;241m.\u001b[39mndim, estimator_name)\n\u001b[0;32m    896\u001b[0m         )\n\u001b[0;32m    898\u001b[0m     \u001b[38;5;28;01mif\u001b[39;00m force_all_finite:\n\u001b[1;32m--> 899\u001b[0m         \u001b[43m_assert_all_finite\u001b[49m\u001b[43m(\u001b[49m\n\u001b[0;32m    900\u001b[0m \u001b[43m            \u001b[49m\u001b[43marray\u001b[49m\u001b[43m,\u001b[49m\n\u001b[0;32m    901\u001b[0m \u001b[43m            \u001b[49m\u001b[43minput_name\u001b[49m\u001b[38;5;241;43m=\u001b[39;49m\u001b[43minput_name\u001b[49m\u001b[43m,\u001b[49m\n\u001b[0;32m    902\u001b[0m \u001b[43m            \u001b[49m\u001b[43mestimator_name\u001b[49m\u001b[38;5;241;43m=\u001b[39;49m\u001b[43mestimator_name\u001b[49m\u001b[43m,\u001b[49m\n\u001b[0;32m    903\u001b[0m \u001b[43m            \u001b[49m\u001b[43mallow_nan\u001b[49m\u001b[38;5;241;43m=\u001b[39;49m\u001b[43mforce_all_finite\u001b[49m\u001b[43m \u001b[49m\u001b[38;5;241;43m==\u001b[39;49m\u001b[43m \u001b[49m\u001b[38;5;124;43m\"\u001b[39;49m\u001b[38;5;124;43mallow-nan\u001b[39;49m\u001b[38;5;124;43m\"\u001b[39;49m\u001b[43m,\u001b[49m\n\u001b[0;32m    904\u001b[0m \u001b[43m        \u001b[49m\u001b[43m)\u001b[49m\n\u001b[0;32m    906\u001b[0m \u001b[38;5;28;01mif\u001b[39;00m ensure_min_samples \u001b[38;5;241m>\u001b[39m \u001b[38;5;241m0\u001b[39m:\n\u001b[0;32m    907\u001b[0m     n_samples \u001b[38;5;241m=\u001b[39m _num_samples(array)\n",
      "File \u001b[1;32m~\\.conda\\envs\\tipdm\\lib\\site-packages\\sklearn\\utils\\validation.py:146\u001b[0m, in \u001b[0;36m_assert_all_finite\u001b[1;34m(X, allow_nan, msg_dtype, estimator_name, input_name)\u001b[0m\n\u001b[0;32m    124\u001b[0m         \u001b[38;5;28;01mif\u001b[39;00m (\n\u001b[0;32m    125\u001b[0m             \u001b[38;5;129;01mnot\u001b[39;00m allow_nan\n\u001b[0;32m    126\u001b[0m             \u001b[38;5;129;01mand\u001b[39;00m estimator_name\n\u001b[1;32m   (...)\u001b[0m\n\u001b[0;32m    130\u001b[0m             \u001b[38;5;66;03m# Improve the error message on how to handle missing values in\u001b[39;00m\n\u001b[0;32m    131\u001b[0m             \u001b[38;5;66;03m# scikit-learn.\u001b[39;00m\n\u001b[0;32m    132\u001b[0m             msg_err \u001b[38;5;241m+\u001b[39m\u001b[38;5;241m=\u001b[39m (\n\u001b[0;32m    133\u001b[0m                 \u001b[38;5;124mf\u001b[39m\u001b[38;5;124m\"\u001b[39m\u001b[38;5;130;01m\\n\u001b[39;00m\u001b[38;5;132;01m{\u001b[39;00mestimator_name\u001b[38;5;132;01m}\u001b[39;00m\u001b[38;5;124m does not accept missing values\u001b[39m\u001b[38;5;124m\"\u001b[39m\n\u001b[0;32m    134\u001b[0m                 \u001b[38;5;124m\"\u001b[39m\u001b[38;5;124m encoded as NaN natively. For supervised learning, you might want\u001b[39m\u001b[38;5;124m\"\u001b[39m\n\u001b[1;32m   (...)\u001b[0m\n\u001b[0;32m    144\u001b[0m                 \u001b[38;5;124m\"\u001b[39m\u001b[38;5;124m#estimators-that-handle-nan-values\u001b[39m\u001b[38;5;124m\"\u001b[39m\n\u001b[0;32m    145\u001b[0m             )\n\u001b[1;32m--> 146\u001b[0m         \u001b[38;5;28;01mraise\u001b[39;00m \u001b[38;5;167;01mValueError\u001b[39;00m(msg_err)\n\u001b[0;32m    148\u001b[0m \u001b[38;5;66;03m# for object dtype data, we only check for NaNs (GH-13254)\u001b[39;00m\n\u001b[0;32m    149\u001b[0m \u001b[38;5;28;01melif\u001b[39;00m X\u001b[38;5;241m.\u001b[39mdtype \u001b[38;5;241m==\u001b[39m np\u001b[38;5;241m.\u001b[39mdtype(\u001b[38;5;124m\"\u001b[39m\u001b[38;5;124mobject\u001b[39m\u001b[38;5;124m\"\u001b[39m) \u001b[38;5;129;01mand\u001b[39;00m \u001b[38;5;129;01mnot\u001b[39;00m allow_nan:\n",
      "\u001b[1;31mValueError\u001b[0m: Input contains infinity or a value too large for dtype('float64')."
     ]
    }
   ],
   "source": [
    "min_score=train(x_columns,d,f_map)#模型出现预测值无穷大的问题"
   ]
  },
  {
   "cell_type": "code",
   "execution_count": null,
   "id": "6faa0305",
   "metadata": {},
   "outputs": [],
   "source": []
  }
 ],
 "metadata": {
  "kernelspec": {
   "display_name": "neihetipdm",
   "language": "python",
   "name": "neihetipdm"
  },
  "language_info": {
   "codemirror_mode": {
    "name": "ipython",
    "version": 3
   },
   "file_extension": ".py",
   "mimetype": "text/x-python",
   "name": "python",
   "nbconvert_exporter": "python",
   "pygments_lexer": "ipython3",
   "version": "3.10.0"
  },
  "toc": {
   "base_numbering": 1,
   "nav_menu": {},
   "number_sections": true,
   "sideBar": true,
   "skip_h1_title": false,
   "title_cell": "Table of Contents",
   "title_sidebar": "Contents",
   "toc_cell": false,
   "toc_position": {},
   "toc_section_display": true,
   "toc_window_display": false
  }
 },
 "nbformat": 4,
 "nbformat_minor": 5
}
