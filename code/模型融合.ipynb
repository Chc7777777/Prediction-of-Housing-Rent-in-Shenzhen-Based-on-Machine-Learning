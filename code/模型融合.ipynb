{
 "cells": [
  {
   "cell_type": "code",
   "execution_count": 1,
   "id": "eaeabd85",
   "metadata": {
    "ExecuteTime": {
     "end_time": "2024-03-29T09:25:50.155423Z",
     "start_time": "2024-03-29T09:25:48.723312Z"
    }
   },
   "outputs": [],
   "source": [
    "from sklearn.linear_model import RidgeCV,LassoCV,Ridge,Lasso\n",
    "from sklearn.svm import LinearSVR,SVR\n",
    "from sklearn.ensemble import RandomForestRegressor,AdaBoostRegressor,GradientBoostingRegressor\n",
    "from sklearn.neural_network import MLPRegressor\n",
    "import lightgbm as lgb\n",
    "from sklearn.tree import DecisionTreeRegressor\n",
    "from sklearn.neural_network import MLPRegressor\n",
    "from sklearn.model_selection import train_test_split,GridSearchCV\n",
    "from sklearn.feature_extraction import DictVectorizer\n",
    "from sklearn.preprocessing import StandardScaler,PolynomialFeatures\n",
    "from sklearn.decomposition import PCA\n",
    "import pandas as pd\n",
    "import numpy as np\n",
    "from sklearn.metrics import mean_squared_error"
   ]
  },
  {
   "cell_type": "code",
   "execution_count": 2,
   "id": "78b0f988",
   "metadata": {
    "ExecuteTime": {
     "end_time": "2024-03-29T09:25:50.171439Z",
     "start_time": "2024-03-29T09:25:50.157420Z"
    }
   },
   "outputs": [],
   "source": [
    "#没有用bagging和boosting\n",
    "#stacking    先用几个不同的模型做预测  输出预测值  然后将这几个模型输出的预测值作为特征来训练一个新的模型"
   ]
  },
  {
   "cell_type": "markdown",
   "id": "1f3e8ea0",
   "metadata": {},
   "source": [
    "# 数据获取"
   ]
  },
  {
   "cell_type": "code",
   "execution_count": 3,
   "id": "2969c386",
   "metadata": {
    "ExecuteTime": {
     "end_time": "2024-03-29T09:25:50.186666Z",
     "start_time": "2024-03-29T09:25:50.175438Z"
    }
   },
   "outputs": [],
   "source": [
    "# 获取数据"
   ]
  },
  {
   "cell_type": "code",
   "execution_count": 4,
   "id": "da74715d",
   "metadata": {
    "ExecuteTime": {
     "end_time": "2024-03-29T09:25:54.930887Z",
     "start_time": "2024-03-29T09:25:50.187669Z"
    },
    "scrolled": true
   },
   "outputs": [
    {
     "name": "stdout",
     "output_type": "stream",
     "text": [
      "<class 'pandas.core.frame.DataFrame'>\n",
      "RangeIndex: 12869 entries, 0 to 12868\n",
      "Data columns (total 41 columns):\n",
      " #   Column        Non-Null Count  Dtype  \n",
      "---  ------        --------------  -----  \n",
      " 0   租金            12869 non-null  int64  \n",
      " 1   面积(平方米)       12869 non-null  float64\n",
      " 2   服务费           12869 non-null  float64\n",
      " 3   A地铁线          12869 non-null  int64  \n",
      " 4   B地铁线          12869 non-null  int64  \n",
      " 5   C地铁线          12869 non-null  int64  \n",
      " 6   大区标签          12869 non-null  int64  \n",
      " 7   品牌标签          12869 non-null  int64  \n",
      " 8   租赁方式标签        12869 non-null  int64  \n",
      " 9   装修标签          12869 non-null  int64  \n",
      " 10  朝向标签          12869 non-null  int64  \n",
      " 11  电梯_标签         12869 non-null  int64  \n",
      " 12  车位_标签         12869 non-null  int64  \n",
      " 13  用水_标签         12869 non-null  int64  \n",
      " 14  用电_标签         12869 non-null  int64  \n",
      " 15  燃气_标签         12869 non-null  int64  \n",
      " 16  采暖_标签         12869 non-null  int64  \n",
      " 17  A付款方式标签       12869 non-null  int64  \n",
      " 18  B付款方式标签       12869 non-null  int64  \n",
      " 19  C付款方式标签       12869 non-null  int64  \n",
      " 20  楼层标签          12869 non-null  int64  \n",
      " 21  卧室            12869 non-null  int64  \n",
      " 22  客厅            12869 non-null  int64  \n",
      " 23  卫生间           12869 non-null  int64  \n",
      " 24  房+卫+厅         12869 non-null  int64  \n",
      " 25  房/总           12869 non-null  float64\n",
      " 26  卫/总           12869 non-null  float64\n",
      " 27  厅/总           12869 non-null  float64\n",
      " 28  卧室面积          12869 non-null  float64\n",
      " 29  户型            12869 non-null  int64  \n",
      " 30  是否地铁          12869 non-null  int64  \n",
      " 31  平均值特征1        12869 non-null  float64\n",
      " 32  大区+街道平均值特征    12869 non-null  float64\n",
      " 33  朝向标签平均值特征     12869 non-null  float64\n",
      " 34  A地铁线平均值特征     12869 non-null  float64\n",
      " 35  大区英文平均值特征     12869 non-null  float64\n",
      " 36  房屋配置聚类平均值特征2  12869 non-null  float64\n",
      " 37  房屋装修聚类平均值特征3  12869 non-null  float64\n",
      " 38  房屋费用聚类平均值特征4  12869 non-null  float64\n",
      " 39  房屋便利聚类平均值特征5  12869 non-null  float64\n",
      " 40  小区_标签         12869 non-null  int64  \n",
      "dtypes: float64(15), int64(26)\n",
      "memory usage: 4.0 MB\n"
     ]
    }
   ],
   "source": [
    "data=pd.read_excel(\"E://IT//毕设//result/data_twelve.xlsx\")\n",
    "data.info()    "
   ]
  },
  {
   "cell_type": "code",
   "execution_count": 5,
   "id": "9e0a6358",
   "metadata": {
    "ExecuteTime": {
     "end_time": "2024-03-29T09:25:54.946884Z",
     "start_time": "2024-03-29T09:25:54.932884Z"
    }
   },
   "outputs": [],
   "source": [
    "df1=pd.DataFrame(data)"
   ]
  },
  {
   "cell_type": "code",
   "execution_count": 6,
   "id": "c870c515",
   "metadata": {
    "ExecuteTime": {
     "end_time": "2024-03-29T09:25:54.978884Z",
     "start_time": "2024-03-29T09:25:54.948884Z"
    }
   },
   "outputs": [
    {
     "data": {
      "text/html": [
       "<div>\n",
       "<style scoped>\n",
       "    .dataframe tbody tr th:only-of-type {\n",
       "        vertical-align: middle;\n",
       "    }\n",
       "\n",
       "    .dataframe tbody tr th {\n",
       "        vertical-align: top;\n",
       "    }\n",
       "\n",
       "    .dataframe thead th {\n",
       "        text-align: right;\n",
       "    }\n",
       "</style>\n",
       "<table border=\"1\" class=\"dataframe\">\n",
       "  <thead>\n",
       "    <tr style=\"text-align: right;\">\n",
       "      <th></th>\n",
       "      <th>租金</th>\n",
       "      <th>面积(平方米)</th>\n",
       "      <th>服务费</th>\n",
       "      <th>A地铁线</th>\n",
       "      <th>B地铁线</th>\n",
       "      <th>C地铁线</th>\n",
       "      <th>大区标签</th>\n",
       "      <th>品牌标签</th>\n",
       "      <th>租赁方式标签</th>\n",
       "      <th>装修标签</th>\n",
       "      <th>...</th>\n",
       "      <th>平均值特征1</th>\n",
       "      <th>大区+街道平均值特征</th>\n",
       "      <th>朝向标签平均值特征</th>\n",
       "      <th>A地铁线平均值特征</th>\n",
       "      <th>大区英文平均值特征</th>\n",
       "      <th>房屋配置聚类平均值特征2</th>\n",
       "      <th>房屋装修聚类平均值特征3</th>\n",
       "      <th>房屋费用聚类平均值特征4</th>\n",
       "      <th>房屋便利聚类平均值特征5</th>\n",
       "      <th>小区_标签</th>\n",
       "    </tr>\n",
       "  </thead>\n",
       "  <tbody>\n",
       "    <tr>\n",
       "      <th>0</th>\n",
       "      <td>6700</td>\n",
       "      <td>60.00</td>\n",
       "      <td>670.0</td>\n",
       "      <td>9</td>\n",
       "      <td>7</td>\n",
       "      <td>1</td>\n",
       "      <td>3</td>\n",
       "      <td>1</td>\n",
       "      <td>1</td>\n",
       "      <td>1</td>\n",
       "      <td>...</td>\n",
       "      <td>5712.720000</td>\n",
       "      <td>5225.413534</td>\n",
       "      <td>4163.071070</td>\n",
       "      <td>4992.092732</td>\n",
       "      <td>4882.436364</td>\n",
       "      <td>4414.579365</td>\n",
       "      <td>4351.671456</td>\n",
       "      <td>5000.154891</td>\n",
       "      <td>4586.337664</td>\n",
       "      <td>1</td>\n",
       "    </tr>\n",
       "    <tr>\n",
       "      <th>1</th>\n",
       "      <td>6400</td>\n",
       "      <td>80.48</td>\n",
       "      <td>640.0</td>\n",
       "      <td>11</td>\n",
       "      <td>1</td>\n",
       "      <td>-1</td>\n",
       "      <td>1</td>\n",
       "      <td>1</td>\n",
       "      <td>1</td>\n",
       "      <td>2</td>\n",
       "      <td>...</td>\n",
       "      <td>5998.750000</td>\n",
       "      <td>5229.564103</td>\n",
       "      <td>4524.850652</td>\n",
       "      <td>4779.522624</td>\n",
       "      <td>4494.741590</td>\n",
       "      <td>5145.811146</td>\n",
       "      <td>4513.637500</td>\n",
       "      <td>5000.154891</td>\n",
       "      <td>4586.337664</td>\n",
       "      <td>2</td>\n",
       "    </tr>\n",
       "    <tr>\n",
       "      <th>2</th>\n",
       "      <td>2580</td>\n",
       "      <td>36.00</td>\n",
       "      <td>258.0</td>\n",
       "      <td>16</td>\n",
       "      <td>-1</td>\n",
       "      <td>-1</td>\n",
       "      <td>5</td>\n",
       "      <td>1</td>\n",
       "      <td>1</td>\n",
       "      <td>2</td>\n",
       "      <td>...</td>\n",
       "      <td>2634.666667</td>\n",
       "      <td>3707.724551</td>\n",
       "      <td>4216.757028</td>\n",
       "      <td>3843.047228</td>\n",
       "      <td>4035.890179</td>\n",
       "      <td>4414.579365</td>\n",
       "      <td>4513.637500</td>\n",
       "      <td>5000.154891</td>\n",
       "      <td>4586.337664</td>\n",
       "      <td>3</td>\n",
       "    </tr>\n",
       "    <tr>\n",
       "      <th>3</th>\n",
       "      <td>5000</td>\n",
       "      <td>118.00</td>\n",
       "      <td>0.0</td>\n",
       "      <td>6</td>\n",
       "      <td>-1</td>\n",
       "      <td>-1</td>\n",
       "      <td>4</td>\n",
       "      <td>2</td>\n",
       "      <td>1</td>\n",
       "      <td>2</td>\n",
       "      <td>...</td>\n",
       "      <td>5048.131868</td>\n",
       "      <td>4953.176282</td>\n",
       "      <td>4525.573000</td>\n",
       "      <td>4597.347368</td>\n",
       "      <td>4466.491597</td>\n",
       "      <td>4699.096813</td>\n",
       "      <td>4260.068896</td>\n",
       "      <td>4703.166293</td>\n",
       "      <td>4586.337664</td>\n",
       "      <td>4</td>\n",
       "    </tr>\n",
       "    <tr>\n",
       "      <th>4</th>\n",
       "      <td>2300</td>\n",
       "      <td>34.00</td>\n",
       "      <td>0.0</td>\n",
       "      <td>20</td>\n",
       "      <td>20</td>\n",
       "      <td>-1</td>\n",
       "      <td>1</td>\n",
       "      <td>2</td>\n",
       "      <td>1</td>\n",
       "      <td>2</td>\n",
       "      <td>...</td>\n",
       "      <td>2735.000000</td>\n",
       "      <td>4020.554656</td>\n",
       "      <td>4216.757028</td>\n",
       "      <td>3262.638298</td>\n",
       "      <td>4494.741590</td>\n",
       "      <td>4414.579365</td>\n",
       "      <td>4513.637500</td>\n",
       "      <td>4703.166293</td>\n",
       "      <td>4586.337664</td>\n",
       "      <td>5</td>\n",
       "    </tr>\n",
       "  </tbody>\n",
       "</table>\n",
       "<p>5 rows × 41 columns</p>\n",
       "</div>"
      ],
      "text/plain": [
       "     租金  面积(平方米)    服务费  A地铁线  B地铁线  C地铁线  大区标签  品牌标签  租赁方式标签  装修标签  ...  \\\n",
       "0  6700    60.00  670.0     9     7     1     3     1       1     1  ...   \n",
       "1  6400    80.48  640.0    11     1    -1     1     1       1     2  ...   \n",
       "2  2580    36.00  258.0    16    -1    -1     5     1       1     2  ...   \n",
       "3  5000   118.00    0.0     6    -1    -1     4     2       1     2  ...   \n",
       "4  2300    34.00    0.0    20    20    -1     1     2       1     2  ...   \n",
       "\n",
       "        平均值特征1   大区+街道平均值特征    朝向标签平均值特征    A地铁线平均值特征    大区英文平均值特征  \\\n",
       "0  5712.720000  5225.413534  4163.071070  4992.092732  4882.436364   \n",
       "1  5998.750000  5229.564103  4524.850652  4779.522624  4494.741590   \n",
       "2  2634.666667  3707.724551  4216.757028  3843.047228  4035.890179   \n",
       "3  5048.131868  4953.176282  4525.573000  4597.347368  4466.491597   \n",
       "4  2735.000000  4020.554656  4216.757028  3262.638298  4494.741590   \n",
       "\n",
       "   房屋配置聚类平均值特征2  房屋装修聚类平均值特征3  房屋费用聚类平均值特征4  房屋便利聚类平均值特征5  小区_标签  \n",
       "0   4414.579365   4351.671456   5000.154891   4586.337664      1  \n",
       "1   5145.811146   4513.637500   5000.154891   4586.337664      2  \n",
       "2   4414.579365   4513.637500   5000.154891   4586.337664      3  \n",
       "3   4699.096813   4260.068896   4703.166293   4586.337664      4  \n",
       "4   4414.579365   4513.637500   4703.166293   4586.337664      5  \n",
       "\n",
       "[5 rows x 41 columns]"
      ]
     },
     "execution_count": 6,
     "metadata": {},
     "output_type": "execute_result"
    }
   ],
   "source": [
    "df1.head()"
   ]
  },
  {
   "cell_type": "code",
   "execution_count": 7,
   "id": "c60224bf",
   "metadata": {
    "ExecuteTime": {
     "end_time": "2024-03-29T09:25:54.994883Z",
     "start_time": "2024-03-29T09:25:54.979884Z"
    }
   },
   "outputs": [],
   "source": [
    "# 最大最小值缩放"
   ]
  },
  {
   "cell_type": "code",
   "execution_count": 8,
   "id": "3e6b4d7b",
   "metadata": {
    "ExecuteTime": {
     "end_time": "2024-03-29T09:25:55.010885Z",
     "start_time": "2024-03-29T09:25:54.996883Z"
    }
   },
   "outputs": [],
   "source": [
    "def min_max_scaling(data, feature_range=(0, 1)):\n",
    "    \"\"\"\n",
    "    对每列数据进行最大最小值缩放\n",
    "    \n",
    "    参数：\n",
    "    - data：要进行缩放的数据，可以是 NumPy 数组、Pandas DataFrame 或其他类似数据结构\n",
    "    - feature_range：缩放后的特征范围，默认为 (0, 1)\n",
    "    \n",
    "    返回值：\n",
    "    - scaled_data：缩放后的数据\n",
    "    \"\"\"\n",
    "    min_val = np.min(data, axis=0)\n",
    "    max_val = np.max(data, axis=0)\n",
    "    range_min, range_max = feature_range\n",
    "    \n",
    "    scaled_data = (data - min_val) / (max_val - min_val) * (range_max - range_min) + range_min\n",
    "    \n",
    "    return scaled_data\n"
   ]
  },
  {
   "cell_type": "code",
   "execution_count": 9,
   "id": "73c29b9e",
   "metadata": {
    "ExecuteTime": {
     "end_time": "2024-03-29T09:25:55.041886Z",
     "start_time": "2024-03-29T09:25:55.014883Z"
    }
   },
   "outputs": [],
   "source": [
    "df2=min_max_scaling(df1)"
   ]
  },
  {
   "cell_type": "code",
   "execution_count": 10,
   "id": "5c4ab1a8",
   "metadata": {
    "ExecuteTime": {
     "end_time": "2024-03-29T09:25:55.073884Z",
     "start_time": "2024-03-29T09:25:55.043884Z"
    }
   },
   "outputs": [
    {
     "data": {
      "text/html": [
       "<div>\n",
       "<style scoped>\n",
       "    .dataframe tbody tr th:only-of-type {\n",
       "        vertical-align: middle;\n",
       "    }\n",
       "\n",
       "    .dataframe tbody tr th {\n",
       "        vertical-align: top;\n",
       "    }\n",
       "\n",
       "    .dataframe thead th {\n",
       "        text-align: right;\n",
       "    }\n",
       "</style>\n",
       "<table border=\"1\" class=\"dataframe\">\n",
       "  <thead>\n",
       "    <tr style=\"text-align: right;\">\n",
       "      <th></th>\n",
       "      <th>租金</th>\n",
       "      <th>面积(平方米)</th>\n",
       "      <th>服务费</th>\n",
       "      <th>A地铁线</th>\n",
       "      <th>B地铁线</th>\n",
       "      <th>C地铁线</th>\n",
       "      <th>大区标签</th>\n",
       "      <th>品牌标签</th>\n",
       "      <th>租赁方式标签</th>\n",
       "      <th>装修标签</th>\n",
       "      <th>...</th>\n",
       "      <th>平均值特征1</th>\n",
       "      <th>大区+街道平均值特征</th>\n",
       "      <th>朝向标签平均值特征</th>\n",
       "      <th>A地铁线平均值特征</th>\n",
       "      <th>大区英文平均值特征</th>\n",
       "      <th>房屋配置聚类平均值特征2</th>\n",
       "      <th>房屋装修聚类平均值特征3</th>\n",
       "      <th>房屋费用聚类平均值特征4</th>\n",
       "      <th>房屋便利聚类平均值特征5</th>\n",
       "      <th>小区_标签</th>\n",
       "    </tr>\n",
       "  </thead>\n",
       "  <tbody>\n",
       "    <tr>\n",
       "      <th>0</th>\n",
       "      <td>0.676768</td>\n",
       "      <td>0.017424</td>\n",
       "      <td>0.011168</td>\n",
       "      <td>0.476190</td>\n",
       "      <td>0.380952</td>\n",
       "      <td>0.2</td>\n",
       "      <td>0.222222</td>\n",
       "      <td>0.000000</td>\n",
       "      <td>0.0</td>\n",
       "      <td>0.0</td>\n",
       "      <td>...</td>\n",
       "      <td>0.579035</td>\n",
       "      <td>0.710206</td>\n",
       "      <td>0.878064</td>\n",
       "      <td>0.880589</td>\n",
       "      <td>0.958764</td>\n",
       "      <td>0.676576</td>\n",
       "      <td>0.330918</td>\n",
       "      <td>1.000000</td>\n",
       "      <td>1.0</td>\n",
       "      <td>0.000000</td>\n",
       "    </tr>\n",
       "    <tr>\n",
       "      <th>1</th>\n",
       "      <td>0.646465</td>\n",
       "      <td>0.023273</td>\n",
       "      <td>0.010668</td>\n",
       "      <td>0.571429</td>\n",
       "      <td>0.095238</td>\n",
       "      <td>0.0</td>\n",
       "      <td>0.000000</td>\n",
       "      <td>0.000000</td>\n",
       "      <td>0.0</td>\n",
       "      <td>1.0</td>\n",
       "      <td>...</td>\n",
       "      <td>0.608021</td>\n",
       "      <td>0.711188</td>\n",
       "      <td>0.992999</td>\n",
       "      <td>0.772354</td>\n",
       "      <td>0.681667</td>\n",
       "      <td>1.000000</td>\n",
       "      <td>0.916027</td>\n",
       "      <td>1.000000</td>\n",
       "      <td>1.0</td>\n",
       "      <td>0.000368</td>\n",
       "    </tr>\n",
       "    <tr>\n",
       "      <th>2</th>\n",
       "      <td>0.260606</td>\n",
       "      <td>0.010568</td>\n",
       "      <td>0.004302</td>\n",
       "      <td>0.809524</td>\n",
       "      <td>0.000000</td>\n",
       "      <td>0.0</td>\n",
       "      <td>0.444444</td>\n",
       "      <td>0.000000</td>\n",
       "      <td>0.0</td>\n",
       "      <td>1.0</td>\n",
       "      <td>...</td>\n",
       "      <td>0.267101</td>\n",
       "      <td>0.351050</td>\n",
       "      <td>0.895120</td>\n",
       "      <td>0.295528</td>\n",
       "      <td>0.353712</td>\n",
       "      <td>0.676576</td>\n",
       "      <td>0.916027</td>\n",
       "      <td>1.000000</td>\n",
       "      <td>1.0</td>\n",
       "      <td>0.000737</td>\n",
       "    </tr>\n",
       "    <tr>\n",
       "      <th>3</th>\n",
       "      <td>0.505051</td>\n",
       "      <td>0.033990</td>\n",
       "      <td>0.000002</td>\n",
       "      <td>0.333333</td>\n",
       "      <td>0.000000</td>\n",
       "      <td>0.0</td>\n",
       "      <td>0.333333</td>\n",
       "      <td>0.066667</td>\n",
       "      <td>0.0</td>\n",
       "      <td>1.0</td>\n",
       "      <td>...</td>\n",
       "      <td>0.511684</td>\n",
       "      <td>0.645782</td>\n",
       "      <td>0.993229</td>\n",
       "      <td>0.679596</td>\n",
       "      <td>0.661476</td>\n",
       "      <td>0.802418</td>\n",
       "      <td>0.000000</td>\n",
       "      <td>0.897086</td>\n",
       "      <td>1.0</td>\n",
       "      <td>0.001105</td>\n",
       "    </tr>\n",
       "    <tr>\n",
       "      <th>4</th>\n",
       "      <td>0.232323</td>\n",
       "      <td>0.009997</td>\n",
       "      <td>0.000002</td>\n",
       "      <td>1.000000</td>\n",
       "      <td>1.000000</td>\n",
       "      <td>0.0</td>\n",
       "      <td>0.000000</td>\n",
       "      <td>0.066667</td>\n",
       "      <td>0.0</td>\n",
       "      <td>1.0</td>\n",
       "      <td>...</td>\n",
       "      <td>0.277269</td>\n",
       "      <td>0.425081</td>\n",
       "      <td>0.895120</td>\n",
       "      <td>0.000000</td>\n",
       "      <td>0.681667</td>\n",
       "      <td>0.676576</td>\n",
       "      <td>0.916027</td>\n",
       "      <td>0.897086</td>\n",
       "      <td>1.0</td>\n",
       "      <td>0.001474</td>\n",
       "    </tr>\n",
       "  </tbody>\n",
       "</table>\n",
       "<p>5 rows × 41 columns</p>\n",
       "</div>"
      ],
      "text/plain": [
       "         租金   面积(平方米)       服务费      A地铁线      B地铁线  C地铁线      大区标签      品牌标签  \\\n",
       "0  0.676768  0.017424  0.011168  0.476190  0.380952   0.2  0.222222  0.000000   \n",
       "1  0.646465  0.023273  0.010668  0.571429  0.095238   0.0  0.000000  0.000000   \n",
       "2  0.260606  0.010568  0.004302  0.809524  0.000000   0.0  0.444444  0.000000   \n",
       "3  0.505051  0.033990  0.000002  0.333333  0.000000   0.0  0.333333  0.066667   \n",
       "4  0.232323  0.009997  0.000002  1.000000  1.000000   0.0  0.000000  0.066667   \n",
       "\n",
       "   租赁方式标签  装修标签  ...    平均值特征1  大区+街道平均值特征  朝向标签平均值特征  A地铁线平均值特征  大区英文平均值特征  \\\n",
       "0     0.0   0.0  ...  0.579035    0.710206   0.878064   0.880589   0.958764   \n",
       "1     0.0   1.0  ...  0.608021    0.711188   0.992999   0.772354   0.681667   \n",
       "2     0.0   1.0  ...  0.267101    0.351050   0.895120   0.295528   0.353712   \n",
       "3     0.0   1.0  ...  0.511684    0.645782   0.993229   0.679596   0.661476   \n",
       "4     0.0   1.0  ...  0.277269    0.425081   0.895120   0.000000   0.681667   \n",
       "\n",
       "   房屋配置聚类平均值特征2  房屋装修聚类平均值特征3  房屋费用聚类平均值特征4  房屋便利聚类平均值特征5     小区_标签  \n",
       "0      0.676576      0.330918      1.000000           1.0  0.000000  \n",
       "1      1.000000      0.916027      1.000000           1.0  0.000368  \n",
       "2      0.676576      0.916027      1.000000           1.0  0.000737  \n",
       "3      0.802418      0.000000      0.897086           1.0  0.001105  \n",
       "4      0.676576      0.916027      0.897086           1.0  0.001474  \n",
       "\n",
       "[5 rows x 41 columns]"
      ]
     },
     "execution_count": 10,
     "metadata": {},
     "output_type": "execute_result"
    }
   ],
   "source": [
    "df2.head()"
   ]
  },
  {
   "cell_type": "code",
   "execution_count": 11,
   "id": "967e7f8e",
   "metadata": {
    "ExecuteTime": {
     "end_time": "2024-03-29T09:25:55.089884Z",
     "start_time": "2024-03-29T09:25:55.075884Z"
    }
   },
   "outputs": [
    {
     "data": {
      "text/plain": [
       "0"
      ]
     },
     "execution_count": 11,
     "metadata": {},
     "output_type": "execute_result"
    }
   ],
   "source": [
    "# x_columns=[ '面积(平方米)', '服务费', 'A地铁线', 'B地铁线', 'C地铁线', '大区标签', '品牌标签',\n",
    "#        '租赁方式标签', '装修标签', '朝向标签', '电梯_标签', '车位_标签', '用水_标签', '用电_标签', '燃气_标签',\n",
    "#        '采暖_标签', 'A付款方式标签', 'B付款方式标签', 'C付款方式标签', '楼层标签', '卧室', '客厅', '卫生间',\n",
    "#        '房+卫+厅', '房/总', '卫/总', '厅/总', '卧室面积', '户型', '是否地铁', '平均值特征1',\n",
    "#        '大区+街道平均值特征', '朝向标签平均值特征', 'A地铁线平均值特征', '大区英文平均值特征', '房屋配置聚类平均值特征2',\n",
    "#        '房屋装修聚类平均值特征3', '房屋费用聚类平均值特征4', '房屋便利聚类平均值特征5', '小区_标签']\n",
    "x_columns=['A付款方式标签', '大区+街道平均值特征', '装修标签',  '客厅', '房+卫+厅', '卫/总', '大区英文平均值特征', \n",
    "           '房屋配置聚类平均值特征2', 'B付款方式标签', 'A地铁线', '朝向标签平均值特征', 'C付款方式标签', '小区_标签',\n",
    "           'A地铁线平均值特征', 'B地铁线', '大区标签', 'C地铁线', '卫生间', '燃气_标签', '面积(平方米)', '房屋便利聚类平均值特征5',\n",
    "           '平均值特征1', '电梯_标签', '卧室面积', '用水_标签', '房/总', '户型', '用电_标签']\n",
    "y_label='租金'\n",
    "x=df2[x_columns]\n",
    "y=df2[y_label]\n",
    "y.isnull().sum()"
   ]
  },
  {
   "cell_type": "code",
   "execution_count": 12,
   "id": "9d6191e1",
   "metadata": {
    "ExecuteTime": {
     "end_time": "2024-03-29T09:25:55.105884Z",
     "start_time": "2024-03-29T09:25:55.090884Z"
    }
   },
   "outputs": [],
   "source": [
    "# cols=['A付款方式标签', '大区+街道平均值特征', '装修标签',  '客厅', '房+卫+厅', '卫/总', '大区英文平均值特征', '房屋配置聚类平均值特征2', 'B付款方式标签', 'A地铁线', '朝向标签平均值特征', 'C付款方式标签', '小区_标签', 'A地铁线平均值特征', 'B地铁线', '大区标签', 'C地铁线', '卫生间', '燃气_标签', '面积(平方米)', '房屋便利聚类平均值特征5', '平均值特征1', '电梯_标签', '卧室面积', '用水_标签', '房/总', '户型', '用电_标签']"
   ]
  },
  {
   "cell_type": "code",
   "execution_count": 13,
   "id": "32bcc517",
   "metadata": {
    "ExecuteTime": {
     "end_time": "2024-03-29T09:25:55.121890Z",
     "start_time": "2024-03-29T09:25:55.107883Z"
    }
   },
   "outputs": [],
   "source": [
    "#2.分割数据集\n",
    "train_x,test_x,train_y,test_y=train_test_split(x,y,test_size=0.3,random_state=12)"
   ]
  },
  {
   "cell_type": "code",
   "execution_count": 14,
   "id": "33869ddf",
   "metadata": {
    "ExecuteTime": {
     "end_time": "2024-03-29T09:25:55.137884Z",
     "start_time": "2024-03-29T09:25:55.123885Z"
    }
   },
   "outputs": [],
   "source": [
    "# #3.特征转换\n",
    "# vector=DictVectorizer(sparse=True)\n",
    "# x_train=vector.fit_transform(train_x.to_dict(orient='records'))\n",
    "# x_test=vector.transform(test_x.to_dict(orient='records'))"
   ]
  },
  {
   "cell_type": "code",
   "execution_count": 15,
   "id": "657b80af",
   "metadata": {
    "ExecuteTime": {
     "end_time": "2024-03-29T09:25:55.152886Z",
     "start_time": "2024-03-29T09:25:55.138884Z"
    }
   },
   "outputs": [],
   "source": [
    "x_train=train_x\n",
    "x_test=test_x"
   ]
  },
  {
   "cell_type": "code",
   "execution_count": 16,
   "id": "09ddd8d7",
   "metadata": {
    "ExecuteTime": {
     "end_time": "2024-03-29T09:25:55.184903Z",
     "start_time": "2024-03-29T09:25:55.153883Z"
    }
   },
   "outputs": [
    {
     "data": {
      "text/html": [
       "<div>\n",
       "<style scoped>\n",
       "    .dataframe tbody tr th:only-of-type {\n",
       "        vertical-align: middle;\n",
       "    }\n",
       "\n",
       "    .dataframe tbody tr th {\n",
       "        vertical-align: top;\n",
       "    }\n",
       "\n",
       "    .dataframe thead th {\n",
       "        text-align: right;\n",
       "    }\n",
       "</style>\n",
       "<table border=\"1\" class=\"dataframe\">\n",
       "  <thead>\n",
       "    <tr style=\"text-align: right;\">\n",
       "      <th></th>\n",
       "      <th>A付款方式标签</th>\n",
       "      <th>大区+街道平均值特征</th>\n",
       "      <th>装修标签</th>\n",
       "      <th>客厅</th>\n",
       "      <th>房+卫+厅</th>\n",
       "      <th>卫/总</th>\n",
       "      <th>大区英文平均值特征</th>\n",
       "      <th>房屋配置聚类平均值特征2</th>\n",
       "      <th>B付款方式标签</th>\n",
       "      <th>A地铁线</th>\n",
       "      <th>...</th>\n",
       "      <th>燃气_标签</th>\n",
       "      <th>面积(平方米)</th>\n",
       "      <th>房屋便利聚类平均值特征5</th>\n",
       "      <th>平均值特征1</th>\n",
       "      <th>电梯_标签</th>\n",
       "      <th>卧室面积</th>\n",
       "      <th>用水_标签</th>\n",
       "      <th>房/总</th>\n",
       "      <th>户型</th>\n",
       "      <th>用电_标签</th>\n",
       "    </tr>\n",
       "  </thead>\n",
       "  <tbody>\n",
       "    <tr>\n",
       "      <th>5936</th>\n",
       "      <td>0.333333</td>\n",
       "      <td>0.384665</td>\n",
       "      <td>1.0</td>\n",
       "      <td>0.285714</td>\n",
       "      <td>0.181818</td>\n",
       "      <td>0.003322</td>\n",
       "      <td>0.958764</td>\n",
       "      <td>0.676576</td>\n",
       "      <td>0.0</td>\n",
       "      <td>0.095238</td>\n",
       "      <td>...</td>\n",
       "      <td>0.000000</td>\n",
       "      <td>0.013710</td>\n",
       "      <td>1.000000</td>\n",
       "      <td>0.281238</td>\n",
       "      <td>0.0</td>\n",
       "      <td>0.128896</td>\n",
       "      <td>0.000000</td>\n",
       "      <td>0.993401</td>\n",
       "      <td>0.071338</td>\n",
       "      <td>0.000000</td>\n",
       "    </tr>\n",
       "    <tr>\n",
       "      <th>7821</th>\n",
       "      <td>0.333333</td>\n",
       "      <td>0.266218</td>\n",
       "      <td>1.0</td>\n",
       "      <td>0.285714</td>\n",
       "      <td>0.212121</td>\n",
       "      <td>0.002494</td>\n",
       "      <td>0.353712</td>\n",
       "      <td>0.676576</td>\n",
       "      <td>0.0</td>\n",
       "      <td>0.190476</td>\n",
       "      <td>...</td>\n",
       "      <td>0.000000</td>\n",
       "      <td>0.021422</td>\n",
       "      <td>1.000000</td>\n",
       "      <td>0.338327</td>\n",
       "      <td>0.0</td>\n",
       "      <td>0.121312</td>\n",
       "      <td>0.000000</td>\n",
       "      <td>0.995049</td>\n",
       "      <td>0.135032</td>\n",
       "      <td>0.000000</td>\n",
       "    </tr>\n",
       "    <tr>\n",
       "      <th>855</th>\n",
       "      <td>0.333333</td>\n",
       "      <td>0.480808</td>\n",
       "      <td>1.0</td>\n",
       "      <td>0.142857</td>\n",
       "      <td>0.151515</td>\n",
       "      <td>0.004975</td>\n",
       "      <td>0.577698</td>\n",
       "      <td>0.676576</td>\n",
       "      <td>0.0</td>\n",
       "      <td>0.476190</td>\n",
       "      <td>...</td>\n",
       "      <td>0.000000</td>\n",
       "      <td>0.008855</td>\n",
       "      <td>1.000000</td>\n",
       "      <td>0.453096</td>\n",
       "      <td>0.0</td>\n",
       "      <td>0.115761</td>\n",
       "      <td>0.000000</td>\n",
       "      <td>0.995037</td>\n",
       "      <td>0.064968</td>\n",
       "      <td>0.000000</td>\n",
       "    </tr>\n",
       "    <tr>\n",
       "      <th>5731</th>\n",
       "      <td>0.333333</td>\n",
       "      <td>0.329323</td>\n",
       "      <td>1.0</td>\n",
       "      <td>0.428571</td>\n",
       "      <td>0.333333</td>\n",
       "      <td>0.002497</td>\n",
       "      <td>0.577698</td>\n",
       "      <td>0.802418</td>\n",
       "      <td>0.0</td>\n",
       "      <td>0.095238</td>\n",
       "      <td>...</td>\n",
       "      <td>0.000000</td>\n",
       "      <td>0.053128</td>\n",
       "      <td>1.000000</td>\n",
       "      <td>0.363760</td>\n",
       "      <td>0.0</td>\n",
       "      <td>0.128584</td>\n",
       "      <td>0.333333</td>\n",
       "      <td>0.995056</td>\n",
       "      <td>0.269427</td>\n",
       "      <td>0.333333</td>\n",
       "    </tr>\n",
       "    <tr>\n",
       "      <th>6154</th>\n",
       "      <td>0.333333</td>\n",
       "      <td>0.562284</td>\n",
       "      <td>1.0</td>\n",
       "      <td>0.428571</td>\n",
       "      <td>0.272727</td>\n",
       "      <td>0.001664</td>\n",
       "      <td>0.681667</td>\n",
       "      <td>0.705224</td>\n",
       "      <td>0.0</td>\n",
       "      <td>0.000000</td>\n",
       "      <td>...</td>\n",
       "      <td>0.000000</td>\n",
       "      <td>0.014567</td>\n",
       "      <td>0.897622</td>\n",
       "      <td>0.423200</td>\n",
       "      <td>0.0</td>\n",
       "      <td>0.105545</td>\n",
       "      <td>0.666667</td>\n",
       "      <td>0.995054</td>\n",
       "      <td>0.205096</td>\n",
       "      <td>0.666667</td>\n",
       "    </tr>\n",
       "    <tr>\n",
       "      <th>...</th>\n",
       "      <td>...</td>\n",
       "      <td>...</td>\n",
       "      <td>...</td>\n",
       "      <td>...</td>\n",
       "      <td>...</td>\n",
       "      <td>...</td>\n",
       "      <td>...</td>\n",
       "      <td>...</td>\n",
       "      <td>...</td>\n",
       "      <td>...</td>\n",
       "      <td>...</td>\n",
       "      <td>...</td>\n",
       "      <td>...</td>\n",
       "      <td>...</td>\n",
       "      <td>...</td>\n",
       "      <td>...</td>\n",
       "      <td>...</td>\n",
       "      <td>...</td>\n",
       "      <td>...</td>\n",
       "      <td>...</td>\n",
       "      <td>...</td>\n",
       "    </tr>\n",
       "    <tr>\n",
       "      <th>3714</th>\n",
       "      <td>0.333333</td>\n",
       "      <td>0.779139</td>\n",
       "      <td>0.0</td>\n",
       "      <td>0.428571</td>\n",
       "      <td>0.272727</td>\n",
       "      <td>0.001664</td>\n",
       "      <td>0.958764</td>\n",
       "      <td>1.000000</td>\n",
       "      <td>0.0</td>\n",
       "      <td>0.190476</td>\n",
       "      <td>...</td>\n",
       "      <td>0.000000</td>\n",
       "      <td>0.025421</td>\n",
       "      <td>1.000000</td>\n",
       "      <td>0.573669</td>\n",
       "      <td>0.0</td>\n",
       "      <td>0.115397</td>\n",
       "      <td>0.333333</td>\n",
       "      <td>0.995054</td>\n",
       "      <td>0.205096</td>\n",
       "      <td>0.333333</td>\n",
       "    </tr>\n",
       "    <tr>\n",
       "      <th>7409</th>\n",
       "      <td>0.333333</td>\n",
       "      <td>0.645782</td>\n",
       "      <td>1.0</td>\n",
       "      <td>0.428571</td>\n",
       "      <td>0.303030</td>\n",
       "      <td>0.002853</td>\n",
       "      <td>0.661476</td>\n",
       "      <td>0.802418</td>\n",
       "      <td>0.0</td>\n",
       "      <td>0.333333</td>\n",
       "      <td>...</td>\n",
       "      <td>0.666667</td>\n",
       "      <td>0.028278</td>\n",
       "      <td>0.897622</td>\n",
       "      <td>0.533974</td>\n",
       "      <td>0.5</td>\n",
       "      <td>0.117989</td>\n",
       "      <td>0.333333</td>\n",
       "      <td>0.994349</td>\n",
       "      <td>0.205732</td>\n",
       "      <td>0.333333</td>\n",
       "    </tr>\n",
       "    <tr>\n",
       "      <th>3325</th>\n",
       "      <td>0.333333</td>\n",
       "      <td>0.329323</td>\n",
       "      <td>1.0</td>\n",
       "      <td>0.428571</td>\n",
       "      <td>0.242424</td>\n",
       "      <td>0.001996</td>\n",
       "      <td>0.577698</td>\n",
       "      <td>1.000000</td>\n",
       "      <td>0.0</td>\n",
       "      <td>0.095238</td>\n",
       "      <td>...</td>\n",
       "      <td>0.000000</td>\n",
       "      <td>0.023136</td>\n",
       "      <td>1.000000</td>\n",
       "      <td>0.420053</td>\n",
       "      <td>0.0</td>\n",
       "      <td>0.123641</td>\n",
       "      <td>0.000000</td>\n",
       "      <td>0.994064</td>\n",
       "      <td>0.141401</td>\n",
       "      <td>0.000000</td>\n",
       "    </tr>\n",
       "    <tr>\n",
       "      <th>9606</th>\n",
       "      <td>0.333333</td>\n",
       "      <td>0.480808</td>\n",
       "      <td>0.0</td>\n",
       "      <td>0.428571</td>\n",
       "      <td>0.303030</td>\n",
       "      <td>0.001427</td>\n",
       "      <td>0.577698</td>\n",
       "      <td>0.705224</td>\n",
       "      <td>0.0</td>\n",
       "      <td>0.000000</td>\n",
       "      <td>...</td>\n",
       "      <td>0.000000</td>\n",
       "      <td>0.007426</td>\n",
       "      <td>0.928363</td>\n",
       "      <td>0.372361</td>\n",
       "      <td>0.0</td>\n",
       "      <td>0.097447</td>\n",
       "      <td>0.000000</td>\n",
       "      <td>0.995761</td>\n",
       "      <td>0.268790</td>\n",
       "      <td>0.000000</td>\n",
       "    </tr>\n",
       "    <tr>\n",
       "      <th>5787</th>\n",
       "      <td>0.333333</td>\n",
       "      <td>0.588420</td>\n",
       "      <td>1.0</td>\n",
       "      <td>0.285714</td>\n",
       "      <td>0.181818</td>\n",
       "      <td>0.003322</td>\n",
       "      <td>0.958764</td>\n",
       "      <td>0.676576</td>\n",
       "      <td>0.0</td>\n",
       "      <td>0.380952</td>\n",
       "      <td>...</td>\n",
       "      <td>0.000000</td>\n",
       "      <td>0.014567</td>\n",
       "      <td>1.000000</td>\n",
       "      <td>0.533831</td>\n",
       "      <td>0.0</td>\n",
       "      <td>0.131214</td>\n",
       "      <td>0.000000</td>\n",
       "      <td>0.993401</td>\n",
       "      <td>0.071338</td>\n",
       "      <td>0.000000</td>\n",
       "    </tr>\n",
       "  </tbody>\n",
       "</table>\n",
       "<p>9008 rows × 28 columns</p>\n",
       "</div>"
      ],
      "text/plain": [
       "       A付款方式标签  大区+街道平均值特征  装修标签        客厅     房+卫+厅       卫/总  大区英文平均值特征  \\\n",
       "5936  0.333333    0.384665   1.0  0.285714  0.181818  0.003322   0.958764   \n",
       "7821  0.333333    0.266218   1.0  0.285714  0.212121  0.002494   0.353712   \n",
       "855   0.333333    0.480808   1.0  0.142857  0.151515  0.004975   0.577698   \n",
       "5731  0.333333    0.329323   1.0  0.428571  0.333333  0.002497   0.577698   \n",
       "6154  0.333333    0.562284   1.0  0.428571  0.272727  0.001664   0.681667   \n",
       "...        ...         ...   ...       ...       ...       ...        ...   \n",
       "3714  0.333333    0.779139   0.0  0.428571  0.272727  0.001664   0.958764   \n",
       "7409  0.333333    0.645782   1.0  0.428571  0.303030  0.002853   0.661476   \n",
       "3325  0.333333    0.329323   1.0  0.428571  0.242424  0.001996   0.577698   \n",
       "9606  0.333333    0.480808   0.0  0.428571  0.303030  0.001427   0.577698   \n",
       "5787  0.333333    0.588420   1.0  0.285714  0.181818  0.003322   0.958764   \n",
       "\n",
       "      房屋配置聚类平均值特征2  B付款方式标签      A地铁线  ...     燃气_标签   面积(平方米)  房屋便利聚类平均值特征5  \\\n",
       "5936      0.676576      0.0  0.095238  ...  0.000000  0.013710      1.000000   \n",
       "7821      0.676576      0.0  0.190476  ...  0.000000  0.021422      1.000000   \n",
       "855       0.676576      0.0  0.476190  ...  0.000000  0.008855      1.000000   \n",
       "5731      0.802418      0.0  0.095238  ...  0.000000  0.053128      1.000000   \n",
       "6154      0.705224      0.0  0.000000  ...  0.000000  0.014567      0.897622   \n",
       "...            ...      ...       ...  ...       ...       ...           ...   \n",
       "3714      1.000000      0.0  0.190476  ...  0.000000  0.025421      1.000000   \n",
       "7409      0.802418      0.0  0.333333  ...  0.666667  0.028278      0.897622   \n",
       "3325      1.000000      0.0  0.095238  ...  0.000000  0.023136      1.000000   \n",
       "9606      0.705224      0.0  0.000000  ...  0.000000  0.007426      0.928363   \n",
       "5787      0.676576      0.0  0.380952  ...  0.000000  0.014567      1.000000   \n",
       "\n",
       "        平均值特征1  电梯_标签      卧室面积     用水_标签       房/总        户型     用电_标签  \n",
       "5936  0.281238    0.0  0.128896  0.000000  0.993401  0.071338  0.000000  \n",
       "7821  0.338327    0.0  0.121312  0.000000  0.995049  0.135032  0.000000  \n",
       "855   0.453096    0.0  0.115761  0.000000  0.995037  0.064968  0.000000  \n",
       "5731  0.363760    0.0  0.128584  0.333333  0.995056  0.269427  0.333333  \n",
       "6154  0.423200    0.0  0.105545  0.666667  0.995054  0.205096  0.666667  \n",
       "...        ...    ...       ...       ...       ...       ...       ...  \n",
       "3714  0.573669    0.0  0.115397  0.333333  0.995054  0.205096  0.333333  \n",
       "7409  0.533974    0.5  0.117989  0.333333  0.994349  0.205732  0.333333  \n",
       "3325  0.420053    0.0  0.123641  0.000000  0.994064  0.141401  0.000000  \n",
       "9606  0.372361    0.0  0.097447  0.000000  0.995761  0.268790  0.000000  \n",
       "5787  0.533831    0.0  0.131214  0.000000  0.993401  0.071338  0.000000  \n",
       "\n",
       "[9008 rows x 28 columns]"
      ]
     },
     "execution_count": 16,
     "metadata": {},
     "output_type": "execute_result"
    }
   ],
   "source": [
    "x_train"
   ]
  },
  {
   "cell_type": "code",
   "execution_count": 17,
   "id": "f45bf616",
   "metadata": {
    "ExecuteTime": {
     "end_time": "2024-03-29T09:25:55.200886Z",
     "start_time": "2024-03-29T09:25:55.188884Z"
    }
   },
   "outputs": [
    {
     "data": {
      "text/plain": [
       "(9008, 28)"
      ]
     },
     "execution_count": 17,
     "metadata": {},
     "output_type": "execute_result"
    }
   ],
   "source": [
    "x_train.shape"
   ]
  },
  {
   "cell_type": "code",
   "execution_count": 18,
   "id": "a1871b47",
   "metadata": {
    "ExecuteTime": {
     "end_time": "2024-03-29T09:25:55.216884Z",
     "start_time": "2024-03-29T09:25:55.202884Z"
    }
   },
   "outputs": [],
   "source": [
    "# #4.降维----线性回归和svm可以采用降维后的特征\n",
    "# pca=PCA(0.98)\n",
    "# pca_x_train=pca.fit_transform(x_train.toarray())\n",
    "# pca_x_test=pca.transform(x_test.toarray())"
   ]
  },
  {
   "cell_type": "code",
   "execution_count": 19,
   "id": "c9e24324",
   "metadata": {
    "ExecuteTime": {
     "end_time": "2024-03-29T09:25:55.231884Z",
     "start_time": "2024-03-29T09:25:55.218883Z"
    }
   },
   "outputs": [],
   "source": [
    "pca_x_train=x_train\n",
    "pca_x_test=x_test"
   ]
  },
  {
   "cell_type": "code",
   "execution_count": 20,
   "id": "7bcf8b77",
   "metadata": {
    "ExecuteTime": {
     "end_time": "2024-03-29T09:25:55.247884Z",
     "start_time": "2024-03-29T09:25:55.232884Z"
    }
   },
   "outputs": [
    {
     "data": {
      "text/plain": [
       "(9008, 28)"
      ]
     },
     "execution_count": 20,
     "metadata": {},
     "output_type": "execute_result"
    }
   ],
   "source": [
    "pca_x_train.shape"
   ]
  },
  {
   "cell_type": "code",
   "execution_count": 21,
   "id": "66f545c9",
   "metadata": {
    "ExecuteTime": {
     "end_time": "2024-03-29T09:25:55.263887Z",
     "start_time": "2024-03-29T09:25:55.248884Z"
    }
   },
   "outputs": [],
   "source": [
    "# #5.特征标准化\n",
    "# trans=StandardScaler()\n",
    "# new_x_train=trans.fit_transform(pca_x_train)\n",
    "# new_x_test=trans.transform(pca_x_test)"
   ]
  },
  {
   "cell_type": "code",
   "execution_count": 22,
   "id": "81e24d2e",
   "metadata": {
    "ExecuteTime": {
     "end_time": "2024-03-29T09:25:55.279890Z",
     "start_time": "2024-03-29T09:25:55.264883Z"
    }
   },
   "outputs": [],
   "source": [
    "new_x_train=pca_x_train"
   ]
  },
  {
   "cell_type": "code",
   "execution_count": 23,
   "id": "adfb6cbc",
   "metadata": {
    "ExecuteTime": {
     "end_time": "2024-03-29T09:25:55.295884Z",
     "start_time": "2024-03-29T09:25:55.282885Z"
    }
   },
   "outputs": [],
   "source": [
    "new_x_test=pca_x_test"
   ]
  },
  {
   "cell_type": "code",
   "execution_count": 24,
   "id": "38e34632",
   "metadata": {
    "ExecuteTime": {
     "end_time": "2024-03-29T09:25:55.327884Z",
     "start_time": "2024-03-29T09:25:55.296884Z"
    }
   },
   "outputs": [
    {
     "data": {
      "text/html": [
       "<div>\n",
       "<style scoped>\n",
       "    .dataframe tbody tr th:only-of-type {\n",
       "        vertical-align: middle;\n",
       "    }\n",
       "\n",
       "    .dataframe tbody tr th {\n",
       "        vertical-align: top;\n",
       "    }\n",
       "\n",
       "    .dataframe thead th {\n",
       "        text-align: right;\n",
       "    }\n",
       "</style>\n",
       "<table border=\"1\" class=\"dataframe\">\n",
       "  <thead>\n",
       "    <tr style=\"text-align: right;\">\n",
       "      <th></th>\n",
       "      <th>A付款方式标签</th>\n",
       "      <th>大区+街道平均值特征</th>\n",
       "      <th>装修标签</th>\n",
       "      <th>客厅</th>\n",
       "      <th>房+卫+厅</th>\n",
       "      <th>卫/总</th>\n",
       "      <th>大区英文平均值特征</th>\n",
       "      <th>房屋配置聚类平均值特征2</th>\n",
       "      <th>B付款方式标签</th>\n",
       "      <th>A地铁线</th>\n",
       "      <th>...</th>\n",
       "      <th>燃气_标签</th>\n",
       "      <th>面积(平方米)</th>\n",
       "      <th>房屋便利聚类平均值特征5</th>\n",
       "      <th>平均值特征1</th>\n",
       "      <th>电梯_标签</th>\n",
       "      <th>卧室面积</th>\n",
       "      <th>用水_标签</th>\n",
       "      <th>房/总</th>\n",
       "      <th>户型</th>\n",
       "      <th>用电_标签</th>\n",
       "    </tr>\n",
       "  </thead>\n",
       "  <tbody>\n",
       "    <tr>\n",
       "      <th>5936</th>\n",
       "      <td>0.333333</td>\n",
       "      <td>0.384665</td>\n",
       "      <td>1.0</td>\n",
       "      <td>0.285714</td>\n",
       "      <td>0.181818</td>\n",
       "      <td>0.003322</td>\n",
       "      <td>0.958764</td>\n",
       "      <td>0.676576</td>\n",
       "      <td>0.0</td>\n",
       "      <td>0.095238</td>\n",
       "      <td>...</td>\n",
       "      <td>0.000000</td>\n",
       "      <td>0.013710</td>\n",
       "      <td>1.000000</td>\n",
       "      <td>0.281238</td>\n",
       "      <td>0.0</td>\n",
       "      <td>0.128896</td>\n",
       "      <td>0.000000</td>\n",
       "      <td>0.993401</td>\n",
       "      <td>0.071338</td>\n",
       "      <td>0.000000</td>\n",
       "    </tr>\n",
       "    <tr>\n",
       "      <th>7821</th>\n",
       "      <td>0.333333</td>\n",
       "      <td>0.266218</td>\n",
       "      <td>1.0</td>\n",
       "      <td>0.285714</td>\n",
       "      <td>0.212121</td>\n",
       "      <td>0.002494</td>\n",
       "      <td>0.353712</td>\n",
       "      <td>0.676576</td>\n",
       "      <td>0.0</td>\n",
       "      <td>0.190476</td>\n",
       "      <td>...</td>\n",
       "      <td>0.000000</td>\n",
       "      <td>0.021422</td>\n",
       "      <td>1.000000</td>\n",
       "      <td>0.338327</td>\n",
       "      <td>0.0</td>\n",
       "      <td>0.121312</td>\n",
       "      <td>0.000000</td>\n",
       "      <td>0.995049</td>\n",
       "      <td>0.135032</td>\n",
       "      <td>0.000000</td>\n",
       "    </tr>\n",
       "    <tr>\n",
       "      <th>855</th>\n",
       "      <td>0.333333</td>\n",
       "      <td>0.480808</td>\n",
       "      <td>1.0</td>\n",
       "      <td>0.142857</td>\n",
       "      <td>0.151515</td>\n",
       "      <td>0.004975</td>\n",
       "      <td>0.577698</td>\n",
       "      <td>0.676576</td>\n",
       "      <td>0.0</td>\n",
       "      <td>0.476190</td>\n",
       "      <td>...</td>\n",
       "      <td>0.000000</td>\n",
       "      <td>0.008855</td>\n",
       "      <td>1.000000</td>\n",
       "      <td>0.453096</td>\n",
       "      <td>0.0</td>\n",
       "      <td>0.115761</td>\n",
       "      <td>0.000000</td>\n",
       "      <td>0.995037</td>\n",
       "      <td>0.064968</td>\n",
       "      <td>0.000000</td>\n",
       "    </tr>\n",
       "    <tr>\n",
       "      <th>5731</th>\n",
       "      <td>0.333333</td>\n",
       "      <td>0.329323</td>\n",
       "      <td>1.0</td>\n",
       "      <td>0.428571</td>\n",
       "      <td>0.333333</td>\n",
       "      <td>0.002497</td>\n",
       "      <td>0.577698</td>\n",
       "      <td>0.802418</td>\n",
       "      <td>0.0</td>\n",
       "      <td>0.095238</td>\n",
       "      <td>...</td>\n",
       "      <td>0.000000</td>\n",
       "      <td>0.053128</td>\n",
       "      <td>1.000000</td>\n",
       "      <td>0.363760</td>\n",
       "      <td>0.0</td>\n",
       "      <td>0.128584</td>\n",
       "      <td>0.333333</td>\n",
       "      <td>0.995056</td>\n",
       "      <td>0.269427</td>\n",
       "      <td>0.333333</td>\n",
       "    </tr>\n",
       "    <tr>\n",
       "      <th>6154</th>\n",
       "      <td>0.333333</td>\n",
       "      <td>0.562284</td>\n",
       "      <td>1.0</td>\n",
       "      <td>0.428571</td>\n",
       "      <td>0.272727</td>\n",
       "      <td>0.001664</td>\n",
       "      <td>0.681667</td>\n",
       "      <td>0.705224</td>\n",
       "      <td>0.0</td>\n",
       "      <td>0.000000</td>\n",
       "      <td>...</td>\n",
       "      <td>0.000000</td>\n",
       "      <td>0.014567</td>\n",
       "      <td>0.897622</td>\n",
       "      <td>0.423200</td>\n",
       "      <td>0.0</td>\n",
       "      <td>0.105545</td>\n",
       "      <td>0.666667</td>\n",
       "      <td>0.995054</td>\n",
       "      <td>0.205096</td>\n",
       "      <td>0.666667</td>\n",
       "    </tr>\n",
       "    <tr>\n",
       "      <th>...</th>\n",
       "      <td>...</td>\n",
       "      <td>...</td>\n",
       "      <td>...</td>\n",
       "      <td>...</td>\n",
       "      <td>...</td>\n",
       "      <td>...</td>\n",
       "      <td>...</td>\n",
       "      <td>...</td>\n",
       "      <td>...</td>\n",
       "      <td>...</td>\n",
       "      <td>...</td>\n",
       "      <td>...</td>\n",
       "      <td>...</td>\n",
       "      <td>...</td>\n",
       "      <td>...</td>\n",
       "      <td>...</td>\n",
       "      <td>...</td>\n",
       "      <td>...</td>\n",
       "      <td>...</td>\n",
       "      <td>...</td>\n",
       "      <td>...</td>\n",
       "    </tr>\n",
       "    <tr>\n",
       "      <th>3714</th>\n",
       "      <td>0.333333</td>\n",
       "      <td>0.779139</td>\n",
       "      <td>0.0</td>\n",
       "      <td>0.428571</td>\n",
       "      <td>0.272727</td>\n",
       "      <td>0.001664</td>\n",
       "      <td>0.958764</td>\n",
       "      <td>1.000000</td>\n",
       "      <td>0.0</td>\n",
       "      <td>0.190476</td>\n",
       "      <td>...</td>\n",
       "      <td>0.000000</td>\n",
       "      <td>0.025421</td>\n",
       "      <td>1.000000</td>\n",
       "      <td>0.573669</td>\n",
       "      <td>0.0</td>\n",
       "      <td>0.115397</td>\n",
       "      <td>0.333333</td>\n",
       "      <td>0.995054</td>\n",
       "      <td>0.205096</td>\n",
       "      <td>0.333333</td>\n",
       "    </tr>\n",
       "    <tr>\n",
       "      <th>7409</th>\n",
       "      <td>0.333333</td>\n",
       "      <td>0.645782</td>\n",
       "      <td>1.0</td>\n",
       "      <td>0.428571</td>\n",
       "      <td>0.303030</td>\n",
       "      <td>0.002853</td>\n",
       "      <td>0.661476</td>\n",
       "      <td>0.802418</td>\n",
       "      <td>0.0</td>\n",
       "      <td>0.333333</td>\n",
       "      <td>...</td>\n",
       "      <td>0.666667</td>\n",
       "      <td>0.028278</td>\n",
       "      <td>0.897622</td>\n",
       "      <td>0.533974</td>\n",
       "      <td>0.5</td>\n",
       "      <td>0.117989</td>\n",
       "      <td>0.333333</td>\n",
       "      <td>0.994349</td>\n",
       "      <td>0.205732</td>\n",
       "      <td>0.333333</td>\n",
       "    </tr>\n",
       "    <tr>\n",
       "      <th>3325</th>\n",
       "      <td>0.333333</td>\n",
       "      <td>0.329323</td>\n",
       "      <td>1.0</td>\n",
       "      <td>0.428571</td>\n",
       "      <td>0.242424</td>\n",
       "      <td>0.001996</td>\n",
       "      <td>0.577698</td>\n",
       "      <td>1.000000</td>\n",
       "      <td>0.0</td>\n",
       "      <td>0.095238</td>\n",
       "      <td>...</td>\n",
       "      <td>0.000000</td>\n",
       "      <td>0.023136</td>\n",
       "      <td>1.000000</td>\n",
       "      <td>0.420053</td>\n",
       "      <td>0.0</td>\n",
       "      <td>0.123641</td>\n",
       "      <td>0.000000</td>\n",
       "      <td>0.994064</td>\n",
       "      <td>0.141401</td>\n",
       "      <td>0.000000</td>\n",
       "    </tr>\n",
       "    <tr>\n",
       "      <th>9606</th>\n",
       "      <td>0.333333</td>\n",
       "      <td>0.480808</td>\n",
       "      <td>0.0</td>\n",
       "      <td>0.428571</td>\n",
       "      <td>0.303030</td>\n",
       "      <td>0.001427</td>\n",
       "      <td>0.577698</td>\n",
       "      <td>0.705224</td>\n",
       "      <td>0.0</td>\n",
       "      <td>0.000000</td>\n",
       "      <td>...</td>\n",
       "      <td>0.000000</td>\n",
       "      <td>0.007426</td>\n",
       "      <td>0.928363</td>\n",
       "      <td>0.372361</td>\n",
       "      <td>0.0</td>\n",
       "      <td>0.097447</td>\n",
       "      <td>0.000000</td>\n",
       "      <td>0.995761</td>\n",
       "      <td>0.268790</td>\n",
       "      <td>0.000000</td>\n",
       "    </tr>\n",
       "    <tr>\n",
       "      <th>5787</th>\n",
       "      <td>0.333333</td>\n",
       "      <td>0.588420</td>\n",
       "      <td>1.0</td>\n",
       "      <td>0.285714</td>\n",
       "      <td>0.181818</td>\n",
       "      <td>0.003322</td>\n",
       "      <td>0.958764</td>\n",
       "      <td>0.676576</td>\n",
       "      <td>0.0</td>\n",
       "      <td>0.380952</td>\n",
       "      <td>...</td>\n",
       "      <td>0.000000</td>\n",
       "      <td>0.014567</td>\n",
       "      <td>1.000000</td>\n",
       "      <td>0.533831</td>\n",
       "      <td>0.0</td>\n",
       "      <td>0.131214</td>\n",
       "      <td>0.000000</td>\n",
       "      <td>0.993401</td>\n",
       "      <td>0.071338</td>\n",
       "      <td>0.000000</td>\n",
       "    </tr>\n",
       "  </tbody>\n",
       "</table>\n",
       "<p>9008 rows × 28 columns</p>\n",
       "</div>"
      ],
      "text/plain": [
       "       A付款方式标签  大区+街道平均值特征  装修标签        客厅     房+卫+厅       卫/总  大区英文平均值特征  \\\n",
       "5936  0.333333    0.384665   1.0  0.285714  0.181818  0.003322   0.958764   \n",
       "7821  0.333333    0.266218   1.0  0.285714  0.212121  0.002494   0.353712   \n",
       "855   0.333333    0.480808   1.0  0.142857  0.151515  0.004975   0.577698   \n",
       "5731  0.333333    0.329323   1.0  0.428571  0.333333  0.002497   0.577698   \n",
       "6154  0.333333    0.562284   1.0  0.428571  0.272727  0.001664   0.681667   \n",
       "...        ...         ...   ...       ...       ...       ...        ...   \n",
       "3714  0.333333    0.779139   0.0  0.428571  0.272727  0.001664   0.958764   \n",
       "7409  0.333333    0.645782   1.0  0.428571  0.303030  0.002853   0.661476   \n",
       "3325  0.333333    0.329323   1.0  0.428571  0.242424  0.001996   0.577698   \n",
       "9606  0.333333    0.480808   0.0  0.428571  0.303030  0.001427   0.577698   \n",
       "5787  0.333333    0.588420   1.0  0.285714  0.181818  0.003322   0.958764   \n",
       "\n",
       "      房屋配置聚类平均值特征2  B付款方式标签      A地铁线  ...     燃气_标签   面积(平方米)  房屋便利聚类平均值特征5  \\\n",
       "5936      0.676576      0.0  0.095238  ...  0.000000  0.013710      1.000000   \n",
       "7821      0.676576      0.0  0.190476  ...  0.000000  0.021422      1.000000   \n",
       "855       0.676576      0.0  0.476190  ...  0.000000  0.008855      1.000000   \n",
       "5731      0.802418      0.0  0.095238  ...  0.000000  0.053128      1.000000   \n",
       "6154      0.705224      0.0  0.000000  ...  0.000000  0.014567      0.897622   \n",
       "...            ...      ...       ...  ...       ...       ...           ...   \n",
       "3714      1.000000      0.0  0.190476  ...  0.000000  0.025421      1.000000   \n",
       "7409      0.802418      0.0  0.333333  ...  0.666667  0.028278      0.897622   \n",
       "3325      1.000000      0.0  0.095238  ...  0.000000  0.023136      1.000000   \n",
       "9606      0.705224      0.0  0.000000  ...  0.000000  0.007426      0.928363   \n",
       "5787      0.676576      0.0  0.380952  ...  0.000000  0.014567      1.000000   \n",
       "\n",
       "        平均值特征1  电梯_标签      卧室面积     用水_标签       房/总        户型     用电_标签  \n",
       "5936  0.281238    0.0  0.128896  0.000000  0.993401  0.071338  0.000000  \n",
       "7821  0.338327    0.0  0.121312  0.000000  0.995049  0.135032  0.000000  \n",
       "855   0.453096    0.0  0.115761  0.000000  0.995037  0.064968  0.000000  \n",
       "5731  0.363760    0.0  0.128584  0.333333  0.995056  0.269427  0.333333  \n",
       "6154  0.423200    0.0  0.105545  0.666667  0.995054  0.205096  0.666667  \n",
       "...        ...    ...       ...       ...       ...       ...       ...  \n",
       "3714  0.573669    0.0  0.115397  0.333333  0.995054  0.205096  0.333333  \n",
       "7409  0.533974    0.5  0.117989  0.333333  0.994349  0.205732  0.333333  \n",
       "3325  0.420053    0.0  0.123641  0.000000  0.994064  0.141401  0.000000  \n",
       "9606  0.372361    0.0  0.097447  0.000000  0.995761  0.268790  0.000000  \n",
       "5787  0.533831    0.0  0.131214  0.000000  0.993401  0.071338  0.000000  \n",
       "\n",
       "[9008 rows x 28 columns]"
      ]
     },
     "execution_count": 24,
     "metadata": {},
     "output_type": "execute_result"
    }
   ],
   "source": [
    "new_x_train"
   ]
  },
  {
   "cell_type": "code",
   "execution_count": 25,
   "id": "ad131e81",
   "metadata": {
    "ExecuteTime": {
     "end_time": "2024-03-29T09:25:55.343976Z",
     "start_time": "2024-03-29T09:25:55.328884Z"
    }
   },
   "outputs": [
    {
     "data": {
      "text/plain": [
       "(9008, 28)"
      ]
     },
     "execution_count": 25,
     "metadata": {},
     "output_type": "execute_result"
    }
   ],
   "source": [
    "new_x_train.shape"
   ]
  },
  {
   "cell_type": "code",
   "execution_count": 26,
   "id": "6e95009e",
   "metadata": {
    "ExecuteTime": {
     "end_time": "2024-03-29T09:25:55.359496Z",
     "start_time": "2024-03-29T09:25:55.345496Z"
    }
   },
   "outputs": [],
   "source": [
    "# def rmse(y_true,y_pred):\n",
    "#     y_pred=np.exp(y_pred)-1#转换成真实的租金\n",
    "#     y_true=np.exp(y_true)-1\n",
    "#     return np.sqrt(mean_squared_error(y_true,y_pred))"
   ]
  },
  {
   "cell_type": "markdown",
   "id": "92ff203c",
   "metadata": {},
   "source": [
    "# MODEL"
   ]
  },
  {
   "cell_type": "code",
   "execution_count": 27,
   "id": "5a742abb",
   "metadata": {
    "ExecuteTime": {
     "end_time": "2024-03-29T09:25:55.374497Z",
     "start_time": "2024-03-29T09:25:55.364499Z"
    }
   },
   "outputs": [],
   "source": [
    "from sklearn.model_selection import GridSearchCV\n",
    "from sklearn.linear_model import Ridge\n",
    "from sklearn.metrics import mean_squared_error, r2_score"
   ]
  },
  {
   "cell_type": "code",
   "execution_count": 28,
   "id": "3ed1d8b2",
   "metadata": {
    "ExecuteTime": {
     "end_time": "2024-03-29T09:25:55.390498Z",
     "start_time": "2024-03-29T09:25:55.376496Z"
    }
   },
   "outputs": [],
   "source": [
    "# 构建子模型"
   ]
  },
  {
   "cell_type": "markdown",
   "id": "8eeb4abb",
   "metadata": {
    "ExecuteTime": {
     "end_time": "2024-03-25T09:45:02.305703Z",
     "start_time": "2024-03-25T09:45:02.298698Z"
    }
   },
   "source": [
    "## 构建岭回归模型"
   ]
  },
  {
   "cell_type": "code",
   "execution_count": 29,
   "id": "bc786e8b",
   "metadata": {
    "ExecuteTime": {
     "end_time": "2024-03-29T09:25:58.569240Z",
     "start_time": "2024-03-29T09:25:55.391498Z"
    }
   },
   "outputs": [
    {
     "data": {
      "text/plain": [
       "{'alpha': 1}"
      ]
     },
     "execution_count": 29,
     "metadata": {},
     "output_type": "execute_result"
    }
   ],
   "source": [
    "#1.参数搜索\n",
    "ridge=Ridge(solver='svd')\n",
    "params={\n",
    "    \"alpha\":[0.005,0.01,1,5,10,20,50,80,100,150,200,300,500,800,900,1000]\n",
    "\n",
    "}\n",
    "model1=GridSearchCV(ridge,param_grid=params,cv=5,n_jobs=-1)\n",
    "model1.fit(new_x_train,train_y)\n",
    "model1.best_params_   \n",
    "#{'alpha': 500, 'fit_intercept': True}"
   ]
  },
  {
   "cell_type": "code",
   "execution_count": 30,
   "id": "26670663",
   "metadata": {
    "ExecuteTime": {
     "end_time": "2024-03-29T09:25:58.601239Z",
     "start_time": "2024-03-29T09:25:58.570239Z"
    }
   },
   "outputs": [
    {
     "data": {
      "text/html": [
       "<style>#sk-container-id-1 {color: black;background-color: white;}#sk-container-id-1 pre{padding: 0;}#sk-container-id-1 div.sk-toggleable {background-color: white;}#sk-container-id-1 label.sk-toggleable__label {cursor: pointer;display: block;width: 100%;margin-bottom: 0;padding: 0.3em;box-sizing: border-box;text-align: center;}#sk-container-id-1 label.sk-toggleable__label-arrow:before {content: \"▸\";float: left;margin-right: 0.25em;color: #696969;}#sk-container-id-1 label.sk-toggleable__label-arrow:hover:before {color: black;}#sk-container-id-1 div.sk-estimator:hover label.sk-toggleable__label-arrow:before {color: black;}#sk-container-id-1 div.sk-toggleable__content {max-height: 0;max-width: 0;overflow: hidden;text-align: left;background-color: #f0f8ff;}#sk-container-id-1 div.sk-toggleable__content pre {margin: 0.2em;color: black;border-radius: 0.25em;background-color: #f0f8ff;}#sk-container-id-1 input.sk-toggleable__control:checked~div.sk-toggleable__content {max-height: 200px;max-width: 100%;overflow: auto;}#sk-container-id-1 input.sk-toggleable__control:checked~label.sk-toggleable__label-arrow:before {content: \"▾\";}#sk-container-id-1 div.sk-estimator input.sk-toggleable__control:checked~label.sk-toggleable__label {background-color: #d4ebff;}#sk-container-id-1 div.sk-label input.sk-toggleable__control:checked~label.sk-toggleable__label {background-color: #d4ebff;}#sk-container-id-1 input.sk-hidden--visually {border: 0;clip: rect(1px 1px 1px 1px);clip: rect(1px, 1px, 1px, 1px);height: 1px;margin: -1px;overflow: hidden;padding: 0;position: absolute;width: 1px;}#sk-container-id-1 div.sk-estimator {font-family: monospace;background-color: #f0f8ff;border: 1px dotted black;border-radius: 0.25em;box-sizing: border-box;margin-bottom: 0.5em;}#sk-container-id-1 div.sk-estimator:hover {background-color: #d4ebff;}#sk-container-id-1 div.sk-parallel-item::after {content: \"\";width: 100%;border-bottom: 1px solid gray;flex-grow: 1;}#sk-container-id-1 div.sk-label:hover label.sk-toggleable__label {background-color: #d4ebff;}#sk-container-id-1 div.sk-serial::before {content: \"\";position: absolute;border-left: 1px solid gray;box-sizing: border-box;top: 0;bottom: 0;left: 50%;z-index: 0;}#sk-container-id-1 div.sk-serial {display: flex;flex-direction: column;align-items: center;background-color: white;padding-right: 0.2em;padding-left: 0.2em;position: relative;}#sk-container-id-1 div.sk-item {position: relative;z-index: 1;}#sk-container-id-1 div.sk-parallel {display: flex;align-items: stretch;justify-content: center;background-color: white;position: relative;}#sk-container-id-1 div.sk-item::before, #sk-container-id-1 div.sk-parallel-item::before {content: \"\";position: absolute;border-left: 1px solid gray;box-sizing: border-box;top: 0;bottom: 0;left: 50%;z-index: -1;}#sk-container-id-1 div.sk-parallel-item {display: flex;flex-direction: column;z-index: 1;position: relative;background-color: white;}#sk-container-id-1 div.sk-parallel-item:first-child::after {align-self: flex-end;width: 50%;}#sk-container-id-1 div.sk-parallel-item:last-child::after {align-self: flex-start;width: 50%;}#sk-container-id-1 div.sk-parallel-item:only-child::after {width: 0;}#sk-container-id-1 div.sk-dashed-wrapped {border: 1px dashed gray;margin: 0 0.4em 0.5em 0.4em;box-sizing: border-box;padding-bottom: 0.4em;background-color: white;}#sk-container-id-1 div.sk-label label {font-family: monospace;font-weight: bold;display: inline-block;line-height: 1.2em;}#sk-container-id-1 div.sk-label-container {text-align: center;}#sk-container-id-1 div.sk-container {/* jupyter's `normalize.less` sets `[hidden] { display: none; }` but bootstrap.min.css set `[hidden] { display: none !important; }` so we also need the `!important` here to be able to override the default hidden behavior on the sphinx rendered scikit-learn.org. See: https://github.com/scikit-learn/scikit-learn/issues/21755 */display: inline-block !important;position: relative;}#sk-container-id-1 div.sk-text-repr-fallback {display: none;}</style><div id=\"sk-container-id-1\" class=\"sk-top-container\"><div class=\"sk-text-repr-fallback\"><pre>Ridge(alpha=500, solver=&#x27;svd&#x27;)</pre><b>In a Jupyter environment, please rerun this cell to show the HTML representation or trust the notebook. <br />On GitHub, the HTML representation is unable to render, please try loading this page with nbviewer.org.</b></div><div class=\"sk-container\" hidden><div class=\"sk-item\"><div class=\"sk-estimator sk-toggleable\"><input class=\"sk-toggleable__control sk-hidden--visually\" id=\"sk-estimator-id-1\" type=\"checkbox\" checked><label for=\"sk-estimator-id-1\" class=\"sk-toggleable__label sk-toggleable__label-arrow\">Ridge</label><div class=\"sk-toggleable__content\"><pre>Ridge(alpha=500, solver=&#x27;svd&#x27;)</pre></div></div></div></div></div>"
      ],
      "text/plain": [
       "Ridge(alpha=500, solver='svd')"
      ]
     },
     "execution_count": 30,
     "metadata": {},
     "output_type": "execute_result"
    }
   ],
   "source": [
    "#利用搜索出的最优参数构建模型\n",
    "ridge=Ridge(solver='svd',alpha=500)\n",
    "ridge.fit(new_x_train,train_y)"
   ]
  },
  {
   "cell_type": "code",
   "execution_count": 31,
   "id": "225e16c4",
   "metadata": {
    "ExecuteTime": {
     "end_time": "2024-03-29T09:25:58.617240Z",
     "start_time": "2024-03-29T09:25:58.602240Z"
    }
   },
   "outputs": [
    {
     "name": "stdout",
     "output_type": "stream",
     "text": [
      "训练集RMSE: 0.2050646586594792\n",
      "测试集RMSE: 0.20384141275188578\n",
      "训练集R2: 0.21940781374130325\n",
      "测试集R2: 0.21644601214905435\n"
     ]
    }
   ],
   "source": [
    "y_pred_test=ridge.predict(new_x_test)\n",
    "y_pred_train=ridge.predict(new_x_train)\n",
    "print(\"训练集RMSE:\", mean_squared_error(train_y, y_pred_train, squared=False))\n",
    "print(\"测试集RMSE:\", mean_squared_error(test_y, y_pred_test, squared=False))\n",
    "print(\"训练集R2:\", r2_score(train_y, y_pred_train))\n",
    "print(\"测试集R2:\", r2_score(test_y, y_pred_test))"
   ]
  },
  {
   "cell_type": "code",
   "execution_count": 32,
   "id": "04a5dcf6",
   "metadata": {
    "ExecuteTime": {
     "end_time": "2024-03-29T09:25:58.633239Z",
     "start_time": "2024-03-29T09:25:58.618240Z"
    }
   },
   "outputs": [
    {
     "name": "stdout",
     "output_type": "stream",
     "text": [
      "训练集rmse： 0.04205151423112872\n",
      "测试集rmse： 0.04155132155268466\n"
     ]
    }
   ],
   "source": [
    "#信500\n",
    "y_pred_test=ridge.predict(new_x_test)\n",
    "y_pred_train=ridge.predict(new_x_train)\n",
    "print(\"训练集rmse：\",mean_squared_error(train_y,y_pred_train))\n",
    "print(\"测试集rmse：\",mean_squared_error(test_y,y_pred_test))"
   ]
  },
  {
   "cell_type": "markdown",
   "id": "2bc4327b",
   "metadata": {
    "ExecuteTime": {
     "end_time": "2024-03-25T09:46:08.500867Z",
     "start_time": "2024-03-25T09:46:08.490806Z"
    }
   },
   "source": [
    "## 构建lasso回归"
   ]
  },
  {
   "cell_type": "code",
   "execution_count": 33,
   "id": "34f303c0",
   "metadata": {
    "ExecuteTime": {
     "end_time": "2024-03-29T09:25:59.217733Z",
     "start_time": "2024-03-29T09:25:58.634240Z"
    }
   },
   "outputs": [
    {
     "data": {
      "text/plain": [
       "{'alpha': 0.001, 'fit_intercept': True}"
      ]
     },
     "execution_count": 33,
     "metadata": {},
     "output_type": "execute_result"
    }
   ],
   "source": [
    "#1.参数搜索\n",
    "lasso=Lasso()\n",
    "params={\n",
    "    \"alpha\":[0.001,0.01,0.05,0.1,0.5,1,5,10],\n",
    "    \"fit_intercept\":[True,False] \n",
    "}\n",
    "model2=GridSearchCV(lasso,param_grid=params,cv=5,n_jobs=-1)\n",
    "model2.fit(new_x_train,train_y)\n",
    "model2.best_params_\n",
    "#{'alpha': 0.001, 'fit_intercept': True}"
   ]
  },
  {
   "cell_type": "code",
   "execution_count": 34,
   "id": "0f6132da",
   "metadata": {
    "ExecuteTime": {
     "end_time": "2024-03-29T09:25:59.233737Z",
     "start_time": "2024-03-29T09:25:59.219729Z"
    }
   },
   "outputs": [
    {
     "data": {
      "text/html": [
       "<style>#sk-container-id-2 {color: black;background-color: white;}#sk-container-id-2 pre{padding: 0;}#sk-container-id-2 div.sk-toggleable {background-color: white;}#sk-container-id-2 label.sk-toggleable__label {cursor: pointer;display: block;width: 100%;margin-bottom: 0;padding: 0.3em;box-sizing: border-box;text-align: center;}#sk-container-id-2 label.sk-toggleable__label-arrow:before {content: \"▸\";float: left;margin-right: 0.25em;color: #696969;}#sk-container-id-2 label.sk-toggleable__label-arrow:hover:before {color: black;}#sk-container-id-2 div.sk-estimator:hover label.sk-toggleable__label-arrow:before {color: black;}#sk-container-id-2 div.sk-toggleable__content {max-height: 0;max-width: 0;overflow: hidden;text-align: left;background-color: #f0f8ff;}#sk-container-id-2 div.sk-toggleable__content pre {margin: 0.2em;color: black;border-radius: 0.25em;background-color: #f0f8ff;}#sk-container-id-2 input.sk-toggleable__control:checked~div.sk-toggleable__content {max-height: 200px;max-width: 100%;overflow: auto;}#sk-container-id-2 input.sk-toggleable__control:checked~label.sk-toggleable__label-arrow:before {content: \"▾\";}#sk-container-id-2 div.sk-estimator input.sk-toggleable__control:checked~label.sk-toggleable__label {background-color: #d4ebff;}#sk-container-id-2 div.sk-label input.sk-toggleable__control:checked~label.sk-toggleable__label {background-color: #d4ebff;}#sk-container-id-2 input.sk-hidden--visually {border: 0;clip: rect(1px 1px 1px 1px);clip: rect(1px, 1px, 1px, 1px);height: 1px;margin: -1px;overflow: hidden;padding: 0;position: absolute;width: 1px;}#sk-container-id-2 div.sk-estimator {font-family: monospace;background-color: #f0f8ff;border: 1px dotted black;border-radius: 0.25em;box-sizing: border-box;margin-bottom: 0.5em;}#sk-container-id-2 div.sk-estimator:hover {background-color: #d4ebff;}#sk-container-id-2 div.sk-parallel-item::after {content: \"\";width: 100%;border-bottom: 1px solid gray;flex-grow: 1;}#sk-container-id-2 div.sk-label:hover label.sk-toggleable__label {background-color: #d4ebff;}#sk-container-id-2 div.sk-serial::before {content: \"\";position: absolute;border-left: 1px solid gray;box-sizing: border-box;top: 0;bottom: 0;left: 50%;z-index: 0;}#sk-container-id-2 div.sk-serial {display: flex;flex-direction: column;align-items: center;background-color: white;padding-right: 0.2em;padding-left: 0.2em;position: relative;}#sk-container-id-2 div.sk-item {position: relative;z-index: 1;}#sk-container-id-2 div.sk-parallel {display: flex;align-items: stretch;justify-content: center;background-color: white;position: relative;}#sk-container-id-2 div.sk-item::before, #sk-container-id-2 div.sk-parallel-item::before {content: \"\";position: absolute;border-left: 1px solid gray;box-sizing: border-box;top: 0;bottom: 0;left: 50%;z-index: -1;}#sk-container-id-2 div.sk-parallel-item {display: flex;flex-direction: column;z-index: 1;position: relative;background-color: white;}#sk-container-id-2 div.sk-parallel-item:first-child::after {align-self: flex-end;width: 50%;}#sk-container-id-2 div.sk-parallel-item:last-child::after {align-self: flex-start;width: 50%;}#sk-container-id-2 div.sk-parallel-item:only-child::after {width: 0;}#sk-container-id-2 div.sk-dashed-wrapped {border: 1px dashed gray;margin: 0 0.4em 0.5em 0.4em;box-sizing: border-box;padding-bottom: 0.4em;background-color: white;}#sk-container-id-2 div.sk-label label {font-family: monospace;font-weight: bold;display: inline-block;line-height: 1.2em;}#sk-container-id-2 div.sk-label-container {text-align: center;}#sk-container-id-2 div.sk-container {/* jupyter's `normalize.less` sets `[hidden] { display: none; }` but bootstrap.min.css set `[hidden] { display: none !important; }` so we also need the `!important` here to be able to override the default hidden behavior on the sphinx rendered scikit-learn.org. See: https://github.com/scikit-learn/scikit-learn/issues/21755 */display: inline-block !important;position: relative;}#sk-container-id-2 div.sk-text-repr-fallback {display: none;}</style><div id=\"sk-container-id-2\" class=\"sk-top-container\"><div class=\"sk-text-repr-fallback\"><pre>Lasso()</pre><b>In a Jupyter environment, please rerun this cell to show the HTML representation or trust the notebook. <br />On GitHub, the HTML representation is unable to render, please try loading this page with nbviewer.org.</b></div><div class=\"sk-container\" hidden><div class=\"sk-item\"><div class=\"sk-estimator sk-toggleable\"><input class=\"sk-toggleable__control sk-hidden--visually\" id=\"sk-estimator-id-2\" type=\"checkbox\" checked><label for=\"sk-estimator-id-2\" class=\"sk-toggleable__label sk-toggleable__label-arrow\">Lasso</label><div class=\"sk-toggleable__content\"><pre>Lasso()</pre></div></div></div></div></div>"
      ],
      "text/plain": [
       "Lasso()"
      ]
     },
     "execution_count": 34,
     "metadata": {},
     "output_type": "execute_result"
    }
   ],
   "source": [
    "#利用搜索出的最优参数构建模型\n",
    "lasso=Lasso()\n",
    "lasso.fit(new_x_train,train_y)"
   ]
  },
  {
   "cell_type": "code",
   "execution_count": 35,
   "id": "ed5a1f91",
   "metadata": {
    "ExecuteTime": {
     "end_time": "2024-03-29T09:25:59.249734Z",
     "start_time": "2024-03-29T09:25:59.234729Z"
    }
   },
   "outputs": [
    {
     "name": "stdout",
     "output_type": "stream",
     "text": [
      "训练集rmse： 0.05387129793429983\n",
      "测试集rmse： 0.05304391771139186\n"
     ]
    }
   ],
   "source": [
    "y_pred_test=lasso.predict(new_x_test)\n",
    "y_pred_train=lasso.predict(new_x_train)\n",
    "print(\"训练集rmse：\",mean_squared_error(train_y,y_pred_train))\n",
    "print(\"测试集rmse：\",mean_squared_error(test_y,y_pred_test))"
   ]
  },
  {
   "cell_type": "code",
   "execution_count": 36,
   "id": "0518d949",
   "metadata": {
    "ExecuteTime": {
     "end_time": "2024-03-29T09:25:59.265730Z",
     "start_time": "2024-03-29T09:25:59.250730Z"
    }
   },
   "outputs": [
    {
     "name": "stdout",
     "output_type": "stream",
     "text": [
      "训练集rmse： 0.05387129793429983\n",
      "测试集rmse： 0.05304391771139186\n",
      "训练集R2: 0.0\n",
      "测试集R2: -0.0002756037807201128\n"
     ]
    }
   ],
   "source": [
    "y_pred_test=lasso.predict(new_x_test)\n",
    "y_pred_train=lasso.predict(new_x_train)\n",
    "print(\"训练集rmse：\",mean_squared_error(train_y,y_pred_train))\n",
    "print(\"测试集rmse：\",mean_squared_error(test_y,y_pred_test))\n",
    "print(\"训练集R2:\", r2_score(train_y, y_pred_train))\n",
    "print(\"测试集R2:\", r2_score(test_y, y_pred_test))"
   ]
  },
  {
   "cell_type": "code",
   "execution_count": null,
   "id": "8fce8093",
   "metadata": {},
   "outputs": [],
   "source": []
  },
  {
   "cell_type": "code",
   "execution_count": null,
   "id": "e4806921",
   "metadata": {},
   "outputs": [],
   "source": []
  },
  {
   "cell_type": "code",
   "execution_count": null,
   "id": "030c34a4",
   "metadata": {},
   "outputs": [],
   "source": []
  },
  {
   "cell_type": "code",
   "execution_count": null,
   "id": "974f9bc5",
   "metadata": {},
   "outputs": [],
   "source": []
  },
  {
   "cell_type": "markdown",
   "id": "43fcf830",
   "metadata": {
    "ExecuteTime": {
     "end_time": "2024-03-25T09:46:25.901984Z",
     "start_time": "2024-03-25T09:46:25.892984Z"
    }
   },
   "source": [
    "## 构建随机森林"
   ]
  },
  {
   "cell_type": "code",
   "execution_count": 37,
   "id": "ab2ff690",
   "metadata": {
    "ExecuteTime": {
     "end_time": "2024-03-29T09:25:59.281730Z",
     "start_time": "2024-03-29T09:25:59.267730Z"
    }
   },
   "outputs": [],
   "source": [
    "# #1.参数搜索 \n",
    "# rf=RandomForestRegressor(max_features='sqrt')#设置max_features='sqrt'，不然太耗时间\n",
    "# params = {\n",
    "#     \"n_estimators\": [100, 200, 300],  # 决策树数量\n",
    "#     \"max_depth\": [10, 20, 30, 50],  # 决策树最大深度\n",
    "#     \"min_samples_split\": [20, 30, 50],  # 内部节点再划分所需的最小样本数\n",
    "#     \"min_samples_leaf\": [10, 20, 30],  # 叶节点上的最小样本数\n",
    "# #     \"max_features\": [\"auto\", \"sqrt\", \"log2\"],  # 划分时考虑的最大特征数\n",
    "    \n",
    "#     \"random_state\": [42]  # 随机种子\n",
    "# }\n",
    "# model3=GridSearchCV(rf,param_grid=params,cv=5,n_jobs=-1,verbose=2)\n",
    "# model3.fit(x_train,train_y)\n",
    "# model3.best_params_\n",
    "# # {'max_depth': 30,\n",
    "# #  'min_samples_leaf': 10,\n",
    "# #  'min_samples_split': 20,\n",
    "# #  'n_estimators': 300,\n",
    "# #  'random_state': 42}"
   ]
  },
  {
   "cell_type": "code",
   "execution_count": 38,
   "id": "069c5ab5",
   "metadata": {
    "ExecuteTime": {
     "end_time": "2024-03-29T09:26:00.074806Z",
     "start_time": "2024-03-29T09:25:59.283730Z"
    }
   },
   "outputs": [
    {
     "data": {
      "text/html": [
       "<style>#sk-container-id-3 {color: black;background-color: white;}#sk-container-id-3 pre{padding: 0;}#sk-container-id-3 div.sk-toggleable {background-color: white;}#sk-container-id-3 label.sk-toggleable__label {cursor: pointer;display: block;width: 100%;margin-bottom: 0;padding: 0.3em;box-sizing: border-box;text-align: center;}#sk-container-id-3 label.sk-toggleable__label-arrow:before {content: \"▸\";float: left;margin-right: 0.25em;color: #696969;}#sk-container-id-3 label.sk-toggleable__label-arrow:hover:before {color: black;}#sk-container-id-3 div.sk-estimator:hover label.sk-toggleable__label-arrow:before {color: black;}#sk-container-id-3 div.sk-toggleable__content {max-height: 0;max-width: 0;overflow: hidden;text-align: left;background-color: #f0f8ff;}#sk-container-id-3 div.sk-toggleable__content pre {margin: 0.2em;color: black;border-radius: 0.25em;background-color: #f0f8ff;}#sk-container-id-3 input.sk-toggleable__control:checked~div.sk-toggleable__content {max-height: 200px;max-width: 100%;overflow: auto;}#sk-container-id-3 input.sk-toggleable__control:checked~label.sk-toggleable__label-arrow:before {content: \"▾\";}#sk-container-id-3 div.sk-estimator input.sk-toggleable__control:checked~label.sk-toggleable__label {background-color: #d4ebff;}#sk-container-id-3 div.sk-label input.sk-toggleable__control:checked~label.sk-toggleable__label {background-color: #d4ebff;}#sk-container-id-3 input.sk-hidden--visually {border: 0;clip: rect(1px 1px 1px 1px);clip: rect(1px, 1px, 1px, 1px);height: 1px;margin: -1px;overflow: hidden;padding: 0;position: absolute;width: 1px;}#sk-container-id-3 div.sk-estimator {font-family: monospace;background-color: #f0f8ff;border: 1px dotted black;border-radius: 0.25em;box-sizing: border-box;margin-bottom: 0.5em;}#sk-container-id-3 div.sk-estimator:hover {background-color: #d4ebff;}#sk-container-id-3 div.sk-parallel-item::after {content: \"\";width: 100%;border-bottom: 1px solid gray;flex-grow: 1;}#sk-container-id-3 div.sk-label:hover label.sk-toggleable__label {background-color: #d4ebff;}#sk-container-id-3 div.sk-serial::before {content: \"\";position: absolute;border-left: 1px solid gray;box-sizing: border-box;top: 0;bottom: 0;left: 50%;z-index: 0;}#sk-container-id-3 div.sk-serial {display: flex;flex-direction: column;align-items: center;background-color: white;padding-right: 0.2em;padding-left: 0.2em;position: relative;}#sk-container-id-3 div.sk-item {position: relative;z-index: 1;}#sk-container-id-3 div.sk-parallel {display: flex;align-items: stretch;justify-content: center;background-color: white;position: relative;}#sk-container-id-3 div.sk-item::before, #sk-container-id-3 div.sk-parallel-item::before {content: \"\";position: absolute;border-left: 1px solid gray;box-sizing: border-box;top: 0;bottom: 0;left: 50%;z-index: -1;}#sk-container-id-3 div.sk-parallel-item {display: flex;flex-direction: column;z-index: 1;position: relative;background-color: white;}#sk-container-id-3 div.sk-parallel-item:first-child::after {align-self: flex-end;width: 50%;}#sk-container-id-3 div.sk-parallel-item:last-child::after {align-self: flex-start;width: 50%;}#sk-container-id-3 div.sk-parallel-item:only-child::after {width: 0;}#sk-container-id-3 div.sk-dashed-wrapped {border: 1px dashed gray;margin: 0 0.4em 0.5em 0.4em;box-sizing: border-box;padding-bottom: 0.4em;background-color: white;}#sk-container-id-3 div.sk-label label {font-family: monospace;font-weight: bold;display: inline-block;line-height: 1.2em;}#sk-container-id-3 div.sk-label-container {text-align: center;}#sk-container-id-3 div.sk-container {/* jupyter's `normalize.less` sets `[hidden] { display: none; }` but bootstrap.min.css set `[hidden] { display: none !important; }` so we also need the `!important` here to be able to override the default hidden behavior on the sphinx rendered scikit-learn.org. See: https://github.com/scikit-learn/scikit-learn/issues/21755 */display: inline-block !important;position: relative;}#sk-container-id-3 div.sk-text-repr-fallback {display: none;}</style><div id=\"sk-container-id-3\" class=\"sk-top-container\"><div class=\"sk-text-repr-fallback\"><pre>RandomForestRegressor(max_depth=10, max_features=&#x27;sqrt&#x27;, min_samples_leaf=10,\n",
       "                      min_samples_split=20, n_estimators=150, random_state=42)</pre><b>In a Jupyter environment, please rerun this cell to show the HTML representation or trust the notebook. <br />On GitHub, the HTML representation is unable to render, please try loading this page with nbviewer.org.</b></div><div class=\"sk-container\" hidden><div class=\"sk-item\"><div class=\"sk-estimator sk-toggleable\"><input class=\"sk-toggleable__control sk-hidden--visually\" id=\"sk-estimator-id-3\" type=\"checkbox\" checked><label for=\"sk-estimator-id-3\" class=\"sk-toggleable__label sk-toggleable__label-arrow\">RandomForestRegressor</label><div class=\"sk-toggleable__content\"><pre>RandomForestRegressor(max_depth=10, max_features=&#x27;sqrt&#x27;, min_samples_leaf=10,\n",
       "                      min_samples_split=20, n_estimators=150, random_state=42)</pre></div></div></div></div></div>"
      ],
      "text/plain": [
       "RandomForestRegressor(max_depth=10, max_features='sqrt', min_samples_leaf=10,\n",
       "                      min_samples_split=20, n_estimators=150, random_state=42)"
      ]
     },
     "execution_count": 38,
     "metadata": {},
     "output_type": "execute_result"
    }
   ],
   "source": [
    "#利用搜索出的最优参数构建模型\n",
    "rf=RandomForestRegressor(random_state=42,n_estimators=150,max_depth=10,min_samples_leaf=10,min_samples_split=20,max_features='sqrt')\n",
    "rf.fit(x_train,train_y)"
   ]
  },
  {
   "cell_type": "code",
   "execution_count": 39,
   "id": "cdadae0e",
   "metadata": {
    "ExecuteTime": {
     "end_time": "2024-03-29T09:26:00.232806Z",
     "start_time": "2024-03-29T09:26:00.076803Z"
    }
   },
   "outputs": [
    {
     "name": "stdout",
     "output_type": "stream",
     "text": [
      "训练集rmse： 0.021060602318384213\n",
      "测试集rmse： 0.023940142733258563\n",
      "训练集R2: 0.6090570837170244\n",
      "测试集R2: 0.5485487920142075\n"
     ]
    }
   ],
   "source": [
    "y_pred_test=rf.predict(x_test)\n",
    "y_pred_train=rf.predict(x_train)\n",
    "print(\"训练集rmse：\",mean_squared_error(train_y,y_pred_train))\n",
    "print(\"测试集rmse：\",mean_squared_error(test_y,y_pred_test))\n",
    "print(\"训练集R2:\", r2_score(train_y, y_pred_train))\n",
    "print(\"测试集R2:\", r2_score(test_y, y_pred_test))"
   ]
  },
  {
   "cell_type": "code",
   "execution_count": 40,
   "id": "d8d441c2",
   "metadata": {
    "ExecuteTime": {
     "end_time": "2024-03-29T09:26:00.248807Z",
     "start_time": "2024-03-29T09:26:00.233802Z"
    }
   },
   "outputs": [
    {
     "data": {
      "text/plain": [
       "array([0.44691629, 0.37388364, 0.38257955, ..., 0.56965352, 0.29980802,\n",
       "       0.52978533])"
      ]
     },
     "execution_count": 40,
     "metadata": {},
     "output_type": "execute_result"
    }
   ],
   "source": [
    "y_pred_train"
   ]
  },
  {
   "cell_type": "code",
   "execution_count": 41,
   "id": "0bac7fd2",
   "metadata": {
    "ExecuteTime": {
     "end_time": "2024-03-29T09:26:00.264804Z",
     "start_time": "2024-03-29T09:26:00.249802Z"
    }
   },
   "outputs": [
    {
     "data": {
      "text/plain": [
       "array([0.46869762, 0.42546432, 0.29704477, ..., 0.55020719, 0.39086299,\n",
       "       0.4074952 ])"
      ]
     },
     "execution_count": 41,
     "metadata": {},
     "output_type": "execute_result"
    }
   ],
   "source": [
    "y_pred_test"
   ]
  },
  {
   "cell_type": "code",
   "execution_count": 42,
   "id": "fbc4ab82",
   "metadata": {
    "ExecuteTime": {
     "end_time": "2024-03-29T09:26:00.422617Z",
     "start_time": "2024-03-29T09:26:00.265804Z"
    }
   },
   "outputs": [
    {
     "name": "stdout",
     "output_type": "stream",
     "text": [
      "训练集rmse： 0.021060602318384213\n",
      "测试集rmse： 0.023940142733258563\n"
     ]
    }
   ],
   "source": [
    "#新数据\n",
    "y_pred_test=rf.predict(x_test)\n",
    "y_pred_train=rf.predict(x_train)\n",
    "print(\"训练集rmse：\",mean_squared_error(train_y,y_pred_train))\n",
    "print(\"测试集rmse：\",mean_squared_error(test_y,y_pred_test))"
   ]
  },
  {
   "cell_type": "markdown",
   "id": "c2e1a394",
   "metadata": {
    "ExecuteTime": {
     "end_time": "2024-03-25T09:49:21.750769Z",
     "start_time": "2024-03-25T09:49:21.736763Z"
    }
   },
   "source": [
    "## 构建决策树"
   ]
  },
  {
   "cell_type": "code",
   "execution_count": 43,
   "id": "07ea9fcf",
   "metadata": {
    "ExecuteTime": {
     "end_time": "2024-03-29T09:26:00.438623Z",
     "start_time": "2024-03-29T09:26:00.424622Z"
    }
   },
   "outputs": [],
   "source": [
    "# from sklearn.tree import DecisionTreeRegressor\n",
    "# tree=DecisionTreeRegressor()\n",
    "# params = {\n",
    "#     \"max_depth\": [40, 50, 60, 70],\n",
    "#     \"min_samples_split\": [5, 10, 20, 30, 40, 50],\n",
    "#     \"min_samples_leaf\": [2, 3, 5, 7, 9, 11, 13, 15, 18, 20, 22, 24, 26, 28],\n",
    "# }\n",
    "\n",
    "# model4=GridSearchCV(tree,param_grid=params,cv=5,n_jobs=-1)\n",
    "# model4.fit(x_train,train_y)\n",
    "# model4.best_params_\n",
    "# # {'max_depth': 70, 'min_samples_leaf': 20, 'min_samples_split': 30}"
   ]
  },
  {
   "cell_type": "code",
   "execution_count": 44,
   "id": "d1ad66a7",
   "metadata": {
    "ExecuteTime": {
     "end_time": "2024-03-29T09:26:00.486626Z",
     "start_time": "2024-03-29T09:26:00.440623Z"
    }
   },
   "outputs": [
    {
     "data": {
      "text/html": [
       "<style>#sk-container-id-4 {color: black;background-color: white;}#sk-container-id-4 pre{padding: 0;}#sk-container-id-4 div.sk-toggleable {background-color: white;}#sk-container-id-4 label.sk-toggleable__label {cursor: pointer;display: block;width: 100%;margin-bottom: 0;padding: 0.3em;box-sizing: border-box;text-align: center;}#sk-container-id-4 label.sk-toggleable__label-arrow:before {content: \"▸\";float: left;margin-right: 0.25em;color: #696969;}#sk-container-id-4 label.sk-toggleable__label-arrow:hover:before {color: black;}#sk-container-id-4 div.sk-estimator:hover label.sk-toggleable__label-arrow:before {color: black;}#sk-container-id-4 div.sk-toggleable__content {max-height: 0;max-width: 0;overflow: hidden;text-align: left;background-color: #f0f8ff;}#sk-container-id-4 div.sk-toggleable__content pre {margin: 0.2em;color: black;border-radius: 0.25em;background-color: #f0f8ff;}#sk-container-id-4 input.sk-toggleable__control:checked~div.sk-toggleable__content {max-height: 200px;max-width: 100%;overflow: auto;}#sk-container-id-4 input.sk-toggleable__control:checked~label.sk-toggleable__label-arrow:before {content: \"▾\";}#sk-container-id-4 div.sk-estimator input.sk-toggleable__control:checked~label.sk-toggleable__label {background-color: #d4ebff;}#sk-container-id-4 div.sk-label input.sk-toggleable__control:checked~label.sk-toggleable__label {background-color: #d4ebff;}#sk-container-id-4 input.sk-hidden--visually {border: 0;clip: rect(1px 1px 1px 1px);clip: rect(1px, 1px, 1px, 1px);height: 1px;margin: -1px;overflow: hidden;padding: 0;position: absolute;width: 1px;}#sk-container-id-4 div.sk-estimator {font-family: monospace;background-color: #f0f8ff;border: 1px dotted black;border-radius: 0.25em;box-sizing: border-box;margin-bottom: 0.5em;}#sk-container-id-4 div.sk-estimator:hover {background-color: #d4ebff;}#sk-container-id-4 div.sk-parallel-item::after {content: \"\";width: 100%;border-bottom: 1px solid gray;flex-grow: 1;}#sk-container-id-4 div.sk-label:hover label.sk-toggleable__label {background-color: #d4ebff;}#sk-container-id-4 div.sk-serial::before {content: \"\";position: absolute;border-left: 1px solid gray;box-sizing: border-box;top: 0;bottom: 0;left: 50%;z-index: 0;}#sk-container-id-4 div.sk-serial {display: flex;flex-direction: column;align-items: center;background-color: white;padding-right: 0.2em;padding-left: 0.2em;position: relative;}#sk-container-id-4 div.sk-item {position: relative;z-index: 1;}#sk-container-id-4 div.sk-parallel {display: flex;align-items: stretch;justify-content: center;background-color: white;position: relative;}#sk-container-id-4 div.sk-item::before, #sk-container-id-4 div.sk-parallel-item::before {content: \"\";position: absolute;border-left: 1px solid gray;box-sizing: border-box;top: 0;bottom: 0;left: 50%;z-index: -1;}#sk-container-id-4 div.sk-parallel-item {display: flex;flex-direction: column;z-index: 1;position: relative;background-color: white;}#sk-container-id-4 div.sk-parallel-item:first-child::after {align-self: flex-end;width: 50%;}#sk-container-id-4 div.sk-parallel-item:last-child::after {align-self: flex-start;width: 50%;}#sk-container-id-4 div.sk-parallel-item:only-child::after {width: 0;}#sk-container-id-4 div.sk-dashed-wrapped {border: 1px dashed gray;margin: 0 0.4em 0.5em 0.4em;box-sizing: border-box;padding-bottom: 0.4em;background-color: white;}#sk-container-id-4 div.sk-label label {font-family: monospace;font-weight: bold;display: inline-block;line-height: 1.2em;}#sk-container-id-4 div.sk-label-container {text-align: center;}#sk-container-id-4 div.sk-container {/* jupyter's `normalize.less` sets `[hidden] { display: none; }` but bootstrap.min.css set `[hidden] { display: none !important; }` so we also need the `!important` here to be able to override the default hidden behavior on the sphinx rendered scikit-learn.org. See: https://github.com/scikit-learn/scikit-learn/issues/21755 */display: inline-block !important;position: relative;}#sk-container-id-4 div.sk-text-repr-fallback {display: none;}</style><div id=\"sk-container-id-4\" class=\"sk-top-container\"><div class=\"sk-text-repr-fallback\"><pre>DecisionTreeRegressor(max_depth=10, min_samples_leaf=20, min_samples_split=30,\n",
       "                      random_state=42)</pre><b>In a Jupyter environment, please rerun this cell to show the HTML representation or trust the notebook. <br />On GitHub, the HTML representation is unable to render, please try loading this page with nbviewer.org.</b></div><div class=\"sk-container\" hidden><div class=\"sk-item\"><div class=\"sk-estimator sk-toggleable\"><input class=\"sk-toggleable__control sk-hidden--visually\" id=\"sk-estimator-id-4\" type=\"checkbox\" checked><label for=\"sk-estimator-id-4\" class=\"sk-toggleable__label sk-toggleable__label-arrow\">DecisionTreeRegressor</label><div class=\"sk-toggleable__content\"><pre>DecisionTreeRegressor(max_depth=10, min_samples_leaf=20, min_samples_split=30,\n",
       "                      random_state=42)</pre></div></div></div></div></div>"
      ],
      "text/plain": [
       "DecisionTreeRegressor(max_depth=10, min_samples_leaf=20, min_samples_split=30,\n",
       "                      random_state=42)"
      ]
     },
     "execution_count": 44,
     "metadata": {},
     "output_type": "execute_result"
    }
   ],
   "source": [
    "from sklearn.tree import DecisionTreeRegressor\n",
    "#利用搜索出的最优参数构建模型\n",
    "tree=DecisionTreeRegressor(random_state=42,max_depth=10,min_samples_leaf=20,min_samples_split=30)\n",
    "tree.fit(x_train,train_y)"
   ]
  },
  {
   "cell_type": "code",
   "execution_count": 45,
   "id": "028266d5",
   "metadata": {
    "ExecuteTime": {
     "end_time": "2024-03-29T09:26:00.502626Z",
     "start_time": "2024-03-29T09:26:00.488622Z"
    }
   },
   "outputs": [],
   "source": [
    "# y_pred_test=tree.predict(x_test)\n",
    "# y_pred_train=tree.predict(x_train)\n",
    "# print(\"训练集rmse：\",mean_squared_error(train_y,y_pred_train))\n",
    "# print(\"测试集rmse：\",mean_squared_error(test_y,y_pred_test))"
   ]
  },
  {
   "cell_type": "code",
   "execution_count": 46,
   "id": "291450a4",
   "metadata": {
    "ExecuteTime": {
     "end_time": "2024-03-29T09:26:00.518626Z",
     "start_time": "2024-03-29T09:26:00.503627Z"
    }
   },
   "outputs": [
    {
     "name": "stdout",
     "output_type": "stream",
     "text": [
      "训练集rmse： 0.02054405839922896\n",
      "测试集rmse： 0.02608069776178817\n",
      "训练集R2: 0.6186455647628165\n",
      "测试集R2: 0.5081832785685731\n"
     ]
    }
   ],
   "source": [
    "#新\n",
    "y_pred_test=tree.predict(x_test)\n",
    "y_pred_train=tree.predict(x_train)\n",
    "print(\"训练集rmse：\",mean_squared_error(train_y,y_pred_train))\n",
    "print(\"测试集rmse：\",mean_squared_error(test_y,y_pred_test))\n",
    "print(\"训练集R2:\", r2_score(train_y, y_pred_train))\n",
    "print(\"测试集R2:\", r2_score(test_y, y_pred_test))"
   ]
  },
  {
   "cell_type": "code",
   "execution_count": 47,
   "id": "2a77af5a",
   "metadata": {
    "ExecuteTime": {
     "end_time": "2024-03-29T09:26:01.258026Z",
     "start_time": "2024-03-29T09:26:00.519627Z"
    },
    "scrolled": true
   },
   "outputs": [
    {
     "data": {
      "image/png": "[encoded data removed]",
      "text/plain": [
       "<Figure size 2000x2000 with 1 Axes>"
      ]
     },
     "metadata": {},
     "output_type": "display_data"
    }
   ],
   "source": [
    "import matplotlib.pyplot as plt\n",
    "plt.rcParams['font.sans-serif']=['SimHei']\n",
    "plt.rcParams['axes.unicode_minus']=False\n",
    "plt.figure(figsize=(20,20),dpi=100)\n",
    "plt.scatter(test_y,y_pred_test)\n",
    "plt.xlabel(\"真实值\")\n",
    "plt.ylabel(\"预测值\")\n",
    "plt.show()"
   ]
  },
  {
   "cell_type": "markdown",
   "id": "58024d03",
   "metadata": {
    "ExecuteTime": {
     "end_time": "2024-03-24T17:39:45.061873Z",
     "start_time": "2024-03-24T17:39:45.054869Z"
    }
   },
   "source": [
    "## 构建支持向量机"
   ]
  },
  {
   "cell_type": "code",
   "execution_count": 48,
   "id": "4f6cafaa",
   "metadata": {
    "ExecuteTime": {
     "end_time": "2024-03-29T09:26:01.273029Z",
     "start_time": "2024-03-29T09:26:01.259026Z"
    }
   },
   "outputs": [],
   "source": [
    "# #1.参数搜索----数据量大 svm太耗时，调参几乎不可能\n",
    "# svr=SVR()\n",
    "# params={\n",
    "#     \"gamma\":[0.001,0.01,0.1,0.5,1,5],\n",
    "#     \"C\":[0.001,0.1,0.5,1,5] \n",
    "# }\n",
    "# model5=GridSearchCV(svr,param_grid=params,cv=5,n_jobs=-1,verbose=10)\n",
    "# model5.fit(new_x_train,train_y)\n",
    "# model5.best_params_"
   ]
  },
  {
   "cell_type": "code",
   "execution_count": 51,
   "id": "b62af6a6",
   "metadata": {
    "ExecuteTime": {
     "end_time": "2024-03-29T09:28:02.557299Z",
     "start_time": "2024-03-29T09:27:59.934247Z"
    }
   },
   "outputs": [
    {
     "data": {
      "text/plain": [
       "0.032865052799219564"
      ]
     },
     "execution_count": 51,
     "metadata": {},
     "output_type": "execute_result"
    }
   ],
   "source": [
    "#随意选一组参数   --- 耗时太长 放弃该模型\n",
    "svr=SVR(gamma=0.1,C=0.5)\n",
    "svr.fit(new_x_train,train_y)\n",
    "y_pred=svr.predict(new_x_test)\n",
    "mean_squared_error(test_y,y_pred)"
   ]
  },
  {
   "cell_type": "markdown",
   "id": "4b64f3b9",
   "metadata": {
    "ExecuteTime": {
     "end_time": "2024-03-24T17:30:16.087490Z",
     "start_time": "2024-03-24T17:30:16.077155Z"
    }
   },
   "source": [
    "## 构建xgboost模型"
   ]
  },
  {
   "cell_type": "code",
   "execution_count": 52,
   "id": "4173535e",
   "metadata": {
    "ExecuteTime": {
     "end_time": "2024-03-29T09:28:02.604156Z",
     "start_time": "2024-03-29T09:28:02.559300Z"
    }
   },
   "outputs": [],
   "source": [
    "from xgboost import XGBRegressor"
   ]
  },
  {
   "cell_type": "code",
   "execution_count": 54,
   "id": "a6d895d3",
   "metadata": {
    "ExecuteTime": {
     "end_time": "2024-03-29T09:28:12.807180Z",
     "start_time": "2024-03-29T09:28:10.479851Z"
    },
    "code_folding": []
   },
   "outputs": [
    {
     "name": "stderr",
     "output_type": "stream",
     "text": [
      "C:\\Users\\Chc\\.conda\\envs\\tipdm\\lib\\site-packages\\xgboost\\core.py:160: UserWarning: [17:28:11] WARNING: C:\\buildkite-agent\\builds\\buildkite-windows-cpu-autoscaling-group-i-0cec3277c4d9d0165-1\\xgboost\\xgboost-ci-windows\\src\\objective\\regression_obj.cu:209: reg:linear is now deprecated in favor of reg:squarederror.\n",
      "  warnings.warn(smsg, UserWarning)\n",
      "C:\\Users\\Chc\\.conda\\envs\\tipdm\\lib\\site-packages\\xgboost\\core.py:160: UserWarning: [17:28:11] WARNING: C:\\buildkite-agent\\builds\\buildkite-windows-cpu-autoscaling-group-i-0cec3277c4d9d0165-1\\xgboost\\xgboost-ci-windows\\src\\learner.cc:742: \n",
      "Parameters: { \"silent\", \"sub_sample\" } are not used.\n",
      "\n",
      "  warnings.warn(smsg, UserWarning)\n"
     ]
    }
   ],
   "source": [
    "import xgboost as xgb\n",
    "params={\n",
    "    \"objective\":'reg:linear',\n",
    "    'eta':0.1,\n",
    "    'gamma': 0.05,\n",
    "    'silent': 1,\n",
    "    'max_depth':45, \n",
    "    'min_child_weight':0.5,\n",
    "    'sub_sample':0.6,\n",
    "    'reg_alpha':0.5,\n",
    "    'reg_lambda':0.8,\n",
    "    'colsample_bytree':0.5\n",
    "}\n",
    "dtrain = xgb.DMatrix(x_train,train_y)\n",
    "dtest = xgb.DMatrix(x_test,test_y)\n",
    "bst = xgb.train(params, dtrain, num_boost_round=2000)"
   ]
  },
  {
   "cell_type": "code",
   "execution_count": null,
   "id": "c5f0f66b",
   "metadata": {
    "ExecuteTime": {
     "end_time": "2024-03-29T09:26:04.505571Z",
     "start_time": "2024-03-29T09:26:04.505571Z"
    },
    "code_folding": []
   },
   "outputs": [],
   "source": [
    "import xgboost as xgb\n",
    "from sklearn.model_selection import GridSearchCV\n",
    "from xgboost import XGBRegressor\n",
    "\n",
    "# 定义参数列表\n",
    "params_grid = {\n",
    "    'objective': ['reg:linear'],  # 损失函数\n",
    "    'eta': [0.05, 0.1, 0.2],  # 学习率\n",
    "    'gamma': [0.05],\n",
    "    'max_depth': [45], \n",
    "    'min_child_weight': [0.5],\n",
    "    'sub_sample': [0.6],\n",
    "    'reg_alpha': [0.5],\n",
    "    'reg_lambda': [0.8],\n",
    "    'colsample_bytree': [0.5]\n",
    "}\n",
    "\n",
    "# 创建 XGBoost 回归模型\n",
    "xgb_model = XGBRegressor()\n",
    "\n",
    "# 使用 GridSearchCV 进行参数搜索\n",
    "xgb_grid_model = GridSearchCV(estimator=xgb_model, param_grid=params_grid, cv=5, n_jobs=-1)\n",
    "\n",
    "# 拟合模型\n",
    "xgb_grid_model.fit(x_train, train_y)\n",
    "\n",
    "# 输出最佳参数\n",
    "print(\"Best Parameters:\", xgb_grid_model.best_params_)\n"
   ]
  },
  {
   "cell_type": "code",
   "execution_count": null,
   "id": "3ebe744b",
   "metadata": {
    "ExecuteTime": {
     "end_time": "2024-03-29T09:26:04.506571Z",
     "start_time": "2024-03-29T09:26:04.506571Z"
    }
   },
   "outputs": [],
   "source": [
    "# Best Parameters: {'colsample_bytree': 0.5, 'eta': 0.05, 'gamma': 0.05, 'max_depth': 45, 'min_child_weight': 0.5, 'objective': 'reg:linear', 'reg_alpha': 0.5, 'reg_lambda': 0.8, 'sub_sample': 0.6}"
   ]
  },
  {
   "cell_type": "code",
   "execution_count": 55,
   "id": "7cb932ab",
   "metadata": {
    "ExecuteTime": {
     "end_time": "2024-03-29T09:28:14.321883Z",
     "start_time": "2024-03-29T09:28:12.809180Z"
    }
   },
   "outputs": [
    {
     "name": "stderr",
     "output_type": "stream",
     "text": [
      "C:\\Users\\Chc\\.conda\\envs\\tipdm\\lib\\site-packages\\xgboost\\core.py:160: UserWarning: [17:28:12] WARNING: C:\\buildkite-agent\\builds\\buildkite-windows-cpu-autoscaling-group-i-0cec3277c4d9d0165-1\\xgboost\\xgboost-ci-windows\\src\\objective\\regression_obj.cu:209: reg:linear is now deprecated in favor of reg:squarederror.\n",
      "  warnings.warn(smsg, UserWarning)\n",
      "C:\\Users\\Chc\\.conda\\envs\\tipdm\\lib\\site-packages\\xgboost\\core.py:160: UserWarning: [17:28:12] WARNING: C:\\buildkite-agent\\builds\\buildkite-windows-cpu-autoscaling-group-i-0cec3277c4d9d0165-1\\xgboost\\xgboost-ci-windows\\src\\learner.cc:742: \n",
      "Parameters: { \"silent\" } are not used.\n",
      "\n",
      "  warnings.warn(smsg, UserWarning)\n"
     ]
    }
   ],
   "source": [
    "# 使用最佳参数初始化 XGBoost 模型\n",
    "best_params ={\n",
    "        'max_depth': 5, \n",
    "        'eta': 0.01, \n",
    "        'verbosity': 1, \n",
    "        'objective': 'reg:linear',\n",
    "        'silent': 1,\n",
    "        'gamma': 0.01,\n",
    "        'min_child_weight': 1\n",
    "    }\n",
    "bst_model = xgb.train(params=best_params, dtrain=dtrain, num_boost_round=2000)\n",
    "\n"
   ]
  },
  {
   "cell_type": "code",
   "execution_count": 56,
   "id": "e87c6ce1",
   "metadata": {
    "ExecuteTime": {
     "end_time": "2024-03-29T09:28:15.051620Z",
     "start_time": "2024-03-29T09:28:14.997625Z"
    }
   },
   "outputs": [
    {
     "name": "stdout",
     "output_type": "stream",
     "text": [
      "训练集rmse： 0.015618196518583205\n",
      "测试集rmse： 0.02120948789722768\n",
      "训练集R2: 0.7100831589832717\n",
      "测试集R2: 0.6000421117514284\n"
     ]
    }
   ],
   "source": [
    "# 使用训练好的模型进行预测\n",
    "y_pred_train = bst_model.predict(dtrain)\n",
    "y_pred_test = bst_model.predict(dtest)\n",
    "print(\"训练集rmse：\",mean_squared_error(train_y,y_pred_train))\n",
    "print(\"测试集rmse：\",mean_squared_error(test_y,y_pred_test))\n",
    "print(\"训练集R2:\", r2_score(train_y, y_pred_train))\n",
    "print(\"测试集R2:\", r2_score(test_y, y_pred_test))"
   ]
  },
  {
   "cell_type": "code",
   "execution_count": null,
   "id": "23cda7d8",
   "metadata": {
    "ExecuteTime": {
     "end_time": "2024-03-29T09:26:04.508571Z",
     "start_time": "2024-03-29T09:26:04.508571Z"
    }
   },
   "outputs": [],
   "source": [
    "# y_pred_test=bst.predict(dtest)\n",
    "# y_pred_train=bst.predict(dtrain)\n",
    "# print(\"训练集rmse：\",rmse(train_y,y_pred_train))\n",
    "# print(\"测试集rmse：\",rmse(test_y,y_pred_test))"
   ]
  },
  {
   "cell_type": "code",
   "execution_count": null,
   "id": "a65fd1c6",
   "metadata": {
    "ExecuteTime": {
     "end_time": "2024-03-25T09:51:35.667146Z",
     "start_time": "2024-03-25T09:51:35.645151Z"
    }
   },
   "outputs": [],
   "source": []
  },
  {
   "cell_type": "code",
   "execution_count": null,
   "id": "d7bc8ce8",
   "metadata": {
    "ExecuteTime": {
     "end_time": "2024-03-29T09:26:04.509571Z",
     "start_time": "2024-03-29T09:26:04.509571Z"
    },
    "scrolled": true
   },
   "outputs": [],
   "source": [
    "import matplotlib.pyplot as plt\n",
    "plt.figure(figsize=(20,20),dpi=100)\n",
    "plt.scatter(test_y,y_pred_test)\n",
    "plt.xlabel(\"真实值\")\n",
    "plt.ylabel(\"预测值\")\n",
    "plt.show()"
   ]
  },
  {
   "cell_type": "markdown",
   "id": "d35235da",
   "metadata": {},
   "source": [
    "## 构建Gd梯度回归\n"
   ]
  },
  {
   "cell_type": "code",
   "execution_count": null,
   "id": "3d955b0f",
   "metadata": {
    "ExecuteTime": {
     "end_time": "2024-03-29T09:26:04.510570Z",
     "start_time": "2024-03-29T09:26:04.510570Z"
    }
   },
   "outputs": [],
   "source": [
    "from sklearn.ensemble import GradientBoostingRegressor"
   ]
  },
  {
   "cell_type": "code",
   "execution_count": null,
   "id": "dce6873b",
   "metadata": {
    "ExecuteTime": {
     "end_time": "2024-03-29T09:26:04.512571Z",
     "start_time": "2024-03-29T09:26:04.512571Z"
    }
   },
   "outputs": [],
   "source": [
    "# # 定义参数\n",
    "# params = {\n",
    "#     'learning_rate': [0.05, 0.1, 0.2],  # 学习率\n",
    "#     'n_estimators': [100, 200, 300],  # 决策树数量\n",
    "#     'max_depth': [3, 4, 5],  # 决策树最大深度\n",
    "#     'min_samples_split': [2, 5, 10],  # 内部节点再划分所需的最小样本数\n",
    "#     'min_samples_leaf': [1, 2, 4]  # 叶节点上的最小样本数\n",
    "# #     'subsample': [0.6, 0.7, 0.8],  # 子样本采样率\n",
    "# #     'alpha': [0.1, 0.5, 1.0],  # 正则化参数\n",
    "# #     'loss': ['ls'],  # 损失函数: least squares regression\n",
    "# #     'random_state': [42]  # 随机种子\n",
    "# }\n",
    "\n",
    "# # 创建梯度提升回归模型\n",
    "# gbr = GradientBoostingRegressor()\n",
    "# gb_model=GridSearchCV(gbr,param_grid=params,cv=5,n_jobs=-1)\n",
    "# # 拟合模型\n",
    "# gb_model.fit(x_train, train_y)\n",
    "# gb_model.best_params_\n"
   ]
  },
  {
   "cell_type": "code",
   "execution_count": null,
   "id": "9296f38d",
   "metadata": {
    "ExecuteTime": {
     "end_time": "2024-03-29T09:26:04.513570Z",
     "start_time": "2024-03-29T09:26:04.513570Z"
    }
   },
   "outputs": [],
   "source": [
    "# 'random_state': 42,\n",
    "#   'min_samples_split': 2,\n",
    "#   'min_samples_leaf': 2,\n",
    "#   'max_features': 'log2',\n",
    "#   'max_depth': 100},"
   ]
  },
  {
   "cell_type": "code",
   "execution_count": 57,
   "id": "a530ab5a",
   "metadata": {
    "ExecuteTime": {
     "end_time": "2024-03-29T09:29:07.868649Z",
     "start_time": "2024-03-29T09:28:26.124470Z"
    }
   },
   "outputs": [
    {
     "data": {
      "text/html": [
       "<style>#sk-container-id-5 {color: black;background-color: white;}#sk-container-id-5 pre{padding: 0;}#sk-container-id-5 div.sk-toggleable {background-color: white;}#sk-container-id-5 label.sk-toggleable__label {cursor: pointer;display: block;width: 100%;margin-bottom: 0;padding: 0.3em;box-sizing: border-box;text-align: center;}#sk-container-id-5 label.sk-toggleable__label-arrow:before {content: \"▸\";float: left;margin-right: 0.25em;color: #696969;}#sk-container-id-5 label.sk-toggleable__label-arrow:hover:before {color: black;}#sk-container-id-5 div.sk-estimator:hover label.sk-toggleable__label-arrow:before {color: black;}#sk-container-id-5 div.sk-toggleable__content {max-height: 0;max-width: 0;overflow: hidden;text-align: left;background-color: #f0f8ff;}#sk-container-id-5 div.sk-toggleable__content pre {margin: 0.2em;color: black;border-radius: 0.25em;background-color: #f0f8ff;}#sk-container-id-5 input.sk-toggleable__control:checked~div.sk-toggleable__content {max-height: 200px;max-width: 100%;overflow: auto;}#sk-container-id-5 input.sk-toggleable__control:checked~label.sk-toggleable__label-arrow:before {content: \"▾\";}#sk-container-id-5 div.sk-estimator input.sk-toggleable__control:checked~label.sk-toggleable__label {background-color: #d4ebff;}#sk-container-id-5 div.sk-label input.sk-toggleable__control:checked~label.sk-toggleable__label {background-color: #d4ebff;}#sk-container-id-5 input.sk-hidden--visually {border: 0;clip: rect(1px 1px 1px 1px);clip: rect(1px, 1px, 1px, 1px);height: 1px;margin: -1px;overflow: hidden;padding: 0;position: absolute;width: 1px;}#sk-container-id-5 div.sk-estimator {font-family: monospace;background-color: #f0f8ff;border: 1px dotted black;border-radius: 0.25em;box-sizing: border-box;margin-bottom: 0.5em;}#sk-container-id-5 div.sk-estimator:hover {background-color: #d4ebff;}#sk-container-id-5 div.sk-parallel-item::after {content: \"\";width: 100%;border-bottom: 1px solid gray;flex-grow: 1;}#sk-container-id-5 div.sk-label:hover label.sk-toggleable__label {background-color: #d4ebff;}#sk-container-id-5 div.sk-serial::before {content: \"\";position: absolute;border-left: 1px solid gray;box-sizing: border-box;top: 0;bottom: 0;left: 50%;z-index: 0;}#sk-container-id-5 div.sk-serial {display: flex;flex-direction: column;align-items: center;background-color: white;padding-right: 0.2em;padding-left: 0.2em;position: relative;}#sk-container-id-5 div.sk-item {position: relative;z-index: 1;}#sk-container-id-5 div.sk-parallel {display: flex;align-items: stretch;justify-content: center;background-color: white;position: relative;}#sk-container-id-5 div.sk-item::before, #sk-container-id-5 div.sk-parallel-item::before {content: \"\";position: absolute;border-left: 1px solid gray;box-sizing: border-box;top: 0;bottom: 0;left: 50%;z-index: -1;}#sk-container-id-5 div.sk-parallel-item {display: flex;flex-direction: column;z-index: 1;position: relative;background-color: white;}#sk-container-id-5 div.sk-parallel-item:first-child::after {align-self: flex-end;width: 50%;}#sk-container-id-5 div.sk-parallel-item:last-child::after {align-self: flex-start;width: 50%;}#sk-container-id-5 div.sk-parallel-item:only-child::after {width: 0;}#sk-container-id-5 div.sk-dashed-wrapped {border: 1px dashed gray;margin: 0 0.4em 0.5em 0.4em;box-sizing: border-box;padding-bottom: 0.4em;background-color: white;}#sk-container-id-5 div.sk-label label {font-family: monospace;font-weight: bold;display: inline-block;line-height: 1.2em;}#sk-container-id-5 div.sk-label-container {text-align: center;}#sk-container-id-5 div.sk-container {/* jupyter's `normalize.less` sets `[hidden] { display: none; }` but bootstrap.min.css set `[hidden] { display: none !important; }` so we also need the `!important` here to be able to override the default hidden behavior on the sphinx rendered scikit-learn.org. See: https://github.com/scikit-learn/scikit-learn/issues/21755 */display: inline-block !important;position: relative;}#sk-container-id-5 div.sk-text-repr-fallback {display: none;}</style><div id=\"sk-container-id-5\" class=\"sk-top-container\"><div class=\"sk-text-repr-fallback\"><pre>GradientBoostingRegressor(learning_rate=0.2, max_depth=100, min_samples_leaf=2,\n",
       "                          n_estimators=300, random_state=42)</pre><b>In a Jupyter environment, please rerun this cell to show the HTML representation or trust the notebook. <br />On GitHub, the HTML representation is unable to render, please try loading this page with nbviewer.org.</b></div><div class=\"sk-container\" hidden><div class=\"sk-item\"><div class=\"sk-estimator sk-toggleable\"><input class=\"sk-toggleable__control sk-hidden--visually\" id=\"sk-estimator-id-5\" type=\"checkbox\" checked><label for=\"sk-estimator-id-5\" class=\"sk-toggleable__label sk-toggleable__label-arrow\">GradientBoostingRegressor</label><div class=\"sk-toggleable__content\"><pre>GradientBoostingRegressor(learning_rate=0.2, max_depth=100, min_samples_leaf=2,\n",
       "                          n_estimators=300, random_state=42)</pre></div></div></div></div></div>"
      ],
      "text/plain": [
       "GradientBoostingRegressor(learning_rate=0.2, max_depth=100, min_samples_leaf=2,\n",
       "                          n_estimators=300, random_state=42)"
      ]
     },
     "execution_count": 57,
     "metadata": {},
     "output_type": "execute_result"
    }
   ],
   "source": [
    "#利用搜索出的最优参数构建模型\n",
    "gb=GradientBoostingRegressor(random_state=42,learning_rate=0.2,\n",
    "                         n_estimators=300,min_samples_split=2,min_samples_leaf=2,max_depth=100)\n",
    "gb.fit(x_train,train_y)"
   ]
  },
  {
   "cell_type": "code",
   "execution_count": 58,
   "id": "c6e3faf2",
   "metadata": {
    "ExecuteTime": {
     "end_time": "2024-03-29T09:29:08.517610Z",
     "start_time": "2024-03-29T09:29:07.870648Z"
    }
   },
   "outputs": [
    {
     "name": "stdout",
     "output_type": "stream",
     "text": [
      "训练集rmse： 6.417683846518035e-05\n",
      "测试集rmse： 0.021924851975737663\n",
      "训练集R2: 0.998808700719566\n",
      "测试集R2: 0.5865521346451383\n"
     ]
    }
   ],
   "source": [
    "## 模型预测\n",
    "y_pred_train = gb.predict(x_train)\n",
    "y_pred_test = gb.predict(x_test)\n",
    "print(\"训练集rmse：\",mean_squared_error(train_y,y_pred_train))\n",
    "print(\"测试集rmse：\",mean_squared_error(test_y,y_pred_test))\n",
    "print(\"训练集R2:\", r2_score(train_y, y_pred_train))\n",
    "print(\"测试集R2:\", r2_score(test_y, y_pred_test))"
   ]
  },
  {
   "cell_type": "code",
   "execution_count": null,
   "id": "282f51f0",
   "metadata": {
    "ExecuteTime": {
     "end_time": "2024-03-29T09:26:04.517574Z",
     "start_time": "2024-03-29T09:26:04.517574Z"
    }
   },
   "outputs": [],
   "source": [
    "import matplotlib.pyplot as plt\n",
    "plt.figure(figsize=(20,20),dpi=100)\n",
    "plt.scatter(test_y,y_pred_test)\n",
    "plt.xlabel(\"真实值\")\n",
    "plt.ylabel(\"预测值\")\n",
    "plt.show()"
   ]
  },
  {
   "cell_type": "code",
   "execution_count": null,
   "id": "19cdc10f",
   "metadata": {},
   "outputs": [],
   "source": []
  },
  {
   "cell_type": "markdown",
   "id": "f297fc62",
   "metadata": {},
   "source": [
    "## 构建LIGHTGBM"
   ]
  },
  {
   "cell_type": "code",
   "execution_count": null,
   "id": "d9df4667",
   "metadata": {
    "ExecuteTime": {
     "end_time": "2024-03-29T09:26:04.518571Z",
     "start_time": "2024-03-29T09:26:04.518571Z"
    }
   },
   "outputs": [],
   "source": [
    "import lightgbm as lgb"
   ]
  },
  {
   "cell_type": "code",
   "execution_count": null,
   "id": "adc53488",
   "metadata": {
    "ExecuteTime": {
     "end_time": "2024-03-29T09:26:04.519571Z",
     "start_time": "2024-03-29T09:26:04.519571Z"
    },
    "code_folding": [
     1,
     5
    ]
   },
   "outputs": [],
   "source": [
    "# # 定义参数\n",
    "# params = {\n",
    "#     'learning_rate': [0.05, 0.1, 0.2],  # 学习率\n",
    "#     'n_estimators': [100, 300,500],  # 决策树数量\n",
    "#     'max_depth': [3, 4, 5],  # 决策树最大深度\n",
    "# #     'min_child_samples': [2, 5, 10],  # 叶节点中最小样本数\n",
    "# #     'subsample': [0.6, 0.7, 0.8]  # 子样本采样率\n",
    "# #     'colsample_bytree': [0.6, 0.7, 0.8],  # 列采样率\n",
    "# #     'reg_alpha': [0.1, 0.5, 1.0],  # L1 正则化参数\n",
    "# #     'reg_lambda': [0.1, 0.5, 1.0],  # L2 正则化参数\n",
    "# #     'random_state': [42]  # 随机种子\n",
    "# }\n",
    "# # 创建 LightGBM 回归模型\n",
    "# lgb_model = lgb.LGBMRegressor()\n",
    "\n",
    "# # 使用 GridSearchCV 进行参数搜索\n",
    "# lgb_grid_model = GridSearchCV(estimator=lgb_model, param_grid=params, cv=5, n_jobs=-1)\n",
    "\n",
    "# # 拟合模型\n",
    "# lgb_grid_model.fit(x_train, train_y)\n",
    "\n",
    "# # 输出最佳参数\n",
    "# print(\"Best Parameters:\", lgb_grid_model.best_params_)"
   ]
  },
  {
   "cell_type": "code",
   "execution_count": null,
   "id": "48d1398e",
   "metadata": {
    "ExecuteTime": {
     "end_time": "2024-03-29T09:26:04.520570Z",
     "start_time": "2024-03-29T09:26:04.520570Z"
    }
   },
   "outputs": [],
   "source": [
    "# {'subsample': 1.0, 'random_state': 42, 'min_child_weight': 1, 'min_child_samples': 2, 'max_depth': -1, 'colsample_bytree': 1.0}"
   ]
  },
  {
   "cell_type": "code",
   "execution_count": 59,
   "id": "a56d388a",
   "metadata": {
    "ExecuteTime": {
     "end_time": "2024-03-29T09:29:16.744709Z",
     "start_time": "2024-03-29T09:29:16.577708Z"
    },
    "code_folding": []
   },
   "outputs": [
    {
     "name": "stdout",
     "output_type": "stream",
     "text": [
      "[LightGBM] [Info] Auto-choosing row-wise multi-threading, the overhead of testing was 0.000488 seconds.\n",
      "You can set `force_row_wise=true` to remove the overhead.\n",
      "And if memory is not enough, you can set `force_col_wise=true`.\n",
      "[LightGBM] [Info] Total Bins 1445\n",
      "[LightGBM] [Info] Number of data points in the train set: 9008, number of used features: 28\n",
      "[LightGBM] [Info] Start training from score 0.449156\n"
     ]
    },
    {
     "data": {
      "text/html": [
       "<style>#sk-container-id-6 {color: black;background-color: white;}#sk-container-id-6 pre{padding: 0;}#sk-container-id-6 div.sk-toggleable {background-color: white;}#sk-container-id-6 label.sk-toggleable__label {cursor: pointer;display: block;width: 100%;margin-bottom: 0;padding: 0.3em;box-sizing: border-box;text-align: center;}#sk-container-id-6 label.sk-toggleable__label-arrow:before {content: \"▸\";float: left;margin-right: 0.25em;color: #696969;}#sk-container-id-6 label.sk-toggleable__label-arrow:hover:before {color: black;}#sk-container-id-6 div.sk-estimator:hover label.sk-toggleable__label-arrow:before {color: black;}#sk-container-id-6 div.sk-toggleable__content {max-height: 0;max-width: 0;overflow: hidden;text-align: left;background-color: #f0f8ff;}#sk-container-id-6 div.sk-toggleable__content pre {margin: 0.2em;color: black;border-radius: 0.25em;background-color: #f0f8ff;}#sk-container-id-6 input.sk-toggleable__control:checked~div.sk-toggleable__content {max-height: 200px;max-width: 100%;overflow: auto;}#sk-container-id-6 input.sk-toggleable__control:checked~label.sk-toggleable__label-arrow:before {content: \"▾\";}#sk-container-id-6 div.sk-estimator input.sk-toggleable__control:checked~label.sk-toggleable__label {background-color: #d4ebff;}#sk-container-id-6 div.sk-label input.sk-toggleable__control:checked~label.sk-toggleable__label {background-color: #d4ebff;}#sk-container-id-6 input.sk-hidden--visually {border: 0;clip: rect(1px 1px 1px 1px);clip: rect(1px, 1px, 1px, 1px);height: 1px;margin: -1px;overflow: hidden;padding: 0;position: absolute;width: 1px;}#sk-container-id-6 div.sk-estimator {font-family: monospace;background-color: #f0f8ff;border: 1px dotted black;border-radius: 0.25em;box-sizing: border-box;margin-bottom: 0.5em;}#sk-container-id-6 div.sk-estimator:hover {background-color: #d4ebff;}#sk-container-id-6 div.sk-parallel-item::after {content: \"\";width: 100%;border-bottom: 1px solid gray;flex-grow: 1;}#sk-container-id-6 div.sk-label:hover label.sk-toggleable__label {background-color: #d4ebff;}#sk-container-id-6 div.sk-serial::before {content: \"\";position: absolute;border-left: 1px solid gray;box-sizing: border-box;top: 0;bottom: 0;left: 50%;z-index: 0;}#sk-container-id-6 div.sk-serial {display: flex;flex-direction: column;align-items: center;background-color: white;padding-right: 0.2em;padding-left: 0.2em;position: relative;}#sk-container-id-6 div.sk-item {position: relative;z-index: 1;}#sk-container-id-6 div.sk-parallel {display: flex;align-items: stretch;justify-content: center;background-color: white;position: relative;}#sk-container-id-6 div.sk-item::before, #sk-container-id-6 div.sk-parallel-item::before {content: \"\";position: absolute;border-left: 1px solid gray;box-sizing: border-box;top: 0;bottom: 0;left: 50%;z-index: -1;}#sk-container-id-6 div.sk-parallel-item {display: flex;flex-direction: column;z-index: 1;position: relative;background-color: white;}#sk-container-id-6 div.sk-parallel-item:first-child::after {align-self: flex-end;width: 50%;}#sk-container-id-6 div.sk-parallel-item:last-child::after {align-self: flex-start;width: 50%;}#sk-container-id-6 div.sk-parallel-item:only-child::after {width: 0;}#sk-container-id-6 div.sk-dashed-wrapped {border: 1px dashed gray;margin: 0 0.4em 0.5em 0.4em;box-sizing: border-box;padding-bottom: 0.4em;background-color: white;}#sk-container-id-6 div.sk-label label {font-family: monospace;font-weight: bold;display: inline-block;line-height: 1.2em;}#sk-container-id-6 div.sk-label-container {text-align: center;}#sk-container-id-6 div.sk-container {/* jupyter's `normalize.less` sets `[hidden] { display: none; }` but bootstrap.min.css set `[hidden] { display: none !important; }` so we also need the `!important` here to be able to override the default hidden behavior on the sphinx rendered scikit-learn.org. See: https://github.com/scikit-learn/scikit-learn/issues/21755 */display: inline-block !important;position: relative;}#sk-container-id-6 div.sk-text-repr-fallback {display: none;}</style><div id=\"sk-container-id-6\" class=\"sk-top-container\"><div class=\"sk-text-repr-fallback\"><pre>LGBMRegressor(random_state=42)</pre><b>In a Jupyter environment, please rerun this cell to show the HTML representation or trust the notebook. <br />On GitHub, the HTML representation is unable to render, please try loading this page with nbviewer.org.</b></div><div class=\"sk-container\" hidden><div class=\"sk-item\"><div class=\"sk-estimator sk-toggleable\"><input class=\"sk-toggleable__control sk-hidden--visually\" id=\"sk-estimator-id-6\" type=\"checkbox\" checked><label for=\"sk-estimator-id-6\" class=\"sk-toggleable__label sk-toggleable__label-arrow\">LGBMRegressor</label><div class=\"sk-toggleable__content\"><pre>LGBMRegressor(random_state=42)</pre></div></div></div></div></div>"
      ],
      "text/plain": [
       "LGBMRegressor(random_state=42)"
      ]
     },
     "execution_count": 59,
     "metadata": {},
     "output_type": "execute_result"
    }
   ],
   "source": [
    "#利用搜索出的最优参数构建模型\n",
    "lgb1=lgb.LGBMRegressor(random_state=42)\n",
    "lgb1.fit(x_train,train_y)"
   ]
  },
  {
   "cell_type": "code",
   "execution_count": 60,
   "id": "d51fff7e",
   "metadata": {
    "ExecuteTime": {
     "end_time": "2024-03-29T09:29:16.947169Z",
     "start_time": "2024-03-29T09:29:16.923170Z"
    },
    "code_folding": []
   },
   "outputs": [
    {
     "name": "stdout",
     "output_type": "stream",
     "text": [
      "训练集rmse： 0.013018823191203668\n",
      "测试集rmse： 0.0194747263776961\n",
      "训练集R2: 0.7583347034429889\n",
      "测试集R2: 0.6327553746707761\n"
     ]
    }
   ],
   "source": [
    "## 模型预测\n",
    "y_pred_train = lgb1.predict(x_train)\n",
    "y_pred_test = lgb1.predict(x_test)\n",
    "print(\"训练集rmse：\",mean_squared_error(train_y,y_pred_train))\n",
    "print(\"测试集rmse：\",mean_squared_error(test_y,y_pred_test))\n",
    "print(\"训练集R2:\", r2_score(train_y, y_pred_train))\n",
    "print(\"测试集R2:\", r2_score(test_y, y_pred_test))"
   ]
  },
  {
   "cell_type": "code",
   "execution_count": null,
   "id": "d8fc5601",
   "metadata": {
    "ExecuteTime": {
     "end_time": "2024-03-29T09:26:04.523571Z",
     "start_time": "2024-03-29T09:26:04.523571Z"
    }
   },
   "outputs": [],
   "source": [
    "import matplotlib.pyplot as plt\n",
    "plt.figure(figsize=(20,20),dpi=100)\n",
    "plt.scatter(test_y,y_pred_test)\n",
    "plt.xlabel(\"真实值\")\n",
    "plt.ylabel(\"预测值\")\n",
    "plt.show()"
   ]
  },
  {
   "cell_type": "markdown",
   "id": "1fe18a06",
   "metadata": {},
   "source": [
    "## 构建神经网络MLP"
   ]
  },
  {
   "cell_type": "code",
   "execution_count": null,
   "id": "14af8bd5",
   "metadata": {
    "ExecuteTime": {
     "end_time": "2024-03-29T09:26:04.524571Z",
     "start_time": "2024-03-29T09:26:04.524571Z"
    }
   },
   "outputs": [],
   "source": [
    "from sklearn.neural_network import MLPRegressor"
   ]
  },
  {
   "cell_type": "code",
   "execution_count": null,
   "id": "22b1e898",
   "metadata": {
    "ExecuteTime": {
     "end_time": "2024-03-29T09:26:04.524571Z",
     "start_time": "2024-03-29T09:26:04.524571Z"
    },
    "scrolled": true
   },
   "outputs": [],
   "source": [
    "# # 定义参数列表\n",
    "# params = {\n",
    "#     'hidden_layer_sizes': [(100,), (200,), (300,)],  # 隐藏层神经元数量\n",
    "#     'activation': ['identity', 'logistic', 'tanh', 'relu'],  # 激活函数\n",
    "#     'solver': ['lbfgs', 'sgd', 'adam'],  # 优化器\n",
    "#     'alpha': [0.0001, 0.001, 0.01],  # 正则化参数\n",
    "#     'learning_rate': ['constant', 'invscaling', 'adaptive'],  # 学习率策略\n",
    "#     'learning_rate_init': [0.001, 0.01, 0.1],  # 初始学习率\n",
    "#     'max_iter': [100, 200, 300],  # 最大迭代次数\n",
    "#     'random_state': [42]  # 随机种子\n",
    "# }\n",
    "\n",
    "# # 创建 MLP 回归模型\n",
    "# mlp_model = MLPRegressor()\n",
    "\n",
    "# # 使用 GridSearchCV 进行参数搜索\n",
    "# mlp_grid_model = GridSearchCV(estimator=mlp_model, param_grid=params, cv=5, n_jobs=-1)\n",
    "\n",
    "# # 拟合模型\n",
    "# mlp_grid_model.fit(x_train, train_y)\n",
    "\n",
    "# # 输出最佳参数\n",
    "# print(\"Best Parameters:\", mlp_grid_model.best_params_)"
   ]
  },
  {
   "cell_type": "code",
   "execution_count": 61,
   "id": "eecb6b09",
   "metadata": {
    "ExecuteTime": {
     "end_time": "2024-03-29T09:29:26.263570Z",
     "start_time": "2024-03-29T09:29:25.046740Z"
    }
   },
   "outputs": [
    {
     "data": {
      "text/html": [
       "<style>#sk-container-id-7 {color: black;background-color: white;}#sk-container-id-7 pre{padding: 0;}#sk-container-id-7 div.sk-toggleable {background-color: white;}#sk-container-id-7 label.sk-toggleable__label {cursor: pointer;display: block;width: 100%;margin-bottom: 0;padding: 0.3em;box-sizing: border-box;text-align: center;}#sk-container-id-7 label.sk-toggleable__label-arrow:before {content: \"▸\";float: left;margin-right: 0.25em;color: #696969;}#sk-container-id-7 label.sk-toggleable__label-arrow:hover:before {color: black;}#sk-container-id-7 div.sk-estimator:hover label.sk-toggleable__label-arrow:before {color: black;}#sk-container-id-7 div.sk-toggleable__content {max-height: 0;max-width: 0;overflow: hidden;text-align: left;background-color: #f0f8ff;}#sk-container-id-7 div.sk-toggleable__content pre {margin: 0.2em;color: black;border-radius: 0.25em;background-color: #f0f8ff;}#sk-container-id-7 input.sk-toggleable__control:checked~div.sk-toggleable__content {max-height: 200px;max-width: 100%;overflow: auto;}#sk-container-id-7 input.sk-toggleable__control:checked~label.sk-toggleable__label-arrow:before {content: \"▾\";}#sk-container-id-7 div.sk-estimator input.sk-toggleable__control:checked~label.sk-toggleable__label {background-color: #d4ebff;}#sk-container-id-7 div.sk-label input.sk-toggleable__control:checked~label.sk-toggleable__label {background-color: #d4ebff;}#sk-container-id-7 input.sk-hidden--visually {border: 0;clip: rect(1px 1px 1px 1px);clip: rect(1px, 1px, 1px, 1px);height: 1px;margin: -1px;overflow: hidden;padding: 0;position: absolute;width: 1px;}#sk-container-id-7 div.sk-estimator {font-family: monospace;background-color: #f0f8ff;border: 1px dotted black;border-radius: 0.25em;box-sizing: border-box;margin-bottom: 0.5em;}#sk-container-id-7 div.sk-estimator:hover {background-color: #d4ebff;}#sk-container-id-7 div.sk-parallel-item::after {content: \"\";width: 100%;border-bottom: 1px solid gray;flex-grow: 1;}#sk-container-id-7 div.sk-label:hover label.sk-toggleable__label {background-color: #d4ebff;}#sk-container-id-7 div.sk-serial::before {content: \"\";position: absolute;border-left: 1px solid gray;box-sizing: border-box;top: 0;bottom: 0;left: 50%;z-index: 0;}#sk-container-id-7 div.sk-serial {display: flex;flex-direction: column;align-items: center;background-color: white;padding-right: 0.2em;padding-left: 0.2em;position: relative;}#sk-container-id-7 div.sk-item {position: relative;z-index: 1;}#sk-container-id-7 div.sk-parallel {display: flex;align-items: stretch;justify-content: center;background-color: white;position: relative;}#sk-container-id-7 div.sk-item::before, #sk-container-id-7 div.sk-parallel-item::before {content: \"\";position: absolute;border-left: 1px solid gray;box-sizing: border-box;top: 0;bottom: 0;left: 50%;z-index: -1;}#sk-container-id-7 div.sk-parallel-item {display: flex;flex-direction: column;z-index: 1;position: relative;background-color: white;}#sk-container-id-7 div.sk-parallel-item:first-child::after {align-self: flex-end;width: 50%;}#sk-container-id-7 div.sk-parallel-item:last-child::after {align-self: flex-start;width: 50%;}#sk-container-id-7 div.sk-parallel-item:only-child::after {width: 0;}#sk-container-id-7 div.sk-dashed-wrapped {border: 1px dashed gray;margin: 0 0.4em 0.5em 0.4em;box-sizing: border-box;padding-bottom: 0.4em;background-color: white;}#sk-container-id-7 div.sk-label label {font-family: monospace;font-weight: bold;display: inline-block;line-height: 1.2em;}#sk-container-id-7 div.sk-label-container {text-align: center;}#sk-container-id-7 div.sk-container {/* jupyter's `normalize.less` sets `[hidden] { display: none; }` but bootstrap.min.css set `[hidden] { display: none !important; }` so we also need the `!important` here to be able to override the default hidden behavior on the sphinx rendered scikit-learn.org. See: https://github.com/scikit-learn/scikit-learn/issues/21755 */display: inline-block !important;position: relative;}#sk-container-id-7 div.sk-text-repr-fallback {display: none;}</style><div id=\"sk-container-id-7\" class=\"sk-top-container\"><div class=\"sk-text-repr-fallback\"><pre>MLPRegressor(hidden_layer_sizes=100)</pre><b>In a Jupyter environment, please rerun this cell to show the HTML representation or trust the notebook. <br />On GitHub, the HTML representation is unable to render, please try loading this page with nbviewer.org.</b></div><div class=\"sk-container\" hidden><div class=\"sk-item\"><div class=\"sk-estimator sk-toggleable\"><input class=\"sk-toggleable__control sk-hidden--visually\" id=\"sk-estimator-id-7\" type=\"checkbox\" checked><label for=\"sk-estimator-id-7\" class=\"sk-toggleable__label sk-toggleable__label-arrow\">MLPRegressor</label><div class=\"sk-toggleable__content\"><pre>MLPRegressor(hidden_layer_sizes=100)</pre></div></div></div></div></div>"
      ],
      "text/plain": [
       "MLPRegressor(hidden_layer_sizes=100)"
      ]
     },
     "execution_count": 61,
     "metadata": {},
     "output_type": "execute_result"
    }
   ],
   "source": [
    "#利用搜索出的最优参数构建模型\n",
    "mlp=MLPRegressor(hidden_layer_sizes=100)\n",
    "mlp.fit(x_train,train_y)"
   ]
  },
  {
   "cell_type": "code",
   "execution_count": 62,
   "id": "c83db4a9",
   "metadata": {
    "ExecuteTime": {
     "end_time": "2024-03-29T09:29:26.295565Z",
     "start_time": "2024-03-29T09:29:26.264565Z"
    }
   },
   "outputs": [
    {
     "name": "stdout",
     "output_type": "stream",
     "text": [
      "训练集rmse： 0.028956406128853165\n",
      "测试集rmse： 0.030663430688004065\n",
      "训练集R2: 0.4624891688303534\n",
      "测试集R2: 0.4217643988455937\n"
     ]
    }
   ],
   "source": [
    "## 模型预测\n",
    "y_pred_train = mlp.predict(x_train)\n",
    "y_pred_test = mlp.predict(x_test)\n",
    "print(\"训练集rmse：\",mean_squared_error(train_y,y_pred_train))\n",
    "print(\"测试集rmse：\",mean_squared_error(test_y,y_pred_test))\n",
    "print(\"训练集R2:\", r2_score(train_y, y_pred_train))\n",
    "print(\"测试集R2:\", r2_score(test_y, y_pred_test))"
   ]
  },
  {
   "cell_type": "code",
   "execution_count": null,
   "id": "1e22f91a",
   "metadata": {},
   "outputs": [],
   "source": []
  },
  {
   "cell_type": "markdown",
   "id": "42eb104c",
   "metadata": {
    "ExecuteTime": {
     "end_time": "2024-03-24T17:30:59.777854Z",
     "start_time": "2024-03-24T17:30:59.770850Z"
    }
   },
   "source": [
    "## Stacking融合"
   ]
  },
  {
   "cell_type": "code",
   "execution_count": 175,
   "id": "dfb261a4",
   "metadata": {
    "ExecuteTime": {
     "end_time": "2024-03-29T09:57:42.048057Z",
     "start_time": "2024-03-29T09:57:38.020986Z"
    }
   },
   "outputs": [],
   "source": [
    "#获取每个子模型的预测结果作为特征\n",
    "train_features=[]\n",
    "train_features.append(ridge.predict(new_x_train))#将每个模型预测值保存起来\n",
    "# train_features.append(lasso.predict(new_x_train))\n",
    "train_features.append(svr.predict(new_x_train))#这个太慢了  不要了\n",
    "train_features.append(rf.predict(x_train))\n",
    "train_features.append(tree.predict(x_train))\n",
    "# train_features.append(bst.predict(dtrain))\n",
    "train_features.append(gb.predict(x_train))\n",
    "train_features.append(lgb1.predict(x_train))\n",
    "# train_features.append(mlp.predict(x_train))\n",
    "\n",
    "test_features=[]\n",
    "test_features.append(ridge.predict(new_x_test))\n",
    "# test_features.append(lasso.predict(new_x_test))\n",
    "test_features.append(svr.predict(new_x_test))\n",
    "test_features.append(rf.predict(x_test))\n",
    "test_features.append(tree.predict(x_test))\n",
    "# test_features.append(bst.predict(dtest))\n",
    "test_features.append(gb.predict(x_test))\n",
    "test_features.append(lgb1.predict(x_test))\n",
    "# test_features.append(mlp.predict(x_test))"
   ]
  },
  {
   "cell_type": "code",
   "execution_count": 188,
   "id": "d48d76cc",
   "metadata": {
    "ExecuteTime": {
     "end_time": "2024-03-29T10:05:44.636593Z",
     "start_time": "2024-03-29T10:05:44.624598Z"
    }
   },
   "outputs": [
    {
     "data": {
      "text/plain": [
       "(3861, 28)"
      ]
     },
     "execution_count": 188,
     "metadata": {},
     "output_type": "execute_result"
    }
   ],
   "source": [
    "x_test.shape"
   ]
  },
  {
   "cell_type": "code",
   "execution_count": null,
   "id": "457e12fd",
   "metadata": {},
   "outputs": [],
   "source": [
    "#加权平均法"
   ]
  },
  {
   "cell_type": "code",
   "execution_count": 189,
   "id": "ae81827c",
   "metadata": {
    "ExecuteTime": {
     "end_time": "2024-03-29T10:06:57.209413Z",
     "start_time": "2024-03-29T10:06:52.570866Z"
    }
   },
   "outputs": [
    {
     "name": "stdout",
     "output_type": "stream",
     "text": [
      "训练集RMSE： 0.11396452186680335\n",
      "测试集RMSE： 0.1463805308330294\n",
      "训练集R2: 0.7589084959458587\n",
      "测试集R2: 0.5959354782693644\n"
     ]
    }
   ],
   "source": [
    "    import numpy as np\n",
    "    from sklearn.metrics import mean_squared_error, r2_score\n",
    "\n",
    "    # 定义每个子模型的权重\n",
    "    weights = [0.1, 0.1, 0.25, 0.25, 0.2,0.1]  # 假设每个子模型权重相同\n",
    "\n",
    "    # 定义每个子模型\n",
    "    models = [ridge, svr, rf, tree,gb, lgb1]  # 假设这些是已经定义好的模型\n",
    "\n",
    "    # 获取每个子模型的预测结果作为特征\n",
    "    train_features = []\n",
    "    test_features = []\n",
    "    for model in models:\n",
    "        train_features.append(model.predict(new_x_train))\n",
    "        test_features.append(model.predict(new_x_test))\n",
    "\n",
    "    # 对每个样本进行加权平均\n",
    "    train_predictions = np.average(train_features, axis=0, weights=weights)\n",
    "    test_predictions = np.average(test_features, axis=0, weights=weights)\n",
    "\n",
    "    # 计算加权平均后的RMSE和R2\n",
    "    train_rmse = mean_squared_error(train_y, train_predictions, squared=False)\n",
    "    test_rmse = mean_squared_error(test_y, test_predictions, squared=False)\n",
    "    train_r2 = r2_score(train_y, train_predictions)\n",
    "    test_r2 = r2_score(test_y, test_predictions)\n",
    "\n",
    "    print(\"训练集RMSE：\", train_rmse)\n",
    "    print(\"测试集RMSE：\", test_rmse)\n",
    "    print(\"训练集R2:\", train_r2)\n",
    "    print(\"测试集R2:\", test_r2)\n"
   ]
  },
  {
   "cell_type": "code",
   "execution_count": null,
   "id": "88f9a6a5",
   "metadata": {},
   "outputs": [],
   "source": [
    "#voting法"
   ]
  },
  {
   "cell_type": "code",
   "execution_count": 190,
   "id": "38222d0b",
   "metadata": {
    "ExecuteTime": {
     "end_time": "2024-03-29T10:08:47.133724Z",
     "start_time": "2024-03-29T10:08:00.454842Z"
    }
   },
   "outputs": [
    {
     "name": "stdout",
     "output_type": "stream",
     "text": [
      "[LightGBM] [Info] Auto-choosing row-wise multi-threading, the overhead of testing was 0.000460 seconds.\n",
      "You can set `force_row_wise=true` to remove the overhead.\n",
      "And if memory is not enough, you can set `force_col_wise=true`.\n",
      "[LightGBM] [Info] Total Bins 1445\n",
      "[LightGBM] [Info] Number of data points in the train set: 9008, number of used features: 28\n",
      "[LightGBM] [Info] Start training from score 0.449156\n",
      "训练集RMSE： 0.11396452186680335\n",
      "测试集RMSE： 0.1463805308330294\n",
      "训练集R2: 0.7589084959458587\n",
      "测试集R2: 0.5959354782693644\n"
     ]
    }
   ],
   "source": [
    "from sklearn.ensemble import VotingRegressor\n",
    "\n",
    "# 定义每个子模型\n",
    "models = [('ridge', ridge), ('svr', svr), ('rf', rf), ('tree', tree), ('gb', gb), ('lgb1', lgb1)]\n",
    "\n",
    "# 定义投票法模型\n",
    "voting_model = VotingRegressor(estimators=models, weights=weights)\n",
    "\n",
    "# 使用训练数据进行拟合\n",
    "voting_model.fit(new_x_train, train_y)\n",
    "\n",
    "# 在训练集和测试集上进行预测\n",
    "train_predictions = voting_model.predict(new_x_train)\n",
    "test_predictions = voting_model.predict(new_x_test)\n",
    "\n",
    "# 计算加权平均后的RMSE和R2\n",
    "train_rmse = mean_squared_error(train_y, train_predictions, squared=False)\n",
    "test_rmse = mean_squared_error(test_y, test_predictions, squared=False)\n",
    "train_r2 = r2_score(train_y, train_predictions)\n",
    "test_r2 = r2_score(test_y, test_predictions)\n",
    "\n",
    "print(\"训练集RMSE：\", train_rmse)\n",
    "print(\"测试集RMSE：\", test_rmse)\n",
    "print(\"训练集R2:\", train_r2)\n",
    "print(\"测试集R2:\", test_r2)\n"
   ]
  },
  {
   "cell_type": "code",
   "execution_count": null,
   "id": "75901750",
   "metadata": {},
   "outputs": [],
   "source": []
  },
  {
   "cell_type": "code",
   "execution_count": null,
   "id": "863dd7b7",
   "metadata": {},
   "outputs": [],
   "source": []
  },
  {
   "cell_type": "code",
   "execution_count": 176,
   "id": "27f96647",
   "metadata": {
    "ExecuteTime": {
     "end_time": "2024-03-29T09:57:42.064057Z",
     "start_time": "2024-03-29T09:57:42.050057Z"
    }
   },
   "outputs": [
    {
     "data": {
      "text/plain": [
       "(9008, 5)"
      ]
     },
     "execution_count": 176,
     "metadata": {},
     "output_type": "execute_result"
    }
   ],
   "source": [
    "mx_train=np.vstack(train_features).T\n",
    "mx_test=np.vstack(test_features).T\n",
    "mx_train.shape"
   ]
  },
  {
   "cell_type": "code",
   "execution_count": null,
   "id": "66c6d33b",
   "metadata": {},
   "outputs": [],
   "source": []
  },
  {
   "cell_type": "code",
   "execution_count": 177,
   "id": "aaf08426",
   "metadata": {
    "ExecuteTime": {
     "end_time": "2024-03-29T09:57:42.080057Z",
     "start_time": "2024-03-29T09:57:42.066057Z"
    }
   },
   "outputs": [
    {
     "data": {
      "text/plain": [
       "array([[0.42743072, 0.28113701, 0.44691629, 0.6047397 , 0.47807868],\n",
       "       [0.40473946, 0.31974949, 0.37388364, 0.40920928, 0.33662017],\n",
       "       [0.46524285, 0.44155318, 0.38257955, 0.40882521, 0.4113655 ],\n",
       "       ...,\n",
       "       [0.47179028, 0.45491922, 0.56965352, 0.72549176, 0.73672391],\n",
       "       [0.42487645, 0.40479269, 0.29980802, 0.26703143, 0.29324586],\n",
       "       [0.51356002, 0.53318588, 0.52978533, 0.60894661, 0.55742543]])"
      ]
     },
     "execution_count": 177,
     "metadata": {},
     "output_type": "execute_result"
    }
   ],
   "source": [
    "mx_train"
   ]
  },
  {
   "cell_type": "code",
   "execution_count": 178,
   "id": "6feab391",
   "metadata": {
    "ExecuteTime": {
     "end_time": "2024-03-29T09:57:42.096061Z",
     "start_time": "2024-03-29T09:57:42.083058Z"
    }
   },
   "outputs": [],
   "source": [
    "#线性回归"
   ]
  },
  {
   "cell_type": "code",
   "execution_count": 179,
   "id": "184d3469",
   "metadata": {
    "ExecuteTime": {
     "end_time": "2024-03-29T09:57:44.899838Z",
     "start_time": "2024-03-29T09:57:42.261730Z"
    }
   },
   "outputs": [
    {
     "data": {
      "text/plain": [
       "{'alpha': 0.03359818286283781}"
      ]
     },
     "execution_count": 179,
     "metadata": {},
     "output_type": "execute_result"
    }
   ],
   "source": [
    "stack_model=Ridge(fit_intercept=False ,solver='svd')\n",
    "params={\n",
    "    \"alpha\":np.logspace(-2,3,20)\n",
    "}\n",
    "model=GridSearchCV(stack_model,param_grid=params,cv=5,n_jobs=-1)\n",
    "model.fit(mx_train,train_y)\n",
    "model.best_params_"
   ]
  },
  {
   "cell_type": "code",
   "execution_count": null,
   "id": "5df143c9",
   "metadata": {},
   "outputs": [],
   "source": []
  },
  {
   "cell_type": "code",
   "execution_count": 166,
   "id": "4511e3b6",
   "metadata": {
    "ExecuteTime": {
     "end_time": "2024-03-29T09:51:22.979783Z",
     "start_time": "2024-03-29T09:51:22.961783Z"
    }
   },
   "outputs": [
    {
     "name": "stdout",
     "output_type": "stream",
     "text": [
      "训练集rmse： 0.011411559700367753\n",
      "测试集rmse： 0.019732516253546384\n",
      "训练集R2: 0.7881699506426405\n",
      "测试集R2: 0.6135108781610785\n"
     ]
    }
   ],
   "source": [
    "stack_model=Ridge(alpha=0.01,fit_intercept=False,solver='svd')\n",
    "stack_model.fit(mx_train,train_y)\n",
    "y_pred=stack_model.predict(mx_test)\n",
    "y_pred_train=stack_model.predict(mx_train)\n",
    "print(\"训练集rmse：\",mean_squared_error(train_y,y_pred_train))\n",
    "print(\"测试集rmse：\",mean_squared_error(test_y,y_pred))\n",
    "print(\"训练集R2:\", r2_score(train_y, y_pred_train))\n",
    "print(\"测试集R2:\", r2_score(test_y, y_pred_test))"
   ]
  },
  {
   "cell_type": "code",
   "execution_count": 167,
   "id": "ce188d69",
   "metadata": {
    "ExecuteTime": {
     "end_time": "2024-03-29T09:51:23.385899Z",
     "start_time": "2024-03-29T09:51:23.376895Z"
    }
   },
   "outputs": [
    {
     "name": "stdout",
     "output_type": "stream",
     "text": [
      "训练集rmse： 0.011411661320359692\n",
      "测试集rmse： 0.019722801623119814\n",
      "训练集R2: 0.7881680642950707\n",
      "测试集R2: 0.6135108781610785\n"
     ]
    }
   ],
   "source": [
    "stack_model=Ridge(alpha=0.06,fit_intercept=False,solver='svd')\n",
    "stack_model.fit(mx_train,train_y)\n",
    "y_pred=stack_model.predict(mx_test)\n",
    "y_pred_train=stack_model.predict(mx_train)\n",
    "print(\"训练集rmse：\",mean_squared_error(train_y,y_pred_train))\n",
    "print(\"测试集rmse：\",mean_squared_error(test_y,y_pred))\n",
    "print(\"训练集R2:\", r2_score(train_y, y_pred_train))\n",
    "print(\"测试集R2:\", r2_score(test_y, y_pred_test))"
   ]
  },
  {
   "cell_type": "code",
   "execution_count": 168,
   "id": "d9668dd9",
   "metadata": {
    "ExecuteTime": {
     "end_time": "2024-03-29T09:51:23.900079Z",
     "start_time": "2024-03-29T09:51:23.884075Z"
    }
   },
   "outputs": [
    {
     "data": {
      "text/plain": [
       "array([ 0.19192169, -0.07306838, -0.32371331, -0.47834299, -0.06165593,\n",
       "        1.65755454,  0.08943912])"
      ]
     },
     "execution_count": 168,
     "metadata": {},
     "output_type": "execute_result"
    }
   ],
   "source": [
    "stack_model.coef_"
   ]
  },
  {
   "cell_type": "code",
   "execution_count": null,
   "id": "2cb7aca5",
   "metadata": {
    "ExecuteTime": {
     "end_time": "2024-03-29T09:26:04.535571Z",
     "start_time": "2024-03-29T09:26:04.535571Z"
    }
   },
   "outputs": [],
   "source": [
    "# 模型保存"
   ]
  },
  {
   "cell_type": "code",
   "execution_count": null,
   "id": "d4a5581c",
   "metadata": {
    "ExecuteTime": {
     "end_time": "2024-03-29T09:26:04.536571Z",
     "start_time": "2024-03-29T09:26:04.536571Z"
    }
   },
   "outputs": [],
   "source": []
  },
  {
   "cell_type": "code",
   "execution_count": null,
   "id": "ad75ad53",
   "metadata": {},
   "outputs": [],
   "source": []
  },
  {
   "cell_type": "code",
   "execution_count": null,
   "id": "d57c46de",
   "metadata": {
    "ExecuteTime": {
     "end_time": "2024-03-29T09:26:04.537570Z",
     "start_time": "2024-03-29T09:26:04.537570Z"
    }
   },
   "outputs": [],
   "source": [
    "#随机森林"
   ]
  },
  {
   "cell_type": "code",
   "execution_count": 180,
   "id": "2774791b",
   "metadata": {
    "ExecuteTime": {
     "end_time": "2024-03-29T09:57:56.815869Z",
     "start_time": "2024-03-29T09:57:56.125130Z"
    }
   },
   "outputs": [
    {
     "name": "stdout",
     "output_type": "stream",
     "text": [
      "训练集RMSE： 0.1117858570492872\n",
      "测试集RMSE： 0.14089177101277262\n",
      "训练集R2: 0.7680383002562219\n",
      "测试集R2: 0.6256693912097988\n"
     ]
    }
   ],
   "source": [
    "from sklearn.ensemble import RandomForestRegressor\n",
    "from sklearn.metrics import mean_squared_error, r2_score\n",
    "\n",
    "# 定义随机森林模型并设置参数\n",
    "stack_model = RandomForestRegressor(n_estimators=200, max_depth=4,min_samples_split=8,\n",
    "                                    min_samples_leaf=4,max_samples=0.8,max_features='log2', random_state=42)\n",
    "\n",
    "# 使用训练数据进行拟合\n",
    "stack_model.fit(mx_train, train_y)\n",
    "\n",
    "# 在训练集和测试集上进行预测\n",
    "y_pred_train = stack_model.predict(mx_train)\n",
    "y_pred_test = stack_model.predict(mx_test)\n",
    "\n",
    "# 计算RMSE和R2\n",
    "train_rmse = mean_squared_error(train_y, y_pred_train, squared=False)\n",
    "test_rmse = mean_squared_error(test_y, y_pred_test, squared=False)\n",
    "train_r2 = r2_score(train_y, y_pred_train)\n",
    "test_r2 = r2_score(test_y, y_pred_test)\n",
    "\n",
    "# 打印结果\n",
    "print(\"训练集RMSE：\", train_rmse)\n",
    "print(\"测试集RMSE：\", test_rmse)\n",
    "print(\"训练集R2:\", train_r2)\n",
    "print(\"测试集R2:\", test_r2)\n"
   ]
  },
  {
   "cell_type": "code",
   "execution_count": 170,
   "id": "66149761",
   "metadata": {
    "ExecuteTime": {
     "end_time": "2024-03-29T09:51:44.107510Z",
     "start_time": "2024-03-29T09:51:44.094506Z"
    }
   },
   "outputs": [],
   "source": [
    "#lightgbm"
   ]
  },
  {
   "cell_type": "code",
   "execution_count": 181,
   "id": "d7f15e76",
   "metadata": {
    "ExecuteTime": {
     "end_time": "2024-03-29T09:58:01.789021Z",
     "start_time": "2024-03-29T09:58:01.738022Z"
    }
   },
   "outputs": [
    {
     "name": "stdout",
     "output_type": "stream",
     "text": [
      "[LightGBM] [Info] Auto-choosing col-wise multi-threading, the overhead of testing was 0.000166 seconds.\n",
      "You can set `force_col_wise=true` to remove the overhead.\n",
      "[LightGBM] [Info] Total Bins 1240\n",
      "[LightGBM] [Info] Number of data points in the train set: 9008, number of used features: 5\n",
      "[LightGBM] [Info] Start training from score 0.449156\n",
      "[LightGBM] [Warning] No further splits with positive gain, best gain: -inf\n",
      "[LightGBM] [Warning] No further splits with positive gain, best gain: -inf\n",
      "训练集RMSE： 0.10920199119310435\n",
      "测试集RMSE： 0.14578372866433947\n",
      "训练集R2: 0.778637691353151\n",
      "测试集R2: 0.5992235521269738\n"
     ]
    }
   ],
   "source": [
    "import lightgbm as lgb\n",
    "from sklearn.metrics import mean_squared_error, r2_score\n",
    "\n",
    "# 定义 LightGBM 模型并设置参数\n",
    "stack_model = lgb.LGBMRegressor(n_estimators=11, num_leaves=280,max_depth=10,subsample=1.0, min_child_weight=0.05,min_child_samples=8,colsample_bytree=1.0, random_state=42)\n",
    "\n",
    "# 使用训练数据进行拟合\n",
    "stack_model.fit(mx_train, train_y)\n",
    "\n",
    "# 在训练集和测试集上进行预测\n",
    "y_pred_train = stack_model.predict(mx_train)\n",
    "y_pred_test = stack_model.predict(mx_test)\n",
    "\n",
    "# 计算RMSE和R2\n",
    "train_rmse = mean_squared_error(train_y, y_pred_train, squared=False)\n",
    "test_rmse = mean_squared_error(test_y, y_pred_test, squared=False)\n",
    "train_r2 = r2_score(train_y, y_pred_train)\n",
    "test_r2 = r2_score(test_y, y_pred_test)\n",
    "\n",
    "# 打印结果\n",
    "print(\"训练集RMSE：\", train_rmse)\n",
    "print(\"测试集RMSE：\", test_rmse)\n",
    "print(\"训练集R2:\", train_r2)\n",
    "print(\"测试集R2:\", test_r2)\n"
   ]
  },
  {
   "cell_type": "code",
   "execution_count": 88,
   "id": "21aa49b1",
   "metadata": {
    "ExecuteTime": {
     "end_time": "2024-03-29T09:35:45.880994Z",
     "start_time": "2024-03-29T09:35:45.871994Z"
    }
   },
   "outputs": [],
   "source": [
    "#xgboost"
   ]
  },
  {
   "cell_type": "code",
   "execution_count": 182,
   "id": "3b6dcc47",
   "metadata": {
    "ExecuteTime": {
     "end_time": "2024-03-29T09:58:06.619021Z",
     "start_time": "2024-03-29T09:58:06.567022Z"
    }
   },
   "outputs": [
    {
     "name": "stdout",
     "output_type": "stream",
     "text": [
      "训练集RMSE： 0.12792343379567134\n",
      "测试集RMSE： 0.15048555573811495\n",
      "训练集R2: 0.6962314712737541\n",
      "测试集R2: 0.5729549256636568\n"
     ]
    }
   ],
   "source": [
    "import xgboost as xgb\n",
    "from sklearn.metrics import mean_squared_error, r2_score\n",
    "\n",
    "# 定义 XGBoost 模型并设置参数\n",
    "stack_model = xgb.XGBRegressor(n_estimators=50, max_depth=5, min_child_weight=3, learning_rate=0.02,random_state=42)\n",
    "\n",
    "# 使用训练数据进行拟合\n",
    "stack_model.fit(mx_train, train_y)\n",
    "\n",
    "# 在训练集和测试集上进行预测\n",
    "y_pred_train = stack_model.predict(mx_train)\n",
    "y_pred_test = stack_model.predict(mx_test)\n",
    "\n",
    "# 计算RMSE和R2\n",
    "train_rmse = mean_squared_error(train_y, y_pred_train, squared=False)\n",
    "test_rmse = mean_squared_error(test_y, y_pred_test, squared=False)\n",
    "train_r2 = r2_score(train_y, y_pred_train)\n",
    "test_r2 = r2_score(test_y, y_pred_test)\n",
    "\n",
    "# 打印结果\n",
    "print(\"训练集RMSE：\", train_rmse)\n",
    "print(\"测试集RMSE：\", test_rmse)\n",
    "print(\"训练集R2:\", train_r2)\n",
    "print(\"测试集R2:\", test_r2)\n"
   ]
  },
  {
   "cell_type": "code",
   "execution_count": 173,
   "id": "83a96f99",
   "metadata": {
    "ExecuteTime": {
     "end_time": "2024-03-29T09:51:58.913510Z",
     "start_time": "2024-03-29T09:51:58.902442Z"
    }
   },
   "outputs": [],
   "source": [
    "#决策树"
   ]
  },
  {
   "cell_type": "code",
   "execution_count": 223,
   "id": "292e84be",
   "metadata": {
    "ExecuteTime": {
     "end_time": "2024-03-29T10:21:24.161326Z",
     "start_time": "2024-03-29T10:21:24.139323Z"
    }
   },
   "outputs": [
    {
     "ename": "TypeError",
     "evalue": "DecisionTreeRegressor.__init__() got an unexpected keyword argument 'n_estimators'",
     "output_type": "error",
     "traceback": [
      "\u001b[1;31m---------------------------------------------------------------------------\u001b[0m",
      "\u001b[1;31mTypeError\u001b[0m                                 Traceback (most recent call last)",
      "Cell \u001b[1;32mIn[223], line 5\u001b[0m\n\u001b[0;32m      2\u001b[0m \u001b[38;5;28;01mfrom\u001b[39;00m \u001b[38;5;21;01msklearn\u001b[39;00m\u001b[38;5;21;01m.\u001b[39;00m\u001b[38;5;21;01mmetrics\u001b[39;00m \u001b[38;5;28;01mimport\u001b[39;00m mean_squared_error, r2_score\n\u001b[0;32m      4\u001b[0m \u001b[38;5;66;03m# 定义决策树模型并设置参数\u001b[39;00m\n\u001b[1;32m----> 5\u001b[0m stack_model \u001b[38;5;241m=\u001b[39m \u001b[43mDecisionTreeRegressor\u001b[49m\u001b[43m(\u001b[49m\u001b[43mn_estimators\u001b[49m\u001b[38;5;241;43m=\u001b[39;49m\u001b[38;5;241;43m100\u001b[39;49m\u001b[43m,\u001b[49m\u001b[43mmax_depth\u001b[49m\u001b[38;5;241;43m=\u001b[39;49m\u001b[38;5;241;43m5\u001b[39;49m\u001b[43m,\u001b[49m\u001b[43m \u001b[49m\u001b[43mmin_samples_leaf\u001b[49m\u001b[38;5;241;43m=\u001b[39;49m\u001b[38;5;241;43m3\u001b[39;49m\u001b[43m,\u001b[49m\u001b[43m \u001b[49m\u001b[43mrandom_state\u001b[49m\u001b[38;5;241;43m=\u001b[39;49m\u001b[38;5;241;43m42\u001b[39;49m\u001b[43m)\u001b[49m\n\u001b[0;32m      7\u001b[0m \u001b[38;5;66;03m# 使用训练数据进行拟合\u001b[39;00m\n\u001b[0;32m      8\u001b[0m stack_model\u001b[38;5;241m.\u001b[39mfit(mx_train, train_y)\n",
      "\u001b[1;31mTypeError\u001b[0m: DecisionTreeRegressor.__init__() got an unexpected keyword argument 'n_estimators'"
     ]
    }
   ],
   "source": [
    "from sklearn.tree import DecisionTreeRegressor\n",
    "from sklearn.metrics import mean_squared_error, r2_score\n",
    "\n",
    "# 定义决策树模型并设置参数\n",
    "stack_model = DecisionTreeRegressor(max_depth=5, min_samples_leaf=3, random_state=42)\n",
    "\n",
    "# 使用训练数据进行拟合\n",
    "stack_model.fit(mx_train, train_y)\n",
    "\n",
    "# 在训练集和测试集上进行预测\n",
    "y_pred_train = stack_model.predict(mx_train)\n",
    "y_pred_test = stack_model.predict(mx_test)\n",
    "\n",
    "# 计算RMSE和R2\n",
    "train_rmse = mean_squared_error(train_y, y_pred_train, squared=False)\n",
    "test_rmse = mean_squared_error(test_y, y_pred_test, squared=False)\n",
    "train_r2 = r2_score(train_y, y_pred_train)\n",
    "test_r2 = r2_score(test_y, y_pred_test)\n",
    "\n",
    "# 打印结果\n",
    "print(\"训练集RMSE：\", train_rmse)\n",
    "print(\"测试集RMSE：\", test_rmse)\n",
    "print(\"训练集R2:\", train_r2)\n",
    "print(\"测试集R2:\", test_r2)\n"
   ]
  },
  {
   "cell_type": "code",
   "execution_count": null,
   "id": "6a1f9af4",
   "metadata": {},
   "outputs": [],
   "source": [
    "#gbr梯度提升树模型"
   ]
  },
  {
   "cell_type": "code",
   "execution_count": 222,
   "id": "5042ac72",
   "metadata": {
    "ExecuteTime": {
     "end_time": "2024-03-29T10:20:57.344043Z",
     "start_time": "2024-03-29T10:20:56.726082Z"
    }
   },
   "outputs": [
    {
     "name": "stdout",
     "output_type": "stream",
     "text": [
      "训练集RMSE： 0.13282634067509572\n",
      "测试集RMSE： 0.15297644912952893\n",
      "训练集R2: 0.6725002468168972\n",
      "测试集R2: 0.5587007027169311\n"
     ]
    }
   ],
   "source": [
    "from sklearn.ensemble import GradientBoostingRegressor\n",
    "from sklearn.metrics import mean_squared_error, r2_score\n",
    "\n",
    "# 定义 Gradient Boosting 模型并设置参数\n",
    "stack_model = GradientBoostingRegressor(n_estimators=46, max_depth=5, min_samples_leaf=90,min_samples_split=5, learning_rate=0.02, random_state=42)\n",
    "\n",
    "# 使用训练数据进行拟合\n",
    "stack_model.fit(mx_train, train_y)\n",
    "\n",
    "# 在训练集和测试集上进行预测\n",
    "y_pred_train = stack_model.predict(mx_train)\n",
    "y_pred_test = stack_model.predict(mx_test)\n",
    "\n",
    "# 计算RMSE和R2\n",
    "train_rmse = mean_squared_error(train_y, y_pred_train, squared=False)\n",
    "test_rmse = mean_squared_error(test_y, y_pred_test, squared=False)\n",
    "train_r2 = r2_score(train_y, y_pred_train)\n",
    "test_r2 = r2_score(test_y, y_pred_test)\n",
    "\n",
    "# 打印结果\n",
    "print(\"训练集RMSE：\", train_rmse)\n",
    "print(\"测试集RMSE：\", test_rmse)\n",
    "print(\"训练集R2:\", train_r2)\n",
    "print(\"测试集R2:\", test_r2)\n"
   ]
  },
  {
   "cell_type": "markdown",
   "id": "7c8b6c43",
   "metadata": {},
   "source": [
    "## 模型保存"
   ]
  },
  {
   "cell_type": "code",
   "execution_count": null,
   "id": "57e1ba4b",
   "metadata": {},
   "outputs": [],
   "source": [
    "import pickle\n",
    "\n",
    "with open(\"E:\\\\IT\\\\毕设\\\\result\\\\模型\\\\model_first.pkl\",\"wb\") as f:\n",
    "    pickle.dump({\n",
    "        \"vector\":vector,\n",
    "        \"pca\":pca,\n",
    "        \"sc\":trans,\n",
    "        \"ridge\":ridge,\n",
    "        \"lasso\":lasso,\n",
    "        \"rf\":rf,\n",
    "        \"tree\":tree,\n",
    "        \"bst\":bst,\n",
    "        \"stack\":stack_model\n",
    "    },f)"
   ]
  }
 ],
 "metadata": {
  "kernelspec": {
   "display_name": "neihetipdm",
   "language": "python",
   "name": "neihetipdm"
  },
  "language_info": {
   "codemirror_mode": {
    "name": "ipython",
    "version": 3
   },
   "file_extension": ".py",
   "mimetype": "text/x-python",
   "name": "python",
   "nbconvert_exporter": "python",
   "pygments_lexer": "ipython3",
   "version": "3.10.0"
  },
  "toc": {
   "base_numbering": 1,
   "nav_menu": {},
   "number_sections": true,
   "sideBar": true,
   "skip_h1_title": false,
   "title_cell": "Table of Contents",
   "title_sidebar": "Contents",
   "toc_cell": false,
   "toc_position": {
    "height": "calc(100% - 180px)",
    "left": "10px",
    "top": "150px",
    "width": "297.6px"
   },
   "toc_section_display": true,
   "toc_window_display": true
  }
 },
 "nbformat": 4,
 "nbformat_minor": 5
}
